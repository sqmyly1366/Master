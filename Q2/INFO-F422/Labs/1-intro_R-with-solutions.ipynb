{
 "cells": [
  {
   "cell_type": "markdown",
   "metadata": {},
   "source": [
    "# INFO-F-422 -  Statistical Foundations of Machine Learning \n",
    "\n",
    "### Jacopo De Stefani - __[Jacopo.De.Stefani@ulb.ac.be](mailto:Jacopo.De.Stefani@ulb.ac.be)__\n",
    "### Théo Verhelst - __[Theo.Verhelst@ulb.ac.be](mailto:Theo.Verhelst@ulb.ac.be)__\n",
    "\n",
    "## TP 1 - Introduction to R\n",
    "\n",
    "####  February 09, 2021\n",
    "\n",
    "#### Materials originally developed by *Yann-Aël Le Borgne, Fabrizio Carcillo and Gianluca Bontempi*\n"
   ]
  },
  {
   "cell_type": "markdown",
   "metadata": {
    "collapsed": true
   },
   "source": [
    "## Preliminaries\n",
    "\n",
    "## Course organization - Practical part\n",
    "\n",
    "\n",
    "|    **Date**    |                                            **TP**                                            |             **Format**             |\n",
    "|:----------:|:----------------------------------------------------------------------------------------:|:------------------------------:|\n",
    "| 09/02/2021 |                             TP1 - Introduction to R                             |              Live              |\n",
    "| 09/03/2021 |                               TP2 -Linear models                               |      Publish material TP2      |\n",
    "| 16/03/2021 |                                              -                                            |          Q/A TP2 (1h)         |\n",
    "| 23/03/2021 | TP3 - Classification: Tree-based methods   |      Publish material TP3      |\n",
    "| 30/03/2021 |                      TP4 - Classification: Neural Networks                      | Publish material TP4 + Q/R TP3 |\n",
    "| 06/04/2021 |                                             -                                            |                                |\n",
    "| 13/04/2021 |                                             -                                            |                                |\n",
    "| 20/04/2021 |                          TP5 - Ensembles and feature selection                            | Publish material TP5 + Q/A TP4 |\n",
    "| 27/04/2021 |                         TP6 - Project introduction                         |        Q/A TP5 + Live        |\n",
    "\n",
    "### Non-live sessions\n",
    " 1. We will publish the assignment for the corresponding practical on Tuesday of the given week, as well as a video containing the theoretical reminders for the corresponding practical\n",
    " 2. During the week, we will publish videos containing the detailed solutions for the exercises of the practical\n",
    " 3. If required, the following Tuesday we will organize a live Q/A session to clarify some points.\n",
    " \n",
    " **N.B** For practical reasons, we will be collecting all the questions during the week and answering them **at once** the following week.\n",
    " \n",
    "### Project \n",
    "To be developed in R, using Jupyter Notebooks, in groups of maximum 3 people.\n",
    "More information will follow.\n",
    "\n",
    "### How to install\n",
    "\n",
    "1. **R** -  See https://cran.r-project.org for installation instructions in your OS\n",
    "2. **RStudio** - A user-friendly IDE for R, which can be downloaded for free at https://www.rstudio.com/products/rstudio/#Desktop\n",
    "3. **Python 3.7** - https://www.python.org/downloads/ - A programming language required to install and run Jupyter Notebook. **N.B.** - Check the box asking for adding Python to PATH in the installer (if required). \n",
    "4. **Jupyter Notebook** - https://jupyter.org/install - A web environment allowing to merge code, plots and Markdown in a single document\n",
    "5. **IRkernel** - https://irkernel.github.io/installation/ - A R package required to connect R with Jupyter\n",
    "\n",
    "\n",
    "## Basics\n",
    "\n",
    "### How to start and end - R\n",
    "\n",
    "*  Start R: type `R`in a terminal (CMD/PowerShell on Windows).\n",
    "*  Type `q()` for ending your session.\n",
    "\n",
    "### How to start and end - Jupyter Notebook\n",
    "\n",
    "*  Start Jupyter Notebook: type `jupyter notebook` in a terminal (CMD/PowerShell on Windows).\n",
    "*  Press `CTRL+C` twice in the terminal for shutting down the server\n",
    "\n",
    "\n",
    "### Use R as calculator\n"
   ]
  },
  {
   "cell_type": "code",
   "execution_count": 1,
   "metadata": {
    "ExecuteTime": {
     "end_time": "2021-02-16T09:12:24.598162Z",
     "start_time": "2021-02-16T09:12:24.556Z"
    }
   },
   "outputs": [
    {
     "data": {
      "text/plain": [
       "4"
      ]
     },
     "execution_count": 1,
     "metadata": {},
     "output_type": "execute_result"
    }
   ],
   "source": [
    "2+2"
   ]
  },
  {
   "cell_type": "code",
   "execution_count": 2,
   "metadata": {
    "ExecuteTime": {
     "end_time": "2021-02-16T09:12:24.642168Z",
     "start_time": "2021-02-16T09:12:24.564Z"
    }
   },
   "outputs": [
    {
     "ename": "NameError",
     "evalue": "name 'exp' is not defined",
     "output_type": "error",
     "traceback": [
      "\u001b[1;31m---------------------------------------------------------------------------\u001b[0m",
      "\u001b[1;31mNameError\u001b[0m                                 Traceback (most recent call last)",
      "\u001b[1;32m~\\AppData\\Local\\Temp/ipykernel_824/578668134.py\u001b[0m in \u001b[0;36m<module>\u001b[1;34m\u001b[0m\n\u001b[1;32m----> 1\u001b[1;33m \u001b[0mexp\u001b[0m\u001b[1;33m(\u001b[0m\u001b[1;33m-\u001b[0m\u001b[1;36m2\u001b[0m\u001b[1;33m)\u001b[0m\u001b[1;33m\u001b[0m\u001b[1;33m\u001b[0m\u001b[0m\n\u001b[0m",
      "\u001b[1;31mNameError\u001b[0m: name 'exp' is not defined"
     ]
    }
   ],
   "source": [
    "exp(-2)"
   ]
  },
  {
   "cell_type": "code",
   "execution_count": 122,
   "metadata": {
    "ExecuteTime": {
     "end_time": "2021-02-16T09:12:24.684166Z",
     "start_time": "2021-02-16T09:12:24.573Z"
    }
   },
   "outputs": [
    {
     "data": {
      "text/html": [
       "<style>\n",
       ".list-inline {list-style: none; margin:0; padding: 0}\n",
       ".list-inline>li {display: inline-block}\n",
       ".list-inline>li:not(:last-child)::after {content: \"\\00b7\"; padding: 0 .5ex}\n",
       "</style>\n",
       "<ol class=list-inline><li>-0.492884341187659</li><li>-0.268998913602071</li><li>-0.399240236060148</li><li>-0.944297509896752</li><li>1.01318833182108</li><li>-0.408704068461386</li><li>-0.181086790279949</li><li>1.18375585526481</li><li>-1.6084944913774</li><li>-2.27243986233877</li><li>-2.04060791618362</li><li>-0.648006353798164</li><li>0.717722237473676</li><li>-0.103400011865832</li><li>0.327017361940306</li></ol>\n"
      ],
      "text/latex": [
       "\\begin{enumerate*}\n",
       "\\item -0.492884341187659\n",
       "\\item -0.268998913602071\n",
       "\\item -0.399240236060148\n",
       "\\item -0.944297509896752\n",
       "\\item 1.01318833182108\n",
       "\\item -0.408704068461386\n",
       "\\item -0.181086790279949\n",
       "\\item 1.18375585526481\n",
       "\\item -1.6084944913774\n",
       "\\item -2.27243986233877\n",
       "\\item -2.04060791618362\n",
       "\\item -0.648006353798164\n",
       "\\item 0.717722237473676\n",
       "\\item -0.103400011865832\n",
       "\\item 0.327017361940306\n",
       "\\end{enumerate*}\n"
      ],
      "text/markdown": [
       "1. -0.492884341187659\n",
       "2. -0.268998913602071\n",
       "3. -0.399240236060148\n",
       "4. -0.944297509896752\n",
       "5. 1.01318833182108\n",
       "6. -0.408704068461386\n",
       "7. -0.181086790279949\n",
       "8. 1.18375585526481\n",
       "9. -1.6084944913774\n",
       "10. -2.27243986233877\n",
       "11. -2.04060791618362\n",
       "12. -0.648006353798164\n",
       "13. 0.717722237473676\n",
       "14. -0.103400011865832\n",
       "15. 0.327017361940306\n",
       "\n",
       "\n"
      ],
      "text/plain": [
       " [1] -0.4928843 -0.2689989 -0.3992402 -0.9442975  1.0131883 -0.4087041\n",
       " [7] -0.1810868  1.1837559 -1.6084945 -2.2724399 -2.0406079 -0.6480064\n",
       "[13]  0.7177222 -0.1034000  0.3270174"
      ]
     },
     "metadata": {},
     "output_type": "display_data"
    }
   ],
   "source": [
    "rnorm(15)  # to generate random numbers"
   ]
  },
  {
   "cell_type": "markdown",
   "metadata": {},
   "source": [
    "### Assign values to variables"
   ]
  },
  {
   "cell_type": "code",
   "execution_count": 2,
   "metadata": {
    "ExecuteTime": {
     "end_time": "2021-02-16T09:12:24.793172Z",
     "start_time": "2021-02-16T09:12:24.754Z"
    }
   },
   "outputs": [
    {
     "data": {
      "text/html": [
       "2"
      ],
      "text/latex": [
       "2"
      ],
      "text/markdown": [
       "2"
      ],
      "text/plain": [
       "[1] 2"
      ]
     },
     "metadata": {},
     "output_type": "display_data"
    }
   ],
   "source": [
    "x <- 2\n",
    "x"
   ]
  },
  {
   "cell_type": "code",
   "execution_count": 124,
   "metadata": {
    "ExecuteTime": {
     "end_time": "2021-02-16T09:12:24.836166Z",
     "start_time": "2021-02-16T09:12:24.763Z"
    }
   },
   "outputs": [
    {
     "data": {
      "text/html": [
       "4"
      ],
      "text/latex": [
       "4"
      ],
      "text/markdown": [
       "4"
      ],
      "text/plain": [
       "[1] 4"
      ]
     },
     "metadata": {},
     "output_type": "display_data"
    }
   ],
   "source": [
    "y <- x+x\n",
    "y"
   ]
  },
  {
   "cell_type": "markdown",
   "metadata": {},
   "source": [
    "### Installing and loading libraries"
   ]
  },
  {
   "cell_type": "code",
   "execution_count": 125,
   "metadata": {
    "ExecuteTime": {
     "end_time": "2021-02-16T09:12:24.933166Z",
     "start_time": "2021-02-16T09:12:24.899Z"
    }
   },
   "outputs": [],
   "source": [
    "install.packages(\"ISwR\")\n",
    "# uncomment previous line to install package\n",
    "library(ISwR)"
   ]
  },
  {
   "cell_type": "markdown",
   "metadata": {},
   "source": [
    "### Naming conventions\n",
    "\n",
    "*  The variables are case-sensitive, can contain a dot (.) and numbers (but cannot start with a number or with a dot followed by a number).\n",
    "*  The names `c,q,t,C,D,F,I,T,diff,df,pt` in particular, are already used by the system and should therefore be avoided.\n",
    "\n",
    "## Vectors and matrices\n",
    "\n",
    "### Defining a vector\n",
    "\n",
    "Vectors can be of any type: integer, double, character, logical, resulting from relational expressions:"
   ]
  },
  {
   "cell_type": "code",
   "execution_count": 126,
   "metadata": {
    "ExecuteTime": {
     "end_time": "2021-02-16T09:12:25.050178Z",
     "start_time": "2021-02-16T09:12:25.010Z"
    }
   },
   "outputs": [
    {
     "data": {
      "text/html": [
       "<style>\n",
       ".list-inline {list-style: none; margin:0; padding: 0}\n",
       ".list-inline>li {display: inline-block}\n",
       ".list-inline>li:not(:last-child)::after {content: \"\\00b7\"; padding: 0 .5ex}\n",
       "</style>\n",
       "<ol class=list-inline><li>FALSE</li><li>FALSE</li><li>FALSE</li><li>TRUE</li></ol>\n"
      ],
      "text/latex": [
       "\\begin{enumerate*}\n",
       "\\item FALSE\n",
       "\\item FALSE\n",
       "\\item FALSE\n",
       "\\item TRUE\n",
       "\\end{enumerate*}\n"
      ],
      "text/markdown": [
       "1. FALSE\n",
       "2. FALSE\n",
       "3. FALSE\n",
       "4. TRUE\n",
       "\n",
       "\n"
      ],
      "text/plain": [
       "[1] FALSE FALSE FALSE  TRUE"
      ]
     },
     "metadata": {},
     "output_type": "display_data"
    }
   ],
   "source": [
    "w<-c(1,2,3,4)\n",
    "x<-c(1.5,2.5,3.5,3.5)\n",
    "y<-c(\"Huey\",\"Dewey\",\"Loui\")\n",
    "z<-c(T,F,F,T)\n",
    "wx<- w>x\n",
    "wx"
   ]
  },
  {
   "cell_type": "markdown",
   "metadata": {},
   "source": [
    "There exists different functions to define a vector: element wise `c(val_1,...,val_n)`, as a sequence between two values `seq(val_1,val_2)` and as $n$ repetitions of the same element `rep(val,n)`."
   ]
  },
  {
   "cell_type": "code",
   "execution_count": 127,
   "metadata": {
    "ExecuteTime": {
     "end_time": "2021-02-16T09:12:25.170165Z",
     "start_time": "2021-02-16T09:12:25.136Z"
    }
   },
   "outputs": [
    {
     "data": {
      "text/html": [
       "<style>\n",
       ".list-inline {list-style: none; margin:0; padding: 0}\n",
       ".list-inline>li {display: inline-block}\n",
       ".list-inline>li:not(:last-child)::after {content: \"\\00b7\"; padding: 0 .5ex}\n",
       "</style>\n",
       "<ol class=list-inline><li>1</li><li>2</li><li>3</li><li>4</li></ol>\n"
      ],
      "text/latex": [
       "\\begin{enumerate*}\n",
       "\\item 1\n",
       "\\item 2\n",
       "\\item 3\n",
       "\\item 4\n",
       "\\end{enumerate*}\n"
      ],
      "text/markdown": [
       "1. 1\n",
       "2. 2\n",
       "3. 3\n",
       "4. 4\n",
       "\n",
       "\n"
      ],
      "text/plain": [
       "[1] 1 2 3 4"
      ]
     },
     "metadata": {},
     "output_type": "display_data"
    }
   ],
   "source": [
    "w<-c(1,2,3,4)\n",
    "w"
   ]
  },
  {
   "cell_type": "code",
   "execution_count": 3,
   "metadata": {
    "ExecuteTime": {
     "end_time": "2021-02-16T09:12:25.205179Z",
     "start_time": "2021-02-16T09:12:25.142Z"
    }
   },
   "outputs": [
    {
     "data": {
      "text/html": [
       "<ol class=list-inline>\n",
       "\t<li>1</li>\n",
       "\t<li>3</li>\n",
       "</ol>\n"
      ],
      "text/latex": [
       "\\begin{enumerate*}\n",
       "\\item 1\n",
       "\\item 3\n",
       "\\end{enumerate*}\n"
      ],
      "text/markdown": [
       "1. 1\n",
       "2. 3\n",
       "\n",
       "\n"
      ],
      "text/plain": [
       "[1] 1 3"
      ]
     },
     "metadata": {},
     "output_type": "display_data"
    }
   ],
   "source": [
    "x<-seq(1,4,2)\n",
    "x"
   ]
  },
  {
   "cell_type": "code",
   "execution_count": 129,
   "metadata": {
    "ExecuteTime": {
     "end_time": "2021-02-16T09:12:25.243203Z",
     "start_time": "2021-02-16T09:12:25.151Z"
    }
   },
   "outputs": [
    {
     "data": {
      "text/html": [
       "<style>\n",
       ".list-inline {list-style: none; margin:0; padding: 0}\n",
       ".list-inline>li {display: inline-block}\n",
       ".list-inline>li:not(:last-child)::after {content: \"\\00b7\"; padding: 0 .5ex}\n",
       "</style>\n",
       "<ol class=list-inline><li>1</li><li>1</li><li>1</li><li>1</li></ol>\n"
      ],
      "text/latex": [
       "\\begin{enumerate*}\n",
       "\\item 1\n",
       "\\item 1\n",
       "\\item 1\n",
       "\\item 1\n",
       "\\end{enumerate*}\n"
      ],
      "text/markdown": [
       "1. 1\n",
       "2. 1\n",
       "3. 1\n",
       "4. 1\n",
       "\n",
       "\n"
      ],
      "text/plain": [
       "[1] 1 1 1 1"
      ]
     },
     "metadata": {},
     "output_type": "display_data"
    }
   ],
   "source": [
    "y<-rep(1,4)\n",
    "y"
   ]
  },
  {
   "cell_type": "markdown",
   "metadata": {},
   "source": [
    "### Exercises\n",
    "\n",
    "Generate the following vectors \n",
    "\n",
    "* 1 3 5\n",
    "* 1 2 2 2 3 3 3 3 3\n",
    "\n",
    "using only the functions `rep` and `seq` (no  `c(..)`), check the help by typing `?rep` and `?seq` for all parameter options.\n",
    "\n",
    "#### Solution"
   ]
  },
  {
   "cell_type": "code",
   "execution_count": 130,
   "metadata": {
    "ExecuteTime": {
     "end_time": "2021-02-16T09:12:25.333169Z",
     "start_time": "2021-02-16T09:12:25.295Z"
    }
   },
   "outputs": [
    {
     "data": {
      "text/html": [
       "<style>\n",
       ".list-inline {list-style: none; margin:0; padding: 0}\n",
       ".list-inline>li {display: inline-block}\n",
       ".list-inline>li:not(:last-child)::after {content: \"\\00b7\"; padding: 0 .5ex}\n",
       "</style>\n",
       "<ol class=list-inline><li>1</li><li>3</li><li>5</li></ol>\n"
      ],
      "text/latex": [
       "\\begin{enumerate*}\n",
       "\\item 1\n",
       "\\item 3\n",
       "\\item 5\n",
       "\\end{enumerate*}\n"
      ],
      "text/markdown": [
       "1. 1\n",
       "2. 3\n",
       "3. 5\n",
       "\n",
       "\n"
      ],
      "text/plain": [
       "[1] 1 3 5"
      ]
     },
     "metadata": {},
     "output_type": "display_data"
    }
   ],
   "source": [
    "seq(1,5,2)"
   ]
  },
  {
   "cell_type": "code",
   "execution_count": 131,
   "metadata": {
    "ExecuteTime": {
     "end_time": "2021-02-16T09:12:25.367165Z",
     "start_time": "2021-02-16T09:12:25.303Z"
    }
   },
   "outputs": [
    {
     "data": {
      "text/html": [
       "<style>\n",
       ".list-inline {list-style: none; margin:0; padding: 0}\n",
       ".list-inline>li {display: inline-block}\n",
       ".list-inline>li:not(:last-child)::after {content: \"\\00b7\"; padding: 0 .5ex}\n",
       "</style>\n",
       "<ol class=list-inline><li>1</li><li>2</li><li>2</li><li>2</li><li>3</li><li>3</li><li>3</li><li>3</li><li>3</li></ol>\n"
      ],
      "text/latex": [
       "\\begin{enumerate*}\n",
       "\\item 1\n",
       "\\item 2\n",
       "\\item 2\n",
       "\\item 2\n",
       "\\item 3\n",
       "\\item 3\n",
       "\\item 3\n",
       "\\item 3\n",
       "\\item 3\n",
       "\\end{enumerate*}\n"
      ],
      "text/markdown": [
       "1. 1\n",
       "2. 2\n",
       "3. 2\n",
       "4. 2\n",
       "5. 3\n",
       "6. 3\n",
       "7. 3\n",
       "8. 3\n",
       "9. 3\n",
       "\n",
       "\n"
      ],
      "text/plain": [
       "[1] 1 2 2 2 3 3 3 3 3"
      ]
     },
     "metadata": {},
     "output_type": "display_data"
    }
   ],
   "source": [
    "rep(seq(1,3), seq(1,5,2))"
   ]
  },
  {
   "cell_type": "markdown",
   "metadata": {},
   "source": [
    "### Vector arithmetics"
   ]
  },
  {
   "cell_type": "code",
   "execution_count": 32,
   "metadata": {
    "ExecuteTime": {
     "end_time": "2021-02-16T09:12:25.474177Z",
     "start_time": "2021-02-16T09:12:25.438Z"
    }
   },
   "outputs": [
    {
     "data": {
      "text/html": [
       "<ol class=list-inline>\n",
       "\t<li>19.5918367346939</li>\n",
       "\t<li>22.2222222222222</li>\n",
       "\t<li>20.9366391184573</li>\n",
       "\t<li>24.9307479224377</li>\n",
       "\t<li>31.3779891663364</li>\n",
       "\t<li>19.7363010882377</li>\n",
       "\t<li>21.0076677987465</li>\n",
       "</ol>\n"
      ],
      "text/latex": [
       "\\begin{enumerate*}\n",
       "\\item 19.5918367346939\n",
       "\\item 22.2222222222222\n",
       "\\item 20.9366391184573\n",
       "\\item 24.9307479224377\n",
       "\\item 31.3779891663364\n",
       "\\item 19.7363010882377\n",
       "\\item 21.0076677987465\n",
       "\\end{enumerate*}\n"
      ],
      "text/markdown": [
       "1. 19.5918367346939\n",
       "2. 22.2222222222222\n",
       "3. 20.9366391184573\n",
       "4. 24.9307479224377\n",
       "5. 31.3779891663364\n",
       "6. 19.7363010882377\n",
       "7. 21.0076677987465\n",
       "\n",
       "\n"
      ],
      "text/plain": [
       "[1] 19.59184 22.22222 20.93664 24.93075 31.37799 19.73630 21.00767"
      ]
     },
     "metadata": {},
     "output_type": "display_data"
    }
   ],
   "source": [
    "weight <- c(60, 72, 57, 90, 95, 72,60)\n",
    "height <- c(1.75, 1.80, 1.65, 1.90, 1.74, 1.91,1.69)\n",
    "bmi <- weight/height^2\n",
    "bmi"
   ]
  },
  {
   "cell_type": "markdown",
   "metadata": {},
   "source": [
    "### Exercises\n",
    "\n",
    "*  Compute the adjusted BMI using the formula $bmi_2=\\frac{weight}{height^{2.5}/1.3}$ and store it in a variable  `bmi2` \n",
    "\n",
    "#### Solution\n"
   ]
  },
  {
   "cell_type": "code",
   "execution_count": 133,
   "metadata": {
    "ExecuteTime": {
     "end_time": "2021-02-16T09:12:25.598168Z",
     "start_time": "2021-02-16T09:12:25.567Z"
    }
   },
   "outputs": [
    {
     "data": {
      "text/html": [
       "<style>\n",
       ".list-inline {list-style: none; margin:0; padding: 0}\n",
       ".list-inline>li {display: inline-block}\n",
       ".list-inline>li:not(:last-child)::after {content: \"\\00b7\"; padding: 0 .5ex}\n",
       "</style>\n",
       "<ol class=list-inline><li>19.2530474414496</li><li>21.532506449998</li><li>21.1888968824128</li><li>23.5126651697705</li><li>30.9238698579715</li><li>18.5648921508102</li><li>21.0076677987465</li></ol>\n"
      ],
      "text/latex": [
       "\\begin{enumerate*}\n",
       "\\item 19.2530474414496\n",
       "\\item 21.532506449998\n",
       "\\item 21.1888968824128\n",
       "\\item 23.5126651697705\n",
       "\\item 30.9238698579715\n",
       "\\item 18.5648921508102\n",
       "\\item 21.0076677987465\n",
       "\\end{enumerate*}\n"
      ],
      "text/markdown": [
       "1. 19.2530474414496\n",
       "2. 21.532506449998\n",
       "3. 21.1888968824128\n",
       "4. 23.5126651697705\n",
       "5. 30.9238698579715\n",
       "6. 18.5648921508102\n",
       "7. 21.0076677987465\n",
       "\n",
       "\n"
      ],
      "text/plain": [
       "[1] 19.25305 21.53251 21.18890 23.51267 30.92387 18.56489 21.00767"
      ]
     },
     "metadata": {},
     "output_type": "display_data"
    }
   ],
   "source": [
    "weight/(height^2.5/1.3)"
   ]
  },
  {
   "cell_type": "markdown",
   "metadata": {},
   "source": [
    "### Functions for vectors\n",
    "\n",
    "There exists a lot of predefined functions for a vector `v`, these include the following"
   ]
  },
  {
   "cell_type": "code",
   "execution_count": 4,
   "metadata": {
    "ExecuteTime": {
     "end_time": "2021-02-16T09:12:25.725165Z",
     "start_time": "2021-02-16T09:12:25.691Z"
    }
   },
   "outputs": [
    {
     "data": {
      "text/html": [
       "15"
      ],
      "text/latex": [
       "15"
      ],
      "text/markdown": [
       "15"
      ],
      "text/plain": [
       "[1] 15"
      ]
     },
     "metadata": {},
     "output_type": "display_data"
    }
   ],
   "source": [
    "v<-seq(5,1)\n",
    "sum(v)"
   ]
  },
  {
   "cell_type": "code",
   "execution_count": 5,
   "metadata": {
    "ExecuteTime": {
     "end_time": "2021-02-16T09:12:25.758174Z",
     "start_time": "2021-02-16T09:12:25.698Z"
    }
   },
   "outputs": [
    {
     "data": {
      "text/html": [
       "5"
      ],
      "text/latex": [
       "5"
      ],
      "text/markdown": [
       "5"
      ],
      "text/plain": [
       "[1] 5"
      ]
     },
     "metadata": {},
     "output_type": "display_data"
    }
   ],
   "source": [
    "length(v)"
   ]
  },
  {
   "cell_type": "code",
   "execution_count": 6,
   "metadata": {
    "ExecuteTime": {
     "end_time": "2021-02-16T09:12:25.796165Z",
     "start_time": "2021-02-16T09:12:25.704Z"
    }
   },
   "outputs": [
    {
     "data": {
      "text/html": [
       "<ol class=list-inline>\n",
       "\t<li>1</li>\n",
       "\t<li>2</li>\n",
       "\t<li>3</li>\n",
       "\t<li>4</li>\n",
       "\t<li>5</li>\n",
       "</ol>\n"
      ],
      "text/latex": [
       "\\begin{enumerate*}\n",
       "\\item 1\n",
       "\\item 2\n",
       "\\item 3\n",
       "\\item 4\n",
       "\\item 5\n",
       "\\end{enumerate*}\n"
      ],
      "text/markdown": [
       "1. 1\n",
       "2. 2\n",
       "3. 3\n",
       "4. 4\n",
       "5. 5\n",
       "\n",
       "\n"
      ],
      "text/plain": [
       "[1] 1 2 3 4 5"
      ]
     },
     "metadata": {},
     "output_type": "display_data"
    }
   ],
   "source": [
    "sort(v)"
   ]
  },
  {
   "cell_type": "code",
   "execution_count": 7,
   "metadata": {
    "ExecuteTime": {
     "end_time": "2021-02-16T09:12:25.829164Z",
     "start_time": "2021-02-16T09:12:25.709Z"
    }
   },
   "outputs": [
    {
     "data": {
      "text/html": [
       "<ol class=list-inline>\n",
       "\t<li>5</li>\n",
       "\t<li>4</li>\n",
       "\t<li>3</li>\n",
       "\t<li>2</li>\n",
       "\t<li>1</li>\n",
       "</ol>\n"
      ],
      "text/latex": [
       "\\begin{enumerate*}\n",
       "\\item 5\n",
       "\\item 4\n",
       "\\item 3\n",
       "\\item 2\n",
       "\\item 1\n",
       "\\end{enumerate*}\n"
      ],
      "text/markdown": [
       "1. 5\n",
       "2. 4\n",
       "3. 3\n",
       "4. 2\n",
       "5. 1\n",
       "\n",
       "\n"
      ],
      "text/plain": [
       "[1] 5 4 3 2 1"
      ]
     },
     "metadata": {},
     "output_type": "display_data"
    }
   ],
   "source": [
    "order(v)"
   ]
  },
  {
   "cell_type": "code",
   "execution_count": 8,
   "metadata": {
    "ExecuteTime": {
     "end_time": "2021-02-16T09:12:25.865164Z",
     "start_time": "2021-02-16T09:12:25.715Z"
    }
   },
   "outputs": [
    {
     "data": {
      "text/html": [
       "120"
      ],
      "text/latex": [
       "120"
      ],
      "text/markdown": [
       "120"
      ],
      "text/plain": [
       "[1] 120"
      ]
     },
     "metadata": {},
     "output_type": "display_data"
    }
   ],
   "source": [
    "prod(v)"
   ]
  },
  {
   "cell_type": "code",
   "execution_count": 9,
   "metadata": {
    "ExecuteTime": {
     "end_time": "2021-02-16T09:12:25.898172Z",
     "start_time": "2021-02-16T09:12:25.721Z"
    }
   },
   "outputs": [
    {
     "data": {
      "text/html": [
       "3"
      ],
      "text/latex": [
       "3"
      ],
      "text/markdown": [
       "3"
      ],
      "text/plain": [
       "[1] 3"
      ]
     },
     "metadata": {},
     "output_type": "display_data"
    }
   ],
   "source": [
    "mean(v)"
   ]
  },
  {
   "cell_type": "code",
   "execution_count": 10,
   "metadata": {
    "ExecuteTime": {
     "end_time": "2021-02-16T09:12:25.931166Z",
     "start_time": "2021-02-16T09:12:25.731Z"
    }
   },
   "outputs": [
    {
     "data": {
      "text/html": [
       "1.58113883008419"
      ],
      "text/latex": [
       "1.58113883008419"
      ],
      "text/markdown": [
       "1.58113883008419"
      ],
      "text/plain": [
       "[1] 1.581139"
      ]
     },
     "metadata": {},
     "output_type": "display_data"
    }
   ],
   "source": [
    "sd(v) "
   ]
  },
  {
   "cell_type": "markdown",
   "metadata": {},
   "source": [
    "###  Defining matrices\n",
    "\n",
    "*  In R, matrices (2 dimensions) and arrays (more than 2 dimensions) can contain elements of any type (characters, etc.)\n",
    "*  The `dim` assignment function sets or changes the *dimension attribute* of a vector `x`, causing R to treat the vector as a matrix.\n"
   ]
  },
  {
   "cell_type": "code",
   "execution_count": 11,
   "metadata": {
    "ExecuteTime": {
     "end_time": "2021-02-16T09:12:25.973181Z",
     "start_time": "2021-02-16T09:12:25.891Z"
    }
   },
   "outputs": [
    {
     "data": {
      "text/html": [
       "<table>\n",
       "<tbody>\n",
       "\t<tr><td>1 </td><td>4 </td><td>7 </td><td>10</td></tr>\n",
       "\t<tr><td>2 </td><td>5 </td><td>8 </td><td>11</td></tr>\n",
       "\t<tr><td>3 </td><td>6 </td><td>9 </td><td>12</td></tr>\n",
       "</tbody>\n",
       "</table>\n"
      ],
      "text/latex": [
       "\\begin{tabular}{llll}\n",
       "\t 1  & 4  & 7  & 10\\\\\n",
       "\t 2  & 5  & 8  & 11\\\\\n",
       "\t 3  & 6  & 9  & 12\\\\\n",
       "\\end{tabular}\n"
      ],
      "text/markdown": [
       "\n",
       "| 1  | 4  | 7  | 10 |\n",
       "| 2  | 5  | 8  | 11 |\n",
       "| 3  | 6  | 9  | 12 |\n",
       "\n"
      ],
      "text/plain": [
       "     [,1] [,2] [,3] [,4]\n",
       "[1,] 1    4    7    10  \n",
       "[2,] 2    5    8    11  \n",
       "[3,] 3    6    9    12  "
      ]
     },
     "metadata": {},
     "output_type": "display_data"
    }
   ],
   "source": [
    "x <- 1:12\n",
    "dim(x) <- c(3,4)\n",
    "x"
   ]
  },
  {
   "cell_type": "markdown",
   "metadata": {},
   "source": [
    "*  Other possibilities to create matrices using the `matrix(...)` command:"
   ]
  },
  {
   "cell_type": "code",
   "execution_count": 13,
   "metadata": {
    "ExecuteTime": {
     "end_time": "2021-02-16T09:12:26.055165Z",
     "start_time": "2021-02-16T09:12:26.021Z"
    }
   },
   "outputs": [
    {
     "data": {
      "text/html": [
       "<table>\n",
       "<tbody>\n",
       "\t<tr><td>1 </td><td> 2</td><td> 3</td><td> 4</td></tr>\n",
       "\t<tr><td>5 </td><td> 6</td><td> 7</td><td> 8</td></tr>\n",
       "\t<tr><td>9 </td><td>10</td><td>11</td><td>12</td></tr>\n",
       "</tbody>\n",
       "</table>\n"
      ],
      "text/latex": [
       "\\begin{tabular}{llll}\n",
       "\t 1  &  2 &  3 &  4\\\\\n",
       "\t 5  &  6 &  7 &  8\\\\\n",
       "\t 9  & 10 & 11 & 12\\\\\n",
       "\\end{tabular}\n"
      ],
      "text/markdown": [
       "\n",
       "| 1  |  2 |  3 |  4 |\n",
       "| 5  |  6 |  7 |  8 |\n",
       "| 9  | 10 | 11 | 12 |\n",
       "\n"
      ],
      "text/plain": [
       "     [,1] [,2] [,3] [,4]\n",
       "[1,] 1     2    3    4  \n",
       "[2,] 5     6    7    8  \n",
       "[3,] 9    10   11   12  "
      ]
     },
     "metadata": {},
     "output_type": "display_data"
    }
   ],
   "source": [
    "matrix(1:12, nr=3, byrow=T)"
   ]
  },
  {
   "cell_type": "code",
   "execution_count": 14,
   "metadata": {
    "ExecuteTime": {
     "end_time": "2021-02-16T09:12:26.101163Z",
     "start_time": "2021-02-16T09:12:26.029Z"
    }
   },
   "outputs": [
    {
     "data": {
      "text/html": [
       "<table>\n",
       "<tbody>\n",
       "\t<tr><td>1  </td><td>1  </td><td>1  </td><td>1  </td><td>1  </td><td>1  </td><td>1  </td><td>1  </td><td>1  </td><td>1  </td><td>...</td><td>1  </td><td>1  </td><td>1  </td><td>1  </td><td>1  </td><td>1  </td><td>1  </td><td>1  </td><td>1  </td><td>1  </td></tr>\n",
       "\t<tr><td>1  </td><td>1  </td><td>1  </td><td>1  </td><td>1  </td><td>1  </td><td>1  </td><td>1  </td><td>1  </td><td>1  </td><td>...</td><td>1  </td><td>1  </td><td>1  </td><td>1  </td><td>1  </td><td>1  </td><td>1  </td><td>1  </td><td>1  </td><td>1  </td></tr>\n",
       "\t<tr><td>1  </td><td>1  </td><td>1  </td><td>1  </td><td>1  </td><td>1  </td><td>1  </td><td>1  </td><td>1  </td><td>1  </td><td>...</td><td>1  </td><td>1  </td><td>1  </td><td>1  </td><td>1  </td><td>1  </td><td>1  </td><td>1  </td><td>1  </td><td>1  </td></tr>\n",
       "\t<tr><td>1  </td><td>1  </td><td>1  </td><td>1  </td><td>1  </td><td>1  </td><td>1  </td><td>1  </td><td>1  </td><td>1  </td><td>...</td><td>1  </td><td>1  </td><td>1  </td><td>1  </td><td>1  </td><td>1  </td><td>1  </td><td>1  </td><td>1  </td><td>1  </td></tr>\n",
       "\t<tr><td>1  </td><td>1  </td><td>1  </td><td>1  </td><td>1  </td><td>1  </td><td>1  </td><td>1  </td><td>1  </td><td>1  </td><td>...</td><td>1  </td><td>1  </td><td>1  </td><td>1  </td><td>1  </td><td>1  </td><td>1  </td><td>1  </td><td>1  </td><td>1  </td></tr>\n",
       "\t<tr><td>1  </td><td>1  </td><td>1  </td><td>1  </td><td>1  </td><td>1  </td><td>1  </td><td>1  </td><td>1  </td><td>1  </td><td>...</td><td>1  </td><td>1  </td><td>1  </td><td>1  </td><td>1  </td><td>1  </td><td>1  </td><td>1  </td><td>1  </td><td>1  </td></tr>\n",
       "</tbody>\n",
       "</table>\n"
      ],
      "text/latex": [
       "\\begin{tabular}{llllllllllllllllllllllllllllllllllllllllllllllllllllllllllllllllllllll}\n",
       "\t 1   & 1   & 1   & 1   & 1   & 1   & 1   & 1   & 1   & 1   & ... & 1   & 1   & 1   & 1   & 1   & 1   & 1   & 1   & 1   & 1  \\\\\n",
       "\t 1   & 1   & 1   & 1   & 1   & 1   & 1   & 1   & 1   & 1   & ... & 1   & 1   & 1   & 1   & 1   & 1   & 1   & 1   & 1   & 1  \\\\\n",
       "\t 1   & 1   & 1   & 1   & 1   & 1   & 1   & 1   & 1   & 1   & ... & 1   & 1   & 1   & 1   & 1   & 1   & 1   & 1   & 1   & 1  \\\\\n",
       "\t 1   & 1   & 1   & 1   & 1   & 1   & 1   & 1   & 1   & 1   & ... & 1   & 1   & 1   & 1   & 1   & 1   & 1   & 1   & 1   & 1  \\\\\n",
       "\t 1   & 1   & 1   & 1   & 1   & 1   & 1   & 1   & 1   & 1   & ... & 1   & 1   & 1   & 1   & 1   & 1   & 1   & 1   & 1   & 1  \\\\\n",
       "\t 1   & 1   & 1   & 1   & 1   & 1   & 1   & 1   & 1   & 1   & ... & 1   & 1   & 1   & 1   & 1   & 1   & 1   & 1   & 1   & 1  \\\\\n",
       "\\end{tabular}\n"
      ],
      "text/markdown": [
       "\n",
       "| 1   | 1   | 1   | 1   | 1   | 1   | 1   | 1   | 1   | 1   | ... | 1   | 1   | 1   | 1   | 1   | 1   | 1   | 1   | 1   | 1   |\n",
       "| 1   | 1   | 1   | 1   | 1   | 1   | 1   | 1   | 1   | 1   | ... | 1   | 1   | 1   | 1   | 1   | 1   | 1   | 1   | 1   | 1   |\n",
       "| 1   | 1   | 1   | 1   | 1   | 1   | 1   | 1   | 1   | 1   | ... | 1   | 1   | 1   | 1   | 1   | 1   | 1   | 1   | 1   | 1   |\n",
       "| 1   | 1   | 1   | 1   | 1   | 1   | 1   | 1   | 1   | 1   | ... | 1   | 1   | 1   | 1   | 1   | 1   | 1   | 1   | 1   | 1   |\n",
       "| 1   | 1   | 1   | 1   | 1   | 1   | 1   | 1   | 1   | 1   | ... | 1   | 1   | 1   | 1   | 1   | 1   | 1   | 1   | 1   | 1   |\n",
       "| 1   | 1   | 1   | 1   | 1   | 1   | 1   | 1   | 1   | 1   | ... | 1   | 1   | 1   | 1   | 1   | 1   | 1   | 1   | 1   | 1   |\n",
       "\n"
      ],
      "text/plain": [
       "     [,1] [,2] [,3] [,4] [,5] [,6] [,7] [,8] [,9] [,10] [,11] [,12] [,13] [,14]\n",
       "[1,] 1    1    1    1    1    1    1    1    1    1     ...   1     1     1    \n",
       "[2,] 1    1    1    1    1    1    1    1    1    1     ...   1     1     1    \n",
       "[3,] 1    1    1    1    1    1    1    1    1    1     ...   1     1     1    \n",
       "[4,] 1    1    1    1    1    1    1    1    1    1     ...   1     1     1    \n",
       "[5,] 1    1    1    1    1    1    1    1    1    1     ...   1     1     1    \n",
       "[6,] 1    1    1    1    1    1    1    1    1    1     ...   1     1     1    \n",
       "     [,15] [,16] [,17] [,18] [,19] [,20] [,21]\n",
       "[1,] 1     1     1     1     1     1     1    \n",
       "[2,] 1     1     1     1     1     1     1    \n",
       "[3,] 1     1     1     1     1     1     1    \n",
       "[4,] 1     1     1     1     1     1     1    \n",
       "[5,] 1     1     1     1     1     1     1    \n",
       "[6,] 1     1     1     1     1     1     1    "
      ]
     },
     "metadata": {},
     "output_type": "display_data"
    }
   ],
   "source": [
    "matrix(1,6,70)"
   ]
  },
  {
   "cell_type": "markdown",
   "metadata": {},
   "source": [
    "*  Using the `array` command:"
   ]
  },
  {
   "cell_type": "code",
   "execution_count": 15,
   "metadata": {
    "ExecuteTime": {
     "end_time": "2021-02-16T09:12:26.188171Z",
     "start_time": "2021-02-16T09:12:26.155Z"
    }
   },
   "outputs": [
    {
     "data": {
      "text/html": [
       "<table>\n",
       "<thead><tr><th></th><th scope=col>1</th><th scope=col>2</th><th scope=col>3</th><th scope=col>4</th></tr></thead>\n",
       "<tbody>\n",
       "\t<tr><th scope=row>a</th><td>1 </td><td>4 </td><td>7 </td><td>10</td></tr>\n",
       "\t<tr><th scope=row>b</th><td>2 </td><td>5 </td><td>8 </td><td>11</td></tr>\n",
       "\t<tr><th scope=row>c</th><td>3 </td><td>6 </td><td>9 </td><td>12</td></tr>\n",
       "</tbody>\n",
       "</table>\n"
      ],
      "text/latex": [
       "\\begin{tabular}{r|llll}\n",
       "  & 1 & 2 & 3 & 4\\\\\n",
       "\\hline\n",
       "\ta & 1  & 4  & 7  & 10\\\\\n",
       "\tb & 2  & 5  & 8  & 11\\\\\n",
       "\tc & 3  & 6  & 9  & 12\\\\\n",
       "\\end{tabular}\n"
      ],
      "text/markdown": [
       "\n",
       "| <!--/--> | 1 | 2 | 3 | 4 |\n",
       "|---|---|---|---|---|\n",
       "| a | 1  | 4  | 7  | 10 |\n",
       "| b | 2  | 5  | 8  | 11 |\n",
       "| c | 3  | 6  | 9  | 12 |\n",
       "\n"
      ],
      "text/plain": [
       "  1 2 3 4 \n",
       "a 1 4 7 10\n",
       "b 2 5 8 11\n",
       "c 3 6 9 12"
      ]
     },
     "metadata": {},
     "output_type": "display_data"
    }
   ],
   "source": [
    "array(1:12,dim=c(3,4),dimnames=list(c(\"a\",\"b\",\"c\"),seq(1,4)))"
   ]
  },
  {
   "cell_type": "markdown",
   "metadata": {},
   "source": [
    "*  Renaming of rows and transpose of a matrix"
   ]
  },
  {
   "cell_type": "code",
   "execution_count": 21,
   "metadata": {
    "ExecuteTime": {
     "end_time": "2021-02-16T09:12:26.312166Z",
     "start_time": "2021-02-16T09:12:26.275Z"
    }
   },
   "outputs": [
    {
     "data": {
      "text/html": [
       "<table>\n",
       "<thead><tr><th></th><th scope=col>A</th><th scope=col>B</th><th scope=col>C</th><th scope=col>D</th></tr></thead>\n",
       "<tbody>\n",
       "\t<tr><th scope=row>A</th><td>1 </td><td> 2</td><td> 3</td><td> 4</td></tr>\n",
       "\t<tr><th scope=row>B</th><td>5 </td><td> 6</td><td> 7</td><td> 8</td></tr>\n",
       "\t<tr><th scope=row>C</th><td>9 </td><td>10</td><td>11</td><td>12</td></tr>\n",
       "</tbody>\n",
       "</table>\n"
      ],
      "text/latex": [
       "\\begin{tabular}{r|llll}\n",
       "  & A & B & C & D\\\\\n",
       "\\hline\n",
       "\tA & 1  &  2 &  3 &  4\\\\\n",
       "\tB & 5  &  6 &  7 &  8\\\\\n",
       "\tC & 9  & 10 & 11 & 12\\\\\n",
       "\\end{tabular}\n"
      ],
      "text/markdown": [
       "\n",
       "| <!--/--> | A | B | C | D |\n",
       "|---|---|---|---|---|\n",
       "| A | 1  |  2 |  3 |  4 |\n",
       "| B | 5  |  6 |  7 |  8 |\n",
       "| C | 9  | 10 | 11 | 12 |\n",
       "\n"
      ],
      "text/plain": [
       "  A B  C  D \n",
       "A 1  2  3  4\n",
       "B 5  6  7  8\n",
       "C 9 10 11 12"
      ]
     },
     "metadata": {},
     "output_type": "display_data"
    }
   ],
   "source": [
    "x <- matrix(1:12, nr=3, byrow=T)\n",
    "rownames(x) <- LETTERS[1:3]\n",
    "colnames(x) <- LETTERS[1:4]\n",
    "x"
   ]
  },
  {
   "cell_type": "markdown",
   "metadata": {},
   "source": [
    "*  \"Glueing\" vectors together: functions `rbind()` and `cbind()` (row- and columnwise respectively)\n"
   ]
  },
  {
   "cell_type": "code",
   "execution_count": 24,
   "metadata": {
    "ExecuteTime": {
     "end_time": "2021-02-16T09:12:26.439170Z",
     "start_time": "2021-02-16T09:12:26.400Z"
    }
   },
   "outputs": [
    {
     "data": {
      "text/html": [
       "<table>\n",
       "<thead><tr><th scope=col>A</th><th scope=col>B</th><th scope=col>C</th></tr></thead>\n",
       "<tbody>\n",
       "\t<tr><td>1 </td><td>5 </td><td> 9</td></tr>\n",
       "\t<tr><td>2 </td><td>6 </td><td>10</td></tr>\n",
       "\t<tr><td>3 </td><td>7 </td><td>11</td></tr>\n",
       "\t<tr><td>4 </td><td>8 </td><td>12</td></tr>\n",
       "</tbody>\n",
       "</table>\n"
      ],
      "text/latex": [
       "\\begin{tabular}{lll}\n",
       " A & B & C\\\\\n",
       "\\hline\n",
       "\t 1  & 5  &  9\\\\\n",
       "\t 2  & 6  & 10\\\\\n",
       "\t 3  & 7  & 11\\\\\n",
       "\t 4  & 8  & 12\\\\\n",
       "\\end{tabular}\n"
      ],
      "text/markdown": [
       "\n",
       "| A | B | C |\n",
       "|---|---|---|\n",
       "| 1  | 5  |  9 |\n",
       "| 2  | 6  | 10 |\n",
       "| 3  | 7  | 11 |\n",
       "| 4  | 8  | 12 |\n",
       "\n"
      ],
      "text/plain": [
       "     A B C \n",
       "[1,] 1 5  9\n",
       "[2,] 2 6 10\n",
       "[3,] 3 7 11\n",
       "[4,] 4 8 12"
      ]
     },
     "metadata": {},
     "output_type": "display_data"
    }
   ],
   "source": [
    "cbind(A=1:4, B=5:8, C=9:12)"
   ]
  },
  {
   "cell_type": "code",
   "execution_count": 25,
   "metadata": {
    "ExecuteTime": {
     "end_time": "2021-02-16T09:12:26.492165Z",
     "start_time": "2021-02-16T09:12:26.408Z"
    }
   },
   "outputs": [
    {
     "data": {
      "text/html": [
       "<table>\n",
       "<tbody>\n",
       "\t<tr><th scope=row>A</th><td>1 </td><td> 2</td><td> 3</td><td> 4</td></tr>\n",
       "\t<tr><th scope=row>B</th><td>5 </td><td> 6</td><td> 7</td><td> 8</td></tr>\n",
       "\t<tr><th scope=row>C</th><td>9 </td><td>10</td><td>11</td><td>12</td></tr>\n",
       "</tbody>\n",
       "</table>\n"
      ],
      "text/latex": [
       "\\begin{tabular}{r|llll}\n",
       "\tA & 1  &  2 &  3 &  4\\\\\n",
       "\tB & 5  &  6 &  7 &  8\\\\\n",
       "\tC & 9  & 10 & 11 & 12\\\\\n",
       "\\end{tabular}\n"
      ],
      "text/markdown": [
       "\n",
       "| A | 1  |  2 |  3 |  4 |\n",
       "| B | 5  |  6 |  7 |  8 |\n",
       "| C | 9  | 10 | 11 | 12 |\n",
       "\n"
      ],
      "text/plain": [
       "  [,1] [,2] [,3] [,4]\n",
       "A 1     2    3    4  \n",
       "B 5     6    7    8  \n",
       "C 9    10   11   12  "
      ]
     },
     "metadata": {},
     "output_type": "display_data"
    }
   ],
   "source": [
    "rbind(A=1:4, B=5:8, C=9:12)"
   ]
  },
  {
   "cell_type": "markdown",
   "metadata": {},
   "source": [
    "### Matrix functions\n",
    "\n",
    "*  matrix product, inversion and transpose"
   ]
  },
  {
   "cell_type": "code",
   "execution_count": 26,
   "metadata": {
    "ExecuteTime": {
     "end_time": "2021-02-16T09:12:26.577178Z",
     "start_time": "2021-02-16T09:12:26.540Z"
    }
   },
   "outputs": [
    {
     "data": {
      "text/html": [
       "<table>\n",
       "<tbody>\n",
       "\t<tr><td>1</td><td>2</td></tr>\n",
       "\t<tr><td>3</td><td>4</td></tr>\n",
       "</tbody>\n",
       "</table>\n"
      ],
      "text/latex": [
       "\\begin{tabular}{ll}\n",
       "\t 1 & 2\\\\\n",
       "\t 3 & 4\\\\\n",
       "\\end{tabular}\n"
      ],
      "text/markdown": [
       "\n",
       "| 1 | 2 |\n",
       "| 3 | 4 |\n",
       "\n"
      ],
      "text/plain": [
       "     [,1] [,2]\n",
       "[1,] 1    2   \n",
       "[2,] 3    4   "
      ]
     },
     "metadata": {},
     "output_type": "display_data"
    }
   ],
   "source": [
    "a <- matrix(1:4, 2, 2, byrow = T)\n",
    "a"
   ]
  },
  {
   "cell_type": "code",
   "execution_count": 27,
   "metadata": {},
   "outputs": [
    {
     "data": {
      "text/html": [
       "<table>\n",
       "<tbody>\n",
       "\t<tr><td>1 </td><td> 4</td></tr>\n",
       "\t<tr><td>9 </td><td>16</td></tr>\n",
       "</tbody>\n",
       "</table>\n"
      ],
      "text/latex": [
       "\\begin{tabular}{ll}\n",
       "\t 1  &  4\\\\\n",
       "\t 9  & 16\\\\\n",
       "\\end{tabular}\n"
      ],
      "text/markdown": [
       "\n",
       "| 1  |  4 |\n",
       "| 9  | 16 |\n",
       "\n"
      ],
      "text/plain": [
       "     [,1] [,2]\n",
       "[1,] 1     4  \n",
       "[2,] 9    16  "
      ]
     },
     "metadata": {},
     "output_type": "display_data"
    }
   ],
   "source": [
    "a*a"
   ]
  },
  {
   "cell_type": "code",
   "execution_count": 28,
   "metadata": {
    "ExecuteTime": {
     "end_time": "2021-02-16T09:12:26.618184Z",
     "start_time": "2021-02-16T09:12:26.547Z"
    }
   },
   "outputs": [
    {
     "data": {
      "text/html": [
       "<table>\n",
       "<tbody>\n",
       "\t<tr><td> 7</td><td>10</td></tr>\n",
       "\t<tr><td>15</td><td>22</td></tr>\n",
       "</tbody>\n",
       "</table>\n"
      ],
      "text/latex": [
       "\\begin{tabular}{ll}\n",
       "\t  7 & 10\\\\\n",
       "\t 15 & 22\\\\\n",
       "\\end{tabular}\n"
      ],
      "text/markdown": [
       "\n",
       "|  7 | 10 |\n",
       "| 15 | 22 |\n",
       "\n"
      ],
      "text/plain": [
       "     [,1] [,2]\n",
       "[1,]  7   10  \n",
       "[2,] 15   22  "
      ]
     },
     "metadata": {},
     "output_type": "display_data"
    }
   ],
   "source": [
    "## matrix product\n",
    "a%*%a"
   ]
  },
  {
   "cell_type": "code",
   "execution_count": 29,
   "metadata": {
    "ExecuteTime": {
     "end_time": "2021-02-16T09:12:26.658162Z",
     "start_time": "2021-02-16T09:12:26.553Z"
    }
   },
   "outputs": [
    {
     "data": {
      "text/html": [
       "<table>\n",
       "<tbody>\n",
       "\t<tr><td>-2.0</td><td> 1.0</td></tr>\n",
       "\t<tr><td> 1.5</td><td>-0.5</td></tr>\n",
       "</tbody>\n",
       "</table>\n"
      ],
      "text/latex": [
       "\\begin{tabular}{ll}\n",
       "\t -2.0 &  1.0\\\\\n",
       "\t  1.5 & -0.5\\\\\n",
       "\\end{tabular}\n"
      ],
      "text/markdown": [
       "\n",
       "| -2.0 |  1.0 |\n",
       "|  1.5 | -0.5 |\n",
       "\n"
      ],
      "text/plain": [
       "     [,1] [,2]\n",
       "[1,] -2.0  1.0\n",
       "[2,]  1.5 -0.5"
      ]
     },
     "metadata": {},
     "output_type": "display_data"
    }
   ],
   "source": [
    "## inverse matrix\n",
    "solve(a)"
   ]
  },
  {
   "cell_type": "code",
   "execution_count": 30,
   "metadata": {
    "ExecuteTime": {
     "end_time": "2021-02-16T09:12:26.698163Z",
     "start_time": "2021-02-16T09:12:26.561Z"
    }
   },
   "outputs": [
    {
     "data": {
      "text/html": [
       "<table>\n",
       "<tbody>\n",
       "\t<tr><td>1</td><td>3</td></tr>\n",
       "\t<tr><td>2</td><td>4</td></tr>\n",
       "</tbody>\n",
       "</table>\n"
      ],
      "text/latex": [
       "\\begin{tabular}{ll}\n",
       "\t 1 & 3\\\\\n",
       "\t 2 & 4\\\\\n",
       "\\end{tabular}\n"
      ],
      "text/markdown": [
       "\n",
       "| 1 | 3 |\n",
       "| 2 | 4 |\n",
       "\n"
      ],
      "text/plain": [
       "     [,1] [,2]\n",
       "[1,] 1    3   \n",
       "[2,] 2    4   "
      ]
     },
     "metadata": {},
     "output_type": "display_data"
    }
   ],
   "source": [
    "## transpose of a matrix\n",
    "t(a)"
   ]
  },
  {
   "cell_type": "markdown",
   "metadata": {},
   "source": [
    "### Indexing\n",
    "\n",
    "*  Allows to select a particular element in a vector, take as example `height`."
   ]
  },
  {
   "cell_type": "code",
   "execution_count": 33,
   "metadata": {
    "ExecuteTime": {
     "end_time": "2021-02-16T09:12:26.754169Z",
     "start_time": "2021-02-16T09:12:26.723Z"
    }
   },
   "outputs": [
    {
     "data": {
      "text/html": [
       "<ol class=list-inline>\n",
       "\t<li>1.75</li>\n",
       "\t<li>1.8</li>\n",
       "\t<li>1.65</li>\n",
       "\t<li>1.9</li>\n",
       "\t<li>1.74</li>\n",
       "\t<li>1.91</li>\n",
       "\t<li>1.69</li>\n",
       "</ol>\n"
      ],
      "text/latex": [
       "\\begin{enumerate*}\n",
       "\\item 1.75\n",
       "\\item 1.8\n",
       "\\item 1.65\n",
       "\\item 1.9\n",
       "\\item 1.74\n",
       "\\item 1.91\n",
       "\\item 1.69\n",
       "\\end{enumerate*}\n"
      ],
      "text/markdown": [
       "1. 1.75\n",
       "2. 1.8\n",
       "3. 1.65\n",
       "4. 1.9\n",
       "5. 1.74\n",
       "6. 1.91\n",
       "7. 1.69\n",
       "\n",
       "\n"
      ],
      "text/plain": [
       "[1] 1.75 1.80 1.65 1.90 1.74 1.91 1.69"
      ]
     },
     "metadata": {},
     "output_type": "display_data"
    }
   ],
   "source": [
    "height"
   ]
  },
  {
   "cell_type": "markdown",
   "metadata": {},
   "source": [
    "*  To access the fifth element"
   ]
  },
  {
   "cell_type": "code",
   "execution_count": 36,
   "metadata": {
    "ExecuteTime": {
     "end_time": "2021-02-16T09:12:26.895166Z",
     "start_time": "2021-02-16T09:12:26.859Z"
    }
   },
   "outputs": [
    {
     "data": {
      "text/html": [
       "1.74"
      ],
      "text/latex": [
       "1.74"
      ],
      "text/markdown": [
       "1.74"
      ],
      "text/plain": [
       "[1] 1.74"
      ]
     },
     "metadata": {},
     "output_type": "display_data"
    }
   ],
   "source": [
    "height[5]"
   ]
  },
  {
   "cell_type": "markdown",
   "metadata": {},
   "source": [
    "*  To access several elements in one step"
   ]
  },
  {
   "cell_type": "code",
   "execution_count": 37,
   "metadata": {
    "ExecuteTime": {
     "end_time": "2021-02-16T09:12:27.029168Z",
     "start_time": "2021-02-16T09:12:26.998Z"
    }
   },
   "outputs": [
    {
     "data": {
      "text/html": [
       "<ol class=list-inline>\n",
       "\t<li>1.65</li>\n",
       "\t<li>1.74</li>\n",
       "\t<li>1.69</li>\n",
       "</ol>\n"
      ],
      "text/latex": [
       "\\begin{enumerate*}\n",
       "\\item 1.65\n",
       "\\item 1.74\n",
       "\\item 1.69\n",
       "\\end{enumerate*}\n"
      ],
      "text/markdown": [
       "1. 1.65\n",
       "2. 1.74\n",
       "3. 1.69\n",
       "\n",
       "\n"
      ],
      "text/plain": [
       "[1] 1.65 1.74 1.69"
      ]
     },
     "metadata": {},
     "output_type": "display_data"
    }
   ],
   "source": [
    "height[c(3,5,7)]"
   ]
  },
  {
   "cell_type": "code",
   "execution_count": 38,
   "metadata": {
    "ExecuteTime": {
     "end_time": "2021-02-16T09:12:27.087165Z",
     "start_time": "2021-02-16T09:12:27.004Z"
    }
   },
   "outputs": [
    {
     "data": {
      "text/html": [
       "<ol class=list-inline>\n",
       "\t<li>1.65</li>\n",
       "\t<li>1.74</li>\n",
       "\t<li>1.69</li>\n",
       "</ol>\n"
      ],
      "text/latex": [
       "\\begin{enumerate*}\n",
       "\\item 1.65\n",
       "\\item 1.74\n",
       "\\item 1.69\n",
       "\\end{enumerate*}\n"
      ],
      "text/markdown": [
       "1. 1.65\n",
       "2. 1.74\n",
       "3. 1.69\n",
       "\n",
       "\n"
      ],
      "text/plain": [
       "[1] 1.65 1.74 1.69"
      ]
     },
     "metadata": {},
     "output_type": "display_data"
    }
   ],
   "source": [
    "v<-c(3,5,7)\n",
    "height[v]\n"
   ]
  },
  {
   "cell_type": "markdown",
   "metadata": {},
   "source": [
    "*  Remove elements from a vector"
   ]
  },
  {
   "cell_type": "code",
   "execution_count": 39,
   "metadata": {
    "ExecuteTime": {
     "end_time": "2021-02-16T09:12:27.217169Z",
     "start_time": "2021-02-16T09:12:27.177Z"
    }
   },
   "outputs": [
    {
     "data": {
      "text/html": [
       "<ol class=list-inline>\n",
       "\t<li>1.75</li>\n",
       "\t<li>1.8</li>\n",
       "\t<li>1.9</li>\n",
       "\t<li>1.91</li>\n",
       "</ol>\n"
      ],
      "text/latex": [
       "\\begin{enumerate*}\n",
       "\\item 1.75\n",
       "\\item 1.8\n",
       "\\item 1.9\n",
       "\\item 1.91\n",
       "\\end{enumerate*}\n"
      ],
      "text/markdown": [
       "1. 1.75\n",
       "2. 1.8\n",
       "3. 1.9\n",
       "4. 1.91\n",
       "\n",
       "\n"
      ],
      "text/plain": [
       "[1] 1.75 1.80 1.90 1.91"
      ]
     },
     "metadata": {},
     "output_type": "display_data"
    }
   ],
   "source": [
    "height[-c(3,5,7)]"
   ]
  },
  {
   "cell_type": "markdown",
   "metadata": {},
   "source": [
    "*  Conditional selection"
   ]
  },
  {
   "cell_type": "code",
   "execution_count": 40,
   "metadata": {
    "ExecuteTime": {
     "end_time": "2021-02-16T09:12:27.376168Z",
     "start_time": "2021-02-16T09:12:27.342Z"
    }
   },
   "outputs": [
    {
     "data": {
      "text/html": [
       "<ol class=list-inline>\n",
       "\t<li>1.75</li>\n",
       "\t<li>1.8</li>\n",
       "\t<li>1.9</li>\n",
       "\t<li>1.74</li>\n",
       "\t<li>1.91</li>\n",
       "</ol>\n"
      ],
      "text/latex": [
       "\\begin{enumerate*}\n",
       "\\item 1.75\n",
       "\\item 1.8\n",
       "\\item 1.9\n",
       "\\item 1.74\n",
       "\\item 1.91\n",
       "\\end{enumerate*}\n"
      ],
      "text/markdown": [
       "1. 1.75\n",
       "2. 1.8\n",
       "3. 1.9\n",
       "4. 1.74\n",
       "5. 1.91\n",
       "\n",
       "\n"
      ],
      "text/plain": [
       "[1] 1.75 1.80 1.90 1.74 1.91"
      ]
     },
     "metadata": {},
     "output_type": "display_data"
    }
   ],
   "source": [
    "height[height>1.70]"
   ]
  },
  {
   "cell_type": "code",
   "execution_count": 41,
   "metadata": {
    "ExecuteTime": {
     "end_time": "2021-02-16T09:12:27.415172Z",
     "start_time": "2021-02-16T09:12:27.349Z"
    }
   },
   "outputs": [
    {
     "data": {
      "text/html": [
       "<ol class=list-inline>\n",
       "\t<li>1.75</li>\n",
       "\t<li>1.8</li>\n",
       "\t<li>1.74</li>\n",
       "</ol>\n"
      ],
      "text/latex": [
       "\\begin{enumerate*}\n",
       "\\item 1.75\n",
       "\\item 1.8\n",
       "\\item 1.74\n",
       "\\end{enumerate*}\n"
      ],
      "text/markdown": [
       "1. 1.75\n",
       "2. 1.8\n",
       "3. 1.74\n",
       "\n",
       "\n"
      ],
      "text/plain": [
       "[1] 1.75 1.80 1.74"
      ]
     },
     "metadata": {},
     "output_type": "display_data"
    }
   ],
   "source": [
    "height[height>1.70 & height <1.90]"
   ]
  },
  {
   "cell_type": "code",
   "execution_count": 42,
   "metadata": {},
   "outputs": [],
   "source": [
    "?sort"
   ]
  },
  {
   "cell_type": "markdown",
   "metadata": {},
   "source": [
    "### Exercises\n",
    "\n",
    "Use the `sort` function to sort the vector `height` by decreasing order of weight\n",
    "\n",
    "#### Solution"
   ]
  },
  {
   "cell_type": "code",
   "execution_count": 43,
   "metadata": {
    "ExecuteTime": {
     "end_time": "2021-02-16T09:12:27.543174Z",
     "start_time": "2021-02-16T09:12:27.513Z"
    }
   },
   "outputs": [],
   "source": [
    "index<-sort(weight,decreasing=T,index.return=T)"
   ]
  },
  {
   "cell_type": "code",
   "execution_count": 49,
   "metadata": {},
   "outputs": [
    {
     "data": {
      "text/html": [
       "<dl>\n",
       "\t<dt>$x</dt>\n",
       "\t\t<dd><ol class=list-inline>\n",
       "\t<li>95</li>\n",
       "\t<li>90</li>\n",
       "\t<li>72</li>\n",
       "\t<li>72</li>\n",
       "\t<li>60</li>\n",
       "\t<li>60</li>\n",
       "\t<li>57</li>\n",
       "</ol>\n",
       "</dd>\n",
       "\t<dt>$ix</dt>\n",
       "\t\t<dd><ol class=list-inline>\n",
       "\t<li>5</li>\n",
       "\t<li>4</li>\n",
       "\t<li>2</li>\n",
       "\t<li>6</li>\n",
       "\t<li>1</li>\n",
       "\t<li>7</li>\n",
       "\t<li>3</li>\n",
       "</ol>\n",
       "</dd>\n",
       "</dl>\n"
      ],
      "text/latex": [
       "\\begin{description}\n",
       "\\item[\\$x] \\begin{enumerate*}\n",
       "\\item 95\n",
       "\\item 90\n",
       "\\item 72\n",
       "\\item 72\n",
       "\\item 60\n",
       "\\item 60\n",
       "\\item 57\n",
       "\\end{enumerate*}\n",
       "\n",
       "\\item[\\$ix] \\begin{enumerate*}\n",
       "\\item 5\n",
       "\\item 4\n",
       "\\item 2\n",
       "\\item 6\n",
       "\\item 1\n",
       "\\item 7\n",
       "\\item 3\n",
       "\\end{enumerate*}\n",
       "\n",
       "\\end{description}\n"
      ],
      "text/markdown": [
       "$x\n",
       ":   1. 95\n",
       "2. 90\n",
       "3. 72\n",
       "4. 72\n",
       "5. 60\n",
       "6. 60\n",
       "7. 57\n",
       "\n",
       "\n",
       "\n",
       "$ix\n",
       ":   1. 5\n",
       "2. 4\n",
       "3. 2\n",
       "4. 6\n",
       "5. 1\n",
       "6. 7\n",
       "7. 3\n",
       "\n",
       "\n",
       "\n",
       "\n",
       "\n"
      ],
      "text/plain": [
       "$x\n",
       "[1] 95 90 72 72 60 60 57\n",
       "\n",
       "$ix\n",
       "[1] 5 4 2 6 1 7 3\n"
      ]
     },
     "metadata": {},
     "output_type": "display_data"
    }
   ],
   "source": [
    "index"
   ]
  },
  {
   "cell_type": "code",
   "execution_count": 50,
   "metadata": {},
   "outputs": [
    {
     "data": {
      "text/html": [
       "<ol class=list-inline>\n",
       "\t<li>5</li>\n",
       "\t<li>4</li>\n",
       "\t<li>2</li>\n",
       "\t<li>6</li>\n",
       "\t<li>1</li>\n",
       "\t<li>7</li>\n",
       "\t<li>3</li>\n",
       "</ol>\n"
      ],
      "text/latex": [
       "\\begin{enumerate*}\n",
       "\\item 5\n",
       "\\item 4\n",
       "\\item 2\n",
       "\\item 6\n",
       "\\item 1\n",
       "\\item 7\n",
       "\\item 3\n",
       "\\end{enumerate*}\n"
      ],
      "text/markdown": [
       "1. 5\n",
       "2. 4\n",
       "3. 2\n",
       "4. 6\n",
       "5. 1\n",
       "6. 7\n",
       "7. 3\n",
       "\n",
       "\n"
      ],
      "text/plain": [
       "[1] 5 4 2 6 1 7 3"
      ]
     },
     "metadata": {},
     "output_type": "display_data"
    }
   ],
   "source": [
    "index$ix"
   ]
  },
  {
   "cell_type": "code",
   "execution_count": 46,
   "metadata": {},
   "outputs": [
    {
     "data": {
      "text/html": [
       "<ol class=list-inline>\n",
       "\t<li>1.74</li>\n",
       "\t<li>1.9</li>\n",
       "\t<li>1.8</li>\n",
       "\t<li>1.91</li>\n",
       "\t<li>1.75</li>\n",
       "\t<li>1.69</li>\n",
       "\t<li>1.65</li>\n",
       "</ol>\n"
      ],
      "text/latex": [
       "\\begin{enumerate*}\n",
       "\\item 1.74\n",
       "\\item 1.9\n",
       "\\item 1.8\n",
       "\\item 1.91\n",
       "\\item 1.75\n",
       "\\item 1.69\n",
       "\\item 1.65\n",
       "\\end{enumerate*}\n"
      ],
      "text/markdown": [
       "1. 1.74\n",
       "2. 1.9\n",
       "3. 1.8\n",
       "4. 1.91\n",
       "5. 1.75\n",
       "6. 1.69\n",
       "7. 1.65\n",
       "\n",
       "\n"
      ],
      "text/plain": [
       "[1] 1.74 1.90 1.80 1.91 1.75 1.69 1.65"
      ]
     },
     "metadata": {},
     "output_type": "display_data"
    }
   ],
   "source": [
    "height[index$ix]"
   ]
  },
  {
   "cell_type": "markdown",
   "metadata": {},
   "source": [
    "## Factors, lists & data frames\n",
    "\n",
    "### Factors\n",
    "\n",
    "*  *Factors* are the categorial variables (see `enum` in C++). They make it possible to assign meaningful names to the categories.\n",
    "*  A factor is said to have a set of *levels*.\n",
    "*  Ex: a factor has four levels. It consists of two items: a vector of integers between 1 and 4 and a character vector of length 4 containing strings describing what the four levels are.\n"
   ]
  },
  {
   "cell_type": "code",
   "execution_count": 55,
   "metadata": {
    "ExecuteTime": {
     "end_time": "2021-02-16T09:12:27.696165Z",
     "start_time": "2021-02-16T09:12:27.660Z"
    }
   },
   "outputs": [
    {
     "data": {
      "text/html": [
       "<ol class=list-inline>\n",
       "\t<li>non</li>\n",
       "\t<li>severe</li>\n",
       "\t<li>medium</li>\n",
       "\t<li>medium</li>\n",
       "\t<li>mild</li>\n",
       "\t<li>non</li>\n",
       "\t<li>severe</li>\n",
       "\t<li>medium</li>\n",
       "\t<li>medium</li>\n",
       "\t<li>mild</li>\n",
       "</ol>\n",
       "\n",
       "<details>\n",
       "\t<summary style=display:list-item;cursor:pointer>\n",
       "\t\t<strong>Levels</strong>:\n",
       "\t</summary>\n",
       "\t<ol class=list-inline>\n",
       "\t\t<li>'non'</li>\n",
       "\t\t<li>'mild'</li>\n",
       "\t\t<li>'medium'</li>\n",
       "\t\t<li>'severe'</li>\n",
       "\t</ol>\n",
       "</details>"
      ],
      "text/latex": [
       "\\begin{enumerate*}\n",
       "\\item non\n",
       "\\item severe\n",
       "\\item medium\n",
       "\\item medium\n",
       "\\item mild\n",
       "\\item non\n",
       "\\item severe\n",
       "\\item medium\n",
       "\\item medium\n",
       "\\item mild\n",
       "\\end{enumerate*}\n",
       "\n",
       "\\emph{Levels}: \\begin{enumerate*}\n",
       "\\item 'non'\n",
       "\\item 'mild'\n",
       "\\item 'medium'\n",
       "\\item 'severe'\n",
       "\\end{enumerate*}\n"
      ],
      "text/markdown": [
       "1. non\n",
       "2. severe\n",
       "3. medium\n",
       "4. medium\n",
       "5. mild\n",
       "6. non\n",
       "7. severe\n",
       "8. medium\n",
       "9. medium\n",
       "10. mild\n",
       "\n",
       "\n",
       "\n",
       "**Levels**: 1. 'non'\n",
       "2. 'mild'\n",
       "3. 'medium'\n",
       "4. 'severe'\n",
       "\n",
       "\n"
      ],
      "text/plain": [
       " [1] non    severe medium medium mild   non    severe medium medium mild  \n",
       "Levels: non mild medium severe"
      ]
     },
     "metadata": {},
     "output_type": "display_data"
    }
   ],
   "source": [
    "pain <- c(0,3,2,2,1,0,3,2,2,1)\n",
    "fpain <- factor(pain, levels=0:3)\n",
    "levels(fpain) <- c(\"non\", \"mild\", \"medium\", \"severe\")\n",
    "fpain"
   ]
  },
  {
   "cell_type": "markdown",
   "metadata": {},
   "source": [
    "*    `fpain` is a categorial variable."
   ]
  },
  {
   "cell_type": "code",
   "execution_count": 56,
   "metadata": {
    "ExecuteTime": {
     "end_time": "2021-02-16T09:12:27.834168Z",
     "start_time": "2021-02-16T09:12:27.798Z"
    }
   },
   "outputs": [
    {
     "data": {
      "text/html": [
       "<ol class=list-inline>\n",
       "\t<li>non</li>\n",
       "\t<li>severe</li>\n",
       "\t<li>medium</li>\n",
       "\t<li>medium</li>\n",
       "\t<li>mild</li>\n",
       "\t<li>non</li>\n",
       "\t<li>severe</li>\n",
       "\t<li>medium</li>\n",
       "\t<li>medium</li>\n",
       "\t<li>mild</li>\n",
       "</ol>\n",
       "\n",
       "<details>\n",
       "\t<summary style=display:list-item;cursor:pointer>\n",
       "\t\t<strong>Levels</strong>:\n",
       "\t</summary>\n",
       "\t<ol class=list-inline>\n",
       "\t\t<li>'non'</li>\n",
       "\t\t<li>'mild'</li>\n",
       "\t\t<li>'medium'</li>\n",
       "\t\t<li>'severe'</li>\n",
       "\t</ol>\n",
       "</details>"
      ],
      "text/latex": [
       "\\begin{enumerate*}\n",
       "\\item non\n",
       "\\item severe\n",
       "\\item medium\n",
       "\\item medium\n",
       "\\item mild\n",
       "\\item non\n",
       "\\item severe\n",
       "\\item medium\n",
       "\\item medium\n",
       "\\item mild\n",
       "\\end{enumerate*}\n",
       "\n",
       "\\emph{Levels}: \\begin{enumerate*}\n",
       "\\item 'non'\n",
       "\\item 'mild'\n",
       "\\item 'medium'\n",
       "\\item 'severe'\n",
       "\\end{enumerate*}\n"
      ],
      "text/markdown": [
       "1. non\n",
       "2. severe\n",
       "3. medium\n",
       "4. medium\n",
       "5. mild\n",
       "6. non\n",
       "7. severe\n",
       "8. medium\n",
       "9. medium\n",
       "10. mild\n",
       "\n",
       "\n",
       "\n",
       "**Levels**: 1. 'non'\n",
       "2. 'mild'\n",
       "3. 'medium'\n",
       "4. 'severe'\n",
       "\n",
       "\n"
      ],
      "text/plain": [
       " [1] non    severe medium medium mild   non    severe medium medium mild  \n",
       "Levels: non mild medium severe"
      ]
     },
     "metadata": {},
     "output_type": "display_data"
    }
   ],
   "source": [
    "fpain"
   ]
  },
  {
   "cell_type": "code",
   "execution_count": 57,
   "metadata": {
    "ExecuteTime": {
     "end_time": "2021-02-16T09:12:27.870183Z",
     "start_time": "2021-02-16T09:12:27.805Z"
    }
   },
   "outputs": [
    {
     "data": {
      "text/html": [
       "<ol class=list-inline>\n",
       "\t<li>1</li>\n",
       "\t<li>4</li>\n",
       "\t<li>3</li>\n",
       "\t<li>3</li>\n",
       "\t<li>2</li>\n",
       "\t<li>1</li>\n",
       "\t<li>4</li>\n",
       "\t<li>3</li>\n",
       "\t<li>3</li>\n",
       "\t<li>2</li>\n",
       "</ol>\n"
      ],
      "text/latex": [
       "\\begin{enumerate*}\n",
       "\\item 1\n",
       "\\item 4\n",
       "\\item 3\n",
       "\\item 3\n",
       "\\item 2\n",
       "\\item 1\n",
       "\\item 4\n",
       "\\item 3\n",
       "\\item 3\n",
       "\\item 2\n",
       "\\end{enumerate*}\n"
      ],
      "text/markdown": [
       "1. 1\n",
       "2. 4\n",
       "3. 3\n",
       "4. 3\n",
       "5. 2\n",
       "6. 1\n",
       "7. 4\n",
       "8. 3\n",
       "9. 3\n",
       "10. 2\n",
       "\n",
       "\n"
      ],
      "text/plain": [
       " [1] 1 4 3 3 2 1 4 3 3 2"
      ]
     },
     "metadata": {},
     "output_type": "display_data"
    }
   ],
   "source": [
    "as.numeric(fpain)\n"
   ]
  },
  {
   "cell_type": "code",
   "execution_count": 58,
   "metadata": {
    "ExecuteTime": {
     "end_time": "2021-02-16T09:12:27.903165Z",
     "start_time": "2021-02-16T09:12:27.811Z"
    }
   },
   "outputs": [
    {
     "data": {
      "text/html": [
       "<ol class=list-inline>\n",
       "\t<li>'non'</li>\n",
       "\t<li>'mild'</li>\n",
       "\t<li>'medium'</li>\n",
       "\t<li>'severe'</li>\n",
       "</ol>\n"
      ],
      "text/latex": [
       "\\begin{enumerate*}\n",
       "\\item 'non'\n",
       "\\item 'mild'\n",
       "\\item 'medium'\n",
       "\\item 'severe'\n",
       "\\end{enumerate*}\n"
      ],
      "text/markdown": [
       "1. 'non'\n",
       "2. 'mild'\n",
       "3. 'medium'\n",
       "4. 'severe'\n",
       "\n",
       "\n"
      ],
      "text/plain": [
       "[1] \"non\"    \"mild\"   \"medium\" \"severe\""
      ]
     },
     "metadata": {},
     "output_type": "display_data"
    }
   ],
   "source": [
    "levels(fpain)\n"
   ]
  },
  {
   "cell_type": "markdown",
   "metadata": {},
   "source": [
    "### Lists\n",
    "\n",
    "*  Useful to combine a collection of objects into a larger composite object.\n",
    "*  The following data concern pre- and postmenstrual energy intake in a group of women.\n"
   ]
  },
  {
   "cell_type": "code",
   "execution_count": 60,
   "metadata": {
    "ExecuteTime": {
     "end_time": "2021-02-16T09:12:28.012167Z",
     "start_time": "2021-02-16T09:12:27.984Z"
    }
   },
   "outputs": [],
   "source": [
    "intake.pre <- c(5260, 5470, 5640, 6180, 6390,6515, 6805, 7515, 7515, 8230, 8770)\n",
    "intake.post <- c(3910, 4220, 3885, 5160, 5645,4680, 5265, 5975, 6790, 6900, 7335)"
   ]
  },
  {
   "cell_type": "markdown",
   "metadata": {},
   "source": [
    "*  Combine the vectors into a list\n"
   ]
  },
  {
   "cell_type": "code",
   "execution_count": 63,
   "metadata": {
    "ExecuteTime": {
     "end_time": "2021-02-16T09:12:28.153164Z",
     "start_time": "2021-02-16T09:12:28.119Z"
    }
   },
   "outputs": [
    {
     "data": {
      "text/html": [
       "<dl>\n",
       "\t<dt>$before</dt>\n",
       "\t\t<dd><ol class=list-inline>\n",
       "\t<li>5260</li>\n",
       "\t<li>5470</li>\n",
       "\t<li>5640</li>\n",
       "\t<li>6180</li>\n",
       "\t<li>6390</li>\n",
       "\t<li>6515</li>\n",
       "\t<li>6805</li>\n",
       "\t<li>7515</li>\n",
       "\t<li>7515</li>\n",
       "\t<li>8230</li>\n",
       "\t<li>8770</li>\n",
       "</ol>\n",
       "</dd>\n",
       "\t<dt>$after</dt>\n",
       "\t\t<dd><ol class=list-inline>\n",
       "\t<li>3910</li>\n",
       "\t<li>4220</li>\n",
       "\t<li>3885</li>\n",
       "\t<li>5160</li>\n",
       "\t<li>5645</li>\n",
       "\t<li>4680</li>\n",
       "\t<li>5265</li>\n",
       "\t<li>5975</li>\n",
       "\t<li>6790</li>\n",
       "\t<li>6900</li>\n",
       "\t<li>7335</li>\n",
       "</ol>\n",
       "</dd>\n",
       "</dl>\n"
      ],
      "text/latex": [
       "\\begin{description}\n",
       "\\item[\\$before] \\begin{enumerate*}\n",
       "\\item 5260\n",
       "\\item 5470\n",
       "\\item 5640\n",
       "\\item 6180\n",
       "\\item 6390\n",
       "\\item 6515\n",
       "\\item 6805\n",
       "\\item 7515\n",
       "\\item 7515\n",
       "\\item 8230\n",
       "\\item 8770\n",
       "\\end{enumerate*}\n",
       "\n",
       "\\item[\\$after] \\begin{enumerate*}\n",
       "\\item 3910\n",
       "\\item 4220\n",
       "\\item 3885\n",
       "\\item 5160\n",
       "\\item 5645\n",
       "\\item 4680\n",
       "\\item 5265\n",
       "\\item 5975\n",
       "\\item 6790\n",
       "\\item 6900\n",
       "\\item 7335\n",
       "\\end{enumerate*}\n",
       "\n",
       "\\end{description}\n"
      ],
      "text/markdown": [
       "$before\n",
       ":   1. 5260\n",
       "2. 5470\n",
       "3. 5640\n",
       "4. 6180\n",
       "5. 6390\n",
       "6. 6515\n",
       "7. 6805\n",
       "8. 7515\n",
       "9. 7515\n",
       "10. 8230\n",
       "11. 8770\n",
       "\n",
       "\n",
       "\n",
       "$after\n",
       ":   1. 3910\n",
       "2. 4220\n",
       "3. 3885\n",
       "4. 5160\n",
       "5. 5645\n",
       "6. 4680\n",
       "7. 5265\n",
       "8. 5975\n",
       "9. 6790\n",
       "10. 6900\n",
       "11. 7335\n",
       "\n",
       "\n",
       "\n",
       "\n",
       "\n"
      ],
      "text/plain": [
       "$before\n",
       " [1] 5260 5470 5640 6180 6390 6515 6805 7515 7515 8230 8770\n",
       "\n",
       "$after\n",
       " [1] 3910 4220 3885 5160 5645 4680 5265 5975 6790 6900 7335\n"
      ]
     },
     "metadata": {},
     "output_type": "display_data"
    }
   ],
   "source": [
    "mylist <- list(\"before\"=intake.pre, \"after\"=intake.post)\n",
    "mylist"
   ]
  },
  {
   "cell_type": "markdown",
   "metadata": {},
   "source": [
    "*  The components of the list are named according to the arguments' names used in *list*  (in the example `before` and `after`). Named components may be extracted as follows \n"
   ]
  },
  {
   "cell_type": "code",
   "execution_count": 166,
   "metadata": {
    "ExecuteTime": {
     "end_time": "2021-02-16T09:12:28.302194Z",
     "start_time": "2021-02-16T09:12:28.272Z"
    }
   },
   "outputs": [
    {
     "data": {
      "text/html": [
       "<style>\n",
       ".list-inline {list-style: none; margin:0; padding: 0}\n",
       ".list-inline>li {display: inline-block}\n",
       ".list-inline>li:not(:last-child)::after {content: \"\\00b7\"; padding: 0 .5ex}\n",
       "</style>\n",
       "<ol class=list-inline><li>5260</li><li>5470</li><li>5640</li><li>6180</li><li>6390</li><li>6515</li><li>6805</li><li>7515</li><li>7515</li><li>8230</li><li>8770</li></ol>\n"
      ],
      "text/latex": [
       "\\begin{enumerate*}\n",
       "\\item 5260\n",
       "\\item 5470\n",
       "\\item 5640\n",
       "\\item 6180\n",
       "\\item 6390\n",
       "\\item 6515\n",
       "\\item 6805\n",
       "\\item 7515\n",
       "\\item 7515\n",
       "\\item 8230\n",
       "\\item 8770\n",
       "\\end{enumerate*}\n"
      ],
      "text/markdown": [
       "1. 5260\n",
       "2. 5470\n",
       "3. 5640\n",
       "4. 6180\n",
       "5. 6390\n",
       "6. 6515\n",
       "7. 6805\n",
       "8. 7515\n",
       "9. 7515\n",
       "10. 8230\n",
       "11. 8770\n",
       "\n",
       "\n"
      ],
      "text/plain": [
       " [1] 5260 5470 5640 6180 6390 6515 6805 7515 7515 8230 8770"
      ]
     },
     "metadata": {},
     "output_type": "display_data"
    }
   ],
   "source": [
    "mylist$before"
   ]
  },
  {
   "cell_type": "markdown",
   "metadata": {},
   "source": [
    "*  or alternatively by using the component's index\n"
   ]
  },
  {
   "cell_type": "code",
   "execution_count": 65,
   "metadata": {
    "ExecuteTime": {
     "end_time": "2021-02-16T09:12:28.480175Z",
     "start_time": "2021-02-16T09:12:28.451Z"
    }
   },
   "outputs": [
    {
     "data": {
      "text/html": [
       "<ol class=list-inline>\n",
       "\t<li>5260</li>\n",
       "\t<li>5470</li>\n",
       "\t<li>5640</li>\n",
       "\t<li>6180</li>\n",
       "\t<li>6390</li>\n",
       "\t<li>6515</li>\n",
       "\t<li>6805</li>\n",
       "\t<li>7515</li>\n",
       "\t<li>7515</li>\n",
       "\t<li>8230</li>\n",
       "\t<li>8770</li>\n",
       "</ol>\n"
      ],
      "text/latex": [
       "\\begin{enumerate*}\n",
       "\\item 5260\n",
       "\\item 5470\n",
       "\\item 5640\n",
       "\\item 6180\n",
       "\\item 6390\n",
       "\\item 6515\n",
       "\\item 6805\n",
       "\\item 7515\n",
       "\\item 7515\n",
       "\\item 8230\n",
       "\\item 8770\n",
       "\\end{enumerate*}\n"
      ],
      "text/markdown": [
       "1. 5260\n",
       "2. 5470\n",
       "3. 5640\n",
       "4. 6180\n",
       "5. 6390\n",
       "6. 6515\n",
       "7. 6805\n",
       "8. 7515\n",
       "9. 7515\n",
       "10. 8230\n",
       "11. 8770\n",
       "\n",
       "\n"
      ],
      "text/plain": [
       " [1] 5260 5470 5640 6180 6390 6515 6805 7515 7515 8230 8770"
      ]
     },
     "metadata": {},
     "output_type": "display_data"
    }
   ],
   "source": [
    "mylist[[1]]"
   ]
  },
  {
   "cell_type": "markdown",
   "metadata": {},
   "source": [
    "### Data frames\n",
    "\n",
    "*  A data frame corresponds to a \"data set\" in other statistical packages. It is a list of vectors and/or factors of the same length. Data in the same position come from the same experimental unit. \n",
    "*  Creation of a data frame:"
   ]
  },
  {
   "cell_type": "code",
   "execution_count": 66,
   "metadata": {
    "ExecuteTime": {
     "end_time": "2021-02-16T09:12:28.660168Z",
     "start_time": "2021-02-16T09:12:28.610Z"
    }
   },
   "outputs": [
    {
     "data": {
      "text/html": [
       "<table>\n",
       "<thead><tr><th scope=col>intake.pre</th><th scope=col>intake.post</th></tr></thead>\n",
       "<tbody>\n",
       "\t<tr><td>5260</td><td>3910</td></tr>\n",
       "\t<tr><td>5470</td><td>4220</td></tr>\n",
       "\t<tr><td>5640</td><td>3885</td></tr>\n",
       "\t<tr><td>6180</td><td>5160</td></tr>\n",
       "\t<tr><td>6390</td><td>5645</td></tr>\n",
       "\t<tr><td>6515</td><td>4680</td></tr>\n",
       "\t<tr><td>6805</td><td>5265</td></tr>\n",
       "\t<tr><td>7515</td><td>5975</td></tr>\n",
       "\t<tr><td>7515</td><td>6790</td></tr>\n",
       "\t<tr><td>8230</td><td>6900</td></tr>\n",
       "\t<tr><td>8770</td><td>7335</td></tr>\n",
       "</tbody>\n",
       "</table>\n"
      ],
      "text/latex": [
       "\\begin{tabular}{r|ll}\n",
       " intake.pre & intake.post\\\\\n",
       "\\hline\n",
       "\t 5260 & 3910\\\\\n",
       "\t 5470 & 4220\\\\\n",
       "\t 5640 & 3885\\\\\n",
       "\t 6180 & 5160\\\\\n",
       "\t 6390 & 5645\\\\\n",
       "\t 6515 & 4680\\\\\n",
       "\t 6805 & 5265\\\\\n",
       "\t 7515 & 5975\\\\\n",
       "\t 7515 & 6790\\\\\n",
       "\t 8230 & 6900\\\\\n",
       "\t 8770 & 7335\\\\\n",
       "\\end{tabular}\n"
      ],
      "text/markdown": [
       "\n",
       "| intake.pre | intake.post |\n",
       "|---|---|\n",
       "| 5260 | 3910 |\n",
       "| 5470 | 4220 |\n",
       "| 5640 | 3885 |\n",
       "| 6180 | 5160 |\n",
       "| 6390 | 5645 |\n",
       "| 6515 | 4680 |\n",
       "| 6805 | 5265 |\n",
       "| 7515 | 5975 |\n",
       "| 7515 | 6790 |\n",
       "| 8230 | 6900 |\n",
       "| 8770 | 7335 |\n",
       "\n"
      ],
      "text/plain": [
       "   intake.pre intake.post\n",
       "1  5260       3910       \n",
       "2  5470       4220       \n",
       "3  5640       3885       \n",
       "4  6180       5160       \n",
       "5  6390       5645       \n",
       "6  6515       4680       \n",
       "7  6805       5265       \n",
       "8  7515       5975       \n",
       "9  7515       6790       \n",
       "10 8230       6900       \n",
       "11 8770       7335       "
      ]
     },
     "metadata": {},
     "output_type": "display_data"
    }
   ],
   "source": [
    "d <- data.frame(intake.pre, intake.post)\n",
    "d"
   ]
  },
  {
   "cell_type": "markdown",
   "metadata": {},
   "source": [
    "*  Elements in one row correspond to the same woman\n",
    "*  As with lists, variables are accessible using the ''\\$'' notation\n"
   ]
  },
  {
   "cell_type": "code",
   "execution_count": 169,
   "metadata": {
    "ExecuteTime": {
     "end_time": "2021-02-16T09:12:28.791180Z",
     "start_time": "2021-02-16T09:12:28.760Z"
    }
   },
   "outputs": [
    {
     "data": {
      "text/html": [
       "<style>\n",
       ".list-inline {list-style: none; margin:0; padding: 0}\n",
       ".list-inline>li {display: inline-block}\n",
       ".list-inline>li:not(:last-child)::after {content: \"\\00b7\"; padding: 0 .5ex}\n",
       "</style>\n",
       "<ol class=list-inline><li>5260</li><li>5470</li><li>5640</li><li>6180</li><li>6390</li><li>6515</li><li>6805</li><li>7515</li><li>7515</li><li>8230</li><li>8770</li></ol>\n"
      ],
      "text/latex": [
       "\\begin{enumerate*}\n",
       "\\item 5260\n",
       "\\item 5470\n",
       "\\item 5640\n",
       "\\item 6180\n",
       "\\item 6390\n",
       "\\item 6515\n",
       "\\item 6805\n",
       "\\item 7515\n",
       "\\item 7515\n",
       "\\item 8230\n",
       "\\item 8770\n",
       "\\end{enumerate*}\n"
      ],
      "text/markdown": [
       "1. 5260\n",
       "2. 5470\n",
       "3. 5640\n",
       "4. 6180\n",
       "5. 6390\n",
       "6. 6515\n",
       "7. 6805\n",
       "8. 7515\n",
       "9. 7515\n",
       "10. 8230\n",
       "11. 8770\n",
       "\n",
       "\n"
      ],
      "text/plain": [
       " [1] 5260 5470 5640 6180 6390 6515 6805 7515 7515 8230 8770"
      ]
     },
     "metadata": {},
     "output_type": "display_data"
    }
   ],
   "source": [
    "d$intake.pre"
   ]
  },
  {
   "cell_type": "markdown",
   "metadata": {},
   "source": [
    "## Loops & conditions\n",
    "\n",
    "### Loop types\n",
    "\n",
    "*   `for(name in expr1) instructions` where  `expr1` is a vector expression\n",
    "      (ex: `1:20`)\n",
    "*   `while(condition) instructions`\n",
    "*  `repeat instructions`\n",
    "\n",
    "### Implicit loops\n",
    "\n",
    "*  Apply a function to each element of  a set of values or vectors and collect the results in a single structure.\n",
    "*  In R this can be done by using one of the two functions `lapply` and   `sapply`. The former always returns a list whereas the latter tries to simplify the result into a vector or matrix if possible.\n",
    "*  The function `apply` allows to apply a function to the rows or columns of a matrix.\n",
    "*  The function  `tapply` allows to create tables of the function's value on subgroups defined by its second argument, which can be a factor or a list of factors. (The grouping can also be defined by ordinary vectors. They will be converted to factors internally.)\n"
   ]
  },
  {
   "cell_type": "markdown",
   "metadata": {},
   "source": [
    "### Exercises\n",
    "\n",
    "*  Load the \"thuesen\" data"
   ]
  },
  {
   "cell_type": "code",
   "execution_count": 68,
   "metadata": {
    "ExecuteTime": {
     "end_time": "2021-02-16T09:12:29.085165Z",
     "start_time": "2021-02-16T09:12:29.044Z"
    }
   },
   "outputs": [
    {
     "name": "stdout",
     "output_type": "stream",
     "text": [
      "package 'ISwR' successfully unpacked and MD5 sums checked\n",
      "\n",
      "The downloaded binary packages are in\n",
      "\tC:\\Users\\cedri\\AppData\\Local\\Temp\\Rtmp6X1wzb\\downloaded_packages\n"
     ]
    },
    {
     "name": "stderr",
     "output_type": "stream",
     "text": [
      "Warning message:\n",
      "\"package 'ISwR' was built under R version 3.6.3\""
     ]
    }
   ],
   "source": [
    "install.packages(\"ISwR\")\n",
    "library(ISwR)\n"
   ]
  },
  {
   "cell_type": "code",
   "execution_count": 70,
   "metadata": {},
   "outputs": [],
   "source": [
    "data(thuesen)"
   ]
  },
  {
   "cell_type": "code",
   "execution_count": 71,
   "metadata": {
    "ExecuteTime": {
     "end_time": "2021-02-16T09:12:29.130196Z",
     "start_time": "2021-02-16T09:12:29.053Z"
    }
   },
   "outputs": [
    {
     "data": {
      "text/html": [
       "<table>\n",
       "<thead><tr><th scope=col>blood.glucose</th><th scope=col>short.velocity</th></tr></thead>\n",
       "<tbody>\n",
       "\t<tr><td>15.3</td><td>1.76</td></tr>\n",
       "\t<tr><td>10.8</td><td>1.34</td></tr>\n",
       "\t<tr><td> 8.1</td><td>1.27</td></tr>\n",
       "\t<tr><td>19.5</td><td>1.47</td></tr>\n",
       "\t<tr><td> 7.2</td><td>1.27</td></tr>\n",
       "\t<tr><td> 5.3</td><td>1.49</td></tr>\n",
       "\t<tr><td> 9.3</td><td>1.31</td></tr>\n",
       "\t<tr><td>11.1</td><td>1.09</td></tr>\n",
       "\t<tr><td> 7.5</td><td>1.18</td></tr>\n",
       "\t<tr><td>12.2</td><td>1.22</td></tr>\n",
       "\t<tr><td> 6.7</td><td>1.25</td></tr>\n",
       "\t<tr><td> 5.2</td><td>1.19</td></tr>\n",
       "\t<tr><td>19.0</td><td>1.95</td></tr>\n",
       "\t<tr><td>15.1</td><td>1.28</td></tr>\n",
       "\t<tr><td> 6.7</td><td>1.52</td></tr>\n",
       "\t<tr><td> 8.6</td><td>  NA</td></tr>\n",
       "\t<tr><td> 4.2</td><td>1.12</td></tr>\n",
       "\t<tr><td>10.3</td><td>1.37</td></tr>\n",
       "\t<tr><td>12.5</td><td>1.19</td></tr>\n",
       "\t<tr><td>16.1</td><td>1.05</td></tr>\n",
       "\t<tr><td>13.3</td><td>1.32</td></tr>\n",
       "\t<tr><td> 4.9</td><td>1.03</td></tr>\n",
       "\t<tr><td> 8.8</td><td>1.12</td></tr>\n",
       "\t<tr><td> 9.5</td><td>1.70</td></tr>\n",
       "</tbody>\n",
       "</table>\n"
      ],
      "text/latex": [
       "\\begin{tabular}{r|ll}\n",
       " blood.glucose & short.velocity\\\\\n",
       "\\hline\n",
       "\t 15.3 & 1.76\\\\\n",
       "\t 10.8 & 1.34\\\\\n",
       "\t  8.1 & 1.27\\\\\n",
       "\t 19.5 & 1.47\\\\\n",
       "\t  7.2 & 1.27\\\\\n",
       "\t  5.3 & 1.49\\\\\n",
       "\t  9.3 & 1.31\\\\\n",
       "\t 11.1 & 1.09\\\\\n",
       "\t  7.5 & 1.18\\\\\n",
       "\t 12.2 & 1.22\\\\\n",
       "\t  6.7 & 1.25\\\\\n",
       "\t  5.2 & 1.19\\\\\n",
       "\t 19.0 & 1.95\\\\\n",
       "\t 15.1 & 1.28\\\\\n",
       "\t  6.7 & 1.52\\\\\n",
       "\t  8.6 &   NA\\\\\n",
       "\t  4.2 & 1.12\\\\\n",
       "\t 10.3 & 1.37\\\\\n",
       "\t 12.5 & 1.19\\\\\n",
       "\t 16.1 & 1.05\\\\\n",
       "\t 13.3 & 1.32\\\\\n",
       "\t  4.9 & 1.03\\\\\n",
       "\t  8.8 & 1.12\\\\\n",
       "\t  9.5 & 1.70\\\\\n",
       "\\end{tabular}\n"
      ],
      "text/markdown": [
       "\n",
       "| blood.glucose | short.velocity |\n",
       "|---|---|\n",
       "| 15.3 | 1.76 |\n",
       "| 10.8 | 1.34 |\n",
       "|  8.1 | 1.27 |\n",
       "| 19.5 | 1.47 |\n",
       "|  7.2 | 1.27 |\n",
       "|  5.3 | 1.49 |\n",
       "|  9.3 | 1.31 |\n",
       "| 11.1 | 1.09 |\n",
       "|  7.5 | 1.18 |\n",
       "| 12.2 | 1.22 |\n",
       "|  6.7 | 1.25 |\n",
       "|  5.2 | 1.19 |\n",
       "| 19.0 | 1.95 |\n",
       "| 15.1 | 1.28 |\n",
       "|  6.7 | 1.52 |\n",
       "|  8.6 |   NA |\n",
       "|  4.2 | 1.12 |\n",
       "| 10.3 | 1.37 |\n",
       "| 12.5 | 1.19 |\n",
       "| 16.1 | 1.05 |\n",
       "| 13.3 | 1.32 |\n",
       "|  4.9 | 1.03 |\n",
       "|  8.8 | 1.12 |\n",
       "|  9.5 | 1.70 |\n",
       "\n"
      ],
      "text/plain": [
       "   blood.glucose short.velocity\n",
       "1  15.3          1.76          \n",
       "2  10.8          1.34          \n",
       "3   8.1          1.27          \n",
       "4  19.5          1.47          \n",
       "5   7.2          1.27          \n",
       "6   5.3          1.49          \n",
       "7   9.3          1.31          \n",
       "8  11.1          1.09          \n",
       "9   7.5          1.18          \n",
       "10 12.2          1.22          \n",
       "11  6.7          1.25          \n",
       "12  5.2          1.19          \n",
       "13 19.0          1.95          \n",
       "14 15.1          1.28          \n",
       "15  6.7          1.52          \n",
       "16  8.6            NA          \n",
       "17  4.2          1.12          \n",
       "18 10.3          1.37          \n",
       "19 12.5          1.19          \n",
       "20 16.1          1.05          \n",
       "21 13.3          1.32          \n",
       "22  4.9          1.03          \n",
       "23  8.8          1.12          \n",
       "24  9.5          1.70          "
      ]
     },
     "metadata": {},
     "output_type": "display_data"
    }
   ],
   "source": [
    "thuesen"
   ]
  },
  {
   "cell_type": "markdown",
   "metadata": {},
   "source": [
    "*  Compute the mean of the data frame `thuesen` to get the result as a list, and as a vector.\n",
    "\n",
    "#### Solution"
   ]
  },
  {
   "cell_type": "code",
   "execution_count": 73,
   "metadata": {
    "ExecuteTime": {
     "end_time": "2021-02-16T09:12:29.243162Z",
     "start_time": "2021-02-16T09:12:29.208Z"
    }
   },
   "outputs": [
    {
     "data": {
      "text/html": [
       "<dl>\n",
       "\t<dt>$blood.glucose</dt>\n",
       "\t\t<dd>10.3</dd>\n",
       "\t<dt>$short.velocity</dt>\n",
       "\t\t<dd>1.32565217391304</dd>\n",
       "</dl>\n"
      ],
      "text/latex": [
       "\\begin{description}\n",
       "\\item[\\$blood.glucose] 10.3\n",
       "\\item[\\$short.velocity] 1.32565217391304\n",
       "\\end{description}\n"
      ],
      "text/markdown": [
       "$blood.glucose\n",
       ":   10.3\n",
       "$short.velocity\n",
       ":   1.32565217391304\n",
       "\n",
       "\n"
      ],
      "text/plain": [
       "$blood.glucose\n",
       "[1] 10.3\n",
       "\n",
       "$short.velocity\n",
       "[1] 1.325652\n"
      ]
     },
     "metadata": {},
     "output_type": "display_data"
    }
   ],
   "source": [
    "lapply(thuesen, mean, na.rm=T)"
   ]
  },
  {
   "cell_type": "code",
   "execution_count": 74,
   "metadata": {
    "ExecuteTime": {
     "end_time": "2021-02-16T09:12:29.276163Z",
     "start_time": "2021-02-16T09:12:29.215Z"
    }
   },
   "outputs": [
    {
     "data": {
      "text/html": [
       "<dl class=dl-horizontal>\n",
       "\t<dt>blood.glucose</dt>\n",
       "\t\t<dd>10.3</dd>\n",
       "\t<dt>short.velocity</dt>\n",
       "\t\t<dd>1.32565217391304</dd>\n",
       "</dl>\n"
      ],
      "text/latex": [
       "\\begin{description*}\n",
       "\\item[blood.glucose] 10.3\n",
       "\\item[short.velocity] 1.32565217391304\n",
       "\\end{description*}\n"
      ],
      "text/markdown": [
       "blood.glucose\n",
       ":   10.3short.velocity\n",
       ":   1.32565217391304\n",
       "\n"
      ],
      "text/plain": [
       " blood.glucose short.velocity \n",
       "     10.300000       1.325652 "
      ]
     },
     "metadata": {},
     "output_type": "display_data"
    }
   ],
   "source": [
    "sapply(thuesen, mean, na.rm=T)"
   ]
  },
  {
   "cell_type": "markdown",
   "metadata": {},
   "source": [
    "*  Initialize a matrix, in order to get the same results as in this tutorial, use the same random seed\n"
   ]
  },
  {
   "cell_type": "code",
   "execution_count": 99,
   "metadata": {
    "ExecuteTime": {
     "end_time": "2021-02-16T09:12:29.414167Z",
     "start_time": "2021-02-16T09:12:29.373Z"
    }
   },
   "outputs": [
    {
     "data": {
      "text/html": [
       "<table>\n",
       "<tbody>\n",
       "\t<tr><td> 0.5855288</td><td> 0.6058875</td><td>-0.2841597</td></tr>\n",
       "\t<tr><td> 0.7094660</td><td>-1.8179560</td><td>-0.9193220</td></tr>\n",
       "\t<tr><td>-0.1093033</td><td> 0.6300986</td><td>-0.1162478</td></tr>\n",
       "\t<tr><td>-0.4534972</td><td>-0.2761841</td><td> 1.8173120</td></tr>\n",
       "</tbody>\n",
       "</table>\n"
      ],
      "text/latex": [
       "\\begin{tabular}{lll}\n",
       "\t  0.5855288 &  0.6058875 & -0.2841597\\\\\n",
       "\t  0.7094660 & -1.8179560 & -0.9193220\\\\\n",
       "\t -0.1093033 &  0.6300986 & -0.1162478\\\\\n",
       "\t -0.4534972 & -0.2761841 &  1.8173120\\\\\n",
       "\\end{tabular}\n"
      ],
      "text/markdown": [
       "\n",
       "|  0.5855288 |  0.6058875 | -0.2841597 |\n",
       "|  0.7094660 | -1.8179560 | -0.9193220 |\n",
       "| -0.1093033 |  0.6300986 | -0.1162478 |\n",
       "| -0.4534972 | -0.2761841 |  1.8173120 |\n",
       "\n"
      ],
      "text/plain": [
       "     [,1]       [,2]       [,3]      \n",
       "[1,]  0.5855288  0.6058875 -0.2841597\n",
       "[2,]  0.7094660 -1.8179560 -0.9193220\n",
       "[3,] -0.1093033  0.6300986 -0.1162478\n",
       "[4,] -0.4534972 -0.2761841  1.8173120"
      ]
     },
     "metadata": {},
     "output_type": "display_data"
    }
   ],
   "source": [
    "set.seed(12345)\n",
    "m <- matrix(rnorm(12),4)\n",
    "m"
   ]
  },
  {
   "cell_type": "markdown",
   "metadata": {},
   "source": [
    "and compute the mean of each row and of each column using `apply`, check the help for details `?apply`. How do you compute the mean of the entire matrix?\n"
   ]
  },
  {
   "cell_type": "code",
   "execution_count": 100,
   "metadata": {
    "ExecuteTime": {
     "end_time": "2021-02-16T09:12:29.566190Z",
     "start_time": "2021-02-16T09:12:29.532Z"
    }
   },
   "outputs": [
    {
     "data": {
      "text/html": [
       "<ol class=list-inline>\n",
       "\t<li>0.302418843246959</li>\n",
       "\t<li>-0.675937317556111</li>\n",
       "\t<li>0.134849143345112</li>\n",
       "\t<li>0.362543588338746</li>\n",
       "</ol>\n"
      ],
      "text/latex": [
       "\\begin{enumerate*}\n",
       "\\item 0.302418843246959\n",
       "\\item -0.675937317556111\n",
       "\\item 0.134849143345112\n",
       "\\item 0.362543588338746\n",
       "\\end{enumerate*}\n"
      ],
      "text/markdown": [
       "1. 0.302418843246959\n",
       "2. -0.675937317556111\n",
       "3. 0.134849143345112\n",
       "4. 0.362543588338746\n",
       "\n",
       "\n"
      ],
      "text/plain": [
       "[1]  0.3024188 -0.6759373  0.1348491  0.3625436"
      ]
     },
     "metadata": {},
     "output_type": "display_data"
    }
   ],
   "source": [
    "## mean for each row\n",
    "apply(m, 1, mean)"
   ]
  },
  {
   "cell_type": "code",
   "execution_count": 101,
   "metadata": {
    "ExecuteTime": {
     "end_time": "2021-02-16T09:12:29.609165Z",
     "start_time": "2021-02-16T09:12:29.539Z"
    }
   },
   "outputs": [
    {
     "data": {
      "text/html": [
       "<ol class=list-inline>\n",
       "\t<li>0.183048586802391</li>\n",
       "\t<li>-0.21453851650504</li>\n",
       "\t<li>0.124395622733679</li>\n",
       "</ol>\n"
      ],
      "text/latex": [
       "\\begin{enumerate*}\n",
       "\\item 0.183048586802391\n",
       "\\item -0.21453851650504\n",
       "\\item 0.124395622733679\n",
       "\\end{enumerate*}\n"
      ],
      "text/markdown": [
       "1. 0.183048586802391\n",
       "2. -0.21453851650504\n",
       "3. 0.124395622733679\n",
       "\n",
       "\n"
      ],
      "text/plain": [
       "[1]  0.1830486 -0.2145385  0.1243956"
      ]
     },
     "metadata": {},
     "output_type": "display_data"
    }
   ],
   "source": [
    "## mean for each column\n",
    "apply(m, 2, mean)"
   ]
  },
  {
   "cell_type": "code",
   "execution_count": 102,
   "metadata": {
    "ExecuteTime": {
     "end_time": "2021-02-16T09:12:29.647165Z",
     "start_time": "2021-02-16T09:12:29.547Z"
    }
   },
   "outputs": [
    {
     "data": {
      "text/html": [
       "0.0309685643436766"
      ],
      "text/latex": [
       "0.0309685643436766"
      ],
      "text/markdown": [
       "0.0309685643436766"
      ],
      "text/plain": [
       "[1] 0.03096856"
      ]
     },
     "metadata": {},
     "output_type": "display_data"
    }
   ],
   "source": [
    "## matrix mean\n",
    "mean(m)"
   ]
  },
  {
   "cell_type": "markdown",
   "metadata": {},
   "source": [
    "### Conditions\n",
    "\n",
    "*  `if(condition) instructions else if(condition2) instructions2 else instructions3`\n",
    "*  Variants: see documentation.\n"
   ]
  },
  {
   "cell_type": "code",
   "execution_count": 178,
   "metadata": {
    "ExecuteTime": {
     "end_time": "2021-02-16T09:12:29.778205Z",
     "start_time": "2021-02-16T09:12:29.747Z"
    }
   },
   "outputs": [
    {
     "name": "stdout",
     "output_type": "stream",
     "text": [
      "[1]  0.5855288  0.6058875 -0.2841597\n"
     ]
    }
   ],
   "source": [
    "if (m[1,1]>0)\n",
    "{\n",
    "    print(m[1,])\n",
    "} else {\n",
    "    if(m[1,1]<0)\n",
    "    { \n",
    "        print(m[,1])\n",
    "    }\n",
    "    else \n",
    "    {\n",
    "        print(\"element is zero\")\n",
    "    }\n",
    "   } \n"
   ]
  },
  {
   "cell_type": "markdown",
   "metadata": {},
   "source": [
    "## Functions\n",
    "\n",
    "### How to write a basic function"
   ]
  },
  {
   "cell_type": "markdown",
   "metadata": {},
   "source": [
    "*  `name <- function(arg1, arg2, ...)` expression\n",
    "*  Use  `return(variable)` to return one variable, multiple variables can be returned as a list.\n"
   ]
  },
  {
   "cell_type": "code",
   "execution_count": 179,
   "metadata": {
    "ExecuteTime": {
     "end_time": "2021-02-16T09:12:30.076165Z",
     "start_time": "2021-02-16T09:12:30.037Z"
    }
   },
   "outputs": [
    {
     "data": {
      "text/html": [
       "<dl>\n",
       "\t<dt>$sum</dt>\n",
       "\t\t<dd>5</dd>\n",
       "\t<dt>$mean</dt>\n",
       "\t\t<dd>1.25</dd>\n",
       "</dl>\n"
      ],
      "text/latex": [
       "\\begin{description}\n",
       "\\item[\\$sum] 5\n",
       "\\item[\\$mean] 1.25\n",
       "\\end{description}\n"
      ],
      "text/markdown": [
       "$sum\n",
       ":   5\n",
       "$mean\n",
       ":   1.25\n",
       "\n",
       "\n"
      ],
      "text/plain": [
       "$sum\n",
       "[1] 5\n",
       "\n",
       "$mean\n",
       "[1] 1.25\n"
      ]
     },
     "metadata": {},
     "output_type": "display_data"
    }
   ],
   "source": [
    "## compute sum of a vector using a for loop\n",
    "computeSum<-function(x){\n",
    "    sum<-0\n",
    "    n<-0\n",
    "    for(i in 1:length(x)){\n",
    "        if(!is.na(x[i])){ ## The function is.na is used to determine\n",
    "        ## whether an element is missing (==NA)\n",
    "        sum<-sum+x[i]\n",
    "        n<-n+1\n",
    "        }\n",
    "    }\n",
    "# return(sum) will return the sum of the vector\n",
    "return(list(\"sum\"=sum,\"mean\"=sum/n))\n",
    "}\n",
    "computeSum(c(1,2,-4,NA,6))\n"
   ]
  },
  {
   "cell_type": "markdown",
   "metadata": {},
   "source": [
    "### Compile functions\n",
    "\n",
    "*  A set of functions can be saved in a *.R file\n",
    "*  These functions can be loaded by using the  `source(filename)` command\n"
   ]
  },
  {
   "cell_type": "markdown",
   "metadata": {
    "collapsed": true
   },
   "source": [
    "## Plotting\n",
    "\n",
    "A basic two dimensional plot from using the vectors  `height` and `weight` can be generated using the `plot` command.\n"
   ]
  },
  {
   "cell_type": "code",
   "execution_count": 180,
   "metadata": {
    "ExecuteTime": {
     "end_time": "2021-02-16T09:12:30.414171Z",
     "start_time": "2021-02-16T09:12:30.328Z"
    }
   },
   "outputs": [
    {
     "data": {
      "image/png": "[encoded data removed]",
      "text/plain": [
       "Plot with title \"height vs weight\""
      ]
     },
     "metadata": {
      "image/png": {
       "height": 525,
       "width": 525
      }
     },
     "output_type": "display_data"
    }
   ],
   "source": [
    "plot(height, weight, main=\"height vs weight\", xlab=\"weight\",ylab=\"height\")"
   ]
  },
  {
   "cell_type": "markdown",
   "metadata": {},
   "source": [
    "Adding pieces to the plot "
   ]
  },
  {
   "cell_type": "code",
   "execution_count": 181,
   "metadata": {
    "ExecuteTime": {
     "end_time": "2021-02-16T09:12:30.596166Z",
     "start_time": "2021-02-16T09:12:30.504Z"
    }
   },
   "outputs": [
    {
     "data": {
      "image/png": "[encoded data removed]",
      "text/plain": [
       "Plot with title \"height vs weight\""
      ]
     },
     "metadata": {
      "image/png": {
       "height": 525,
       "width": 525
      }
     },
     "output_type": "display_data"
    }
   ],
   "source": [
    "plot(height, weight, main=\"height vs weight\", xlab=\"weight\",ylab=\"height\")\n",
    "hh <- c(1.65, 1.70, 1.75, 1.80, 1.85, 1.90)\n",
    "lines(hh, 22.5 * hh^2,col=\"red\")"
   ]
  },
  {
   "cell_type": "markdown",
   "metadata": {},
   "source": [
    "To save a plot to a *.pdf file use the `pdf(...)` command; the following will save the file `myplot.pdf` in your working directory.\n"
   ]
  },
  {
   "cell_type": "code",
   "execution_count": 182,
   "metadata": {
    "ExecuteTime": {
     "end_time": "2021-02-16T09:12:30.713169Z",
     "start_time": "2021-02-16T09:12:30.667Z"
    }
   },
   "outputs": [
    {
     "data": {
      "text/html": [
       "<strong>png:</strong> 2"
      ],
      "text/latex": [
       "\\textbf{png:} 2"
      ],
      "text/markdown": [
       "**png:** 2"
      ],
      "text/plain": [
       "png \n",
       "  2 "
      ]
     },
     "metadata": {},
     "output_type": "display_data"
    }
   ],
   "source": [
    "pdf(file=\"myplot.pdf\",width=5,height=4)\n",
    "plot(height, weight, main=\"height vs weight\", xlab=\"weight\",ylab=\"height\")\n",
    "hh <- c(1.65, 1.70, 1.75, 1.80, 1.85, 1.90)\n",
    "lines(hh, 22.5 * hh^2,col=\"red\")\n",
    "dev.off()"
   ]
  },
  {
   "cell_type": "markdown",
   "metadata": {},
   "source": [
    "## Probabilities and distributions\n",
    "\n",
    "### Sampling\n",
    "\n",
    "The function `sample` allows to draw random variables uniformly (parameter `prob` to make it non-uniformly) from a vector with or without replacement.\n",
    "\n",
    "### Exercises\n",
    "\n",
    "* Re-initialize random seed\n"
   ]
  },
  {
   "cell_type": "code",
   "execution_count": 183,
   "metadata": {
    "ExecuteTime": {
     "end_time": "2021-02-16T09:12:30.848166Z",
     "start_time": "2021-02-16T09:12:30.822Z"
    }
   },
   "outputs": [],
   "source": [
    "set.seed(123456)"
   ]
  },
  {
   "cell_type": "markdown",
   "metadata": {},
   "source": [
    "* Draw five random variables, uniformly distributed between 1 and 40"
   ]
  },
  {
   "cell_type": "code",
   "execution_count": 184,
   "metadata": {
    "ExecuteTime": {
     "end_time": "2021-02-16T09:12:31.009165Z",
     "start_time": "2021-02-16T09:12:30.979Z"
    }
   },
   "outputs": [
    {
     "data": {
      "text/html": [
       "<style>\n",
       ".list-inline {list-style: none; margin:0; padding: 0}\n",
       ".list-inline>li {display: inline-block}\n",
       ".list-inline>li:not(:last-child)::after {content: \"\\00b7\"; padding: 0 .5ex}\n",
       "</style>\n",
       "<ol class=list-inline><li>7</li><li>36</li><li>38</li><li>10</li><li>3</li></ol>\n"
      ],
      "text/latex": [
       "\\begin{enumerate*}\n",
       "\\item 7\n",
       "\\item 36\n",
       "\\item 38\n",
       "\\item 10\n",
       "\\item 3\n",
       "\\end{enumerate*}\n"
      ],
      "text/markdown": [
       "1. 7\n",
       "2. 36\n",
       "3. 38\n",
       "4. 10\n",
       "5. 3\n",
       "\n",
       "\n"
      ],
      "text/plain": [
       "[1]  7 36 38 10  3"
      ]
     },
     "metadata": {},
     "output_type": "display_data"
    }
   ],
   "source": [
    "sample(1:40,5) "
   ]
  },
  {
   "cell_type": "markdown",
   "metadata": {},
   "source": [
    "* Simulate 10 coin tosses\n"
   ]
  },
  {
   "cell_type": "code",
   "execution_count": 185,
   "metadata": {
    "ExecuteTime": {
     "end_time": "2021-02-16T09:12:31.175176Z",
     "start_time": "2021-02-16T09:12:31.144Z"
    }
   },
   "outputs": [
    {
     "data": {
      "text/html": [
       "<style>\n",
       ".list-inline {list-style: none; margin:0; padding: 0}\n",
       ".list-inline>li {display: inline-block}\n",
       ".list-inline>li:not(:last-child)::after {content: \"\\00b7\"; padding: 0 .5ex}\n",
       "</style>\n",
       "<ol class=list-inline><li>'H'</li><li>'T'</li><li>'H'</li><li>'T'</li><li>'H'</li><li>'H'</li><li>'H'</li><li>'H'</li><li>'T'</li><li>'T'</li></ol>\n"
      ],
      "text/latex": [
       "\\begin{enumerate*}\n",
       "\\item 'H'\n",
       "\\item 'T'\n",
       "\\item 'H'\n",
       "\\item 'T'\n",
       "\\item 'H'\n",
       "\\item 'H'\n",
       "\\item 'H'\n",
       "\\item 'H'\n",
       "\\item 'T'\n",
       "\\item 'T'\n",
       "\\end{enumerate*}\n"
      ],
      "text/markdown": [
       "1. 'H'\n",
       "2. 'T'\n",
       "3. 'H'\n",
       "4. 'T'\n",
       "5. 'H'\n",
       "6. 'H'\n",
       "7. 'H'\n",
       "8. 'H'\n",
       "9. 'T'\n",
       "10. 'T'\n",
       "\n",
       "\n"
      ],
      "text/plain": [
       " [1] \"H\" \"T\" \"H\" \"T\" \"H\" \"H\" \"H\" \"H\" \"T\" \"T\""
      ]
     },
     "metadata": {},
     "output_type": "display_data"
    }
   ],
   "source": [
    "sample(c(\"H\", \"T\"), 10, replace=T)"
   ]
  },
  {
   "cell_type": "markdown",
   "metadata": {},
   "source": [
    "* Sample 10 coin tosses with for a coin in which heads appears with a probability of $0.8$\n"
   ]
  },
  {
   "cell_type": "code",
   "execution_count": 186,
   "metadata": {
    "ExecuteTime": {
     "end_time": "2021-02-16T09:12:31.343164Z",
     "start_time": "2021-02-16T09:12:31.309Z"
    }
   },
   "outputs": [
    {
     "data": {
      "text/html": [
       "<style>\n",
       ".list-inline {list-style: none; margin:0; padding: 0}\n",
       ".list-inline>li {display: inline-block}\n",
       ".list-inline>li:not(:last-child)::after {content: \"\\00b7\"; padding: 0 .5ex}\n",
       "</style>\n",
       "<ol class=list-inline><li>'H'</li><li>'H'</li><li>'H'</li><li>'H'</li><li>'T'</li><li>'T'</li><li>'T'</li><li>'H'</li><li>'H'</li><li>'T'</li></ol>\n"
      ],
      "text/latex": [
       "\\begin{enumerate*}\n",
       "\\item 'H'\n",
       "\\item 'H'\n",
       "\\item 'H'\n",
       "\\item 'H'\n",
       "\\item 'T'\n",
       "\\item 'T'\n",
       "\\item 'T'\n",
       "\\item 'H'\n",
       "\\item 'H'\n",
       "\\item 'T'\n",
       "\\end{enumerate*}\n"
      ],
      "text/markdown": [
       "1. 'H'\n",
       "2. 'H'\n",
       "3. 'H'\n",
       "4. 'H'\n",
       "5. 'T'\n",
       "6. 'T'\n",
       "7. 'T'\n",
       "8. 'H'\n",
       "9. 'H'\n",
       "10. 'T'\n",
       "\n",
       "\n"
      ],
      "text/plain": [
       " [1] \"H\" \"H\" \"H\" \"H\" \"T\" \"T\" \"T\" \"H\" \"H\" \"T\""
      ]
     },
     "metadata": {},
     "output_type": "display_data"
    }
   ],
   "source": [
    "sample(c(\"H\", \"T\"), 10, replace=T,prob=c(0.8,0.2))"
   ]
  },
  {
   "cell_type": "markdown",
   "metadata": {},
   "source": [
    "### Distributions in R\n",
    "\n"
   ]
  },
  {
   "cell_type": "markdown",
   "metadata": {},
   "source": [
    "* For a probability distribution, four fundamental values can be computed: the density, the distribution function, the quantiles and the pseudo-random numbers. Using R, each of these can be computed for the included distributions. \n",
    "* For example for a normal distribution (respectively): `dnorm, pnorm, qnorm`\n",
    "et `rnorm`. The same nomenclature is used for all distributions: the density (or the discrete probability) starts with a \"d\", the distribution function with \"p\", the quantile with \"q\" and the random number generating function with \"r\".\n",
    "* Plot normal density\n"
   ]
  },
  {
   "cell_type": "code",
   "execution_count": 187,
   "metadata": {
    "ExecuteTime": {
     "end_time": "2021-02-16T09:12:31.723168Z",
     "start_time": "2021-02-16T09:12:31.633Z"
    }
   },
   "outputs": [
    {
     "data": {
      "image/png": "[encoded data removed]",
      "text/plain": [
       "plot without title"
      ]
     },
     "metadata": {
      "image/png": {
       "height": 525,
       "width": 525
      }
     },
     "output_type": "display_data"
    }
   ],
   "source": [
    "x <- seq(-4,4,0.1)\n",
    "# alternatively curve(dnorm(x), from=-4, to=4)\n",
    "plot(x,dnorm(x), type=\"l\") "
   ]
  },
  {
   "cell_type": "markdown",
   "metadata": {},
   "source": [
    "### Exercises\n",
    "\n",
    "* Plot the density for a binomial random variable $B(50, 0.33)$ (use the parameter `type=\"h\"` for the plot function to generate a pin diagram)\n"
   ]
  },
  {
   "cell_type": "code",
   "execution_count": 188,
   "metadata": {
    "ExecuteTime": {
     "end_time": "2021-02-16T09:12:31.904170Z",
     "start_time": "2021-02-16T09:12:31.803Z"
    }
   },
   "outputs": [
    {
     "data": {
      "image/png": "[encoded data removed]",
      "text/plain": [
       "plot without title"
      ]
     },
     "metadata": {
      "image/png": {
       "height": 525,
       "width": 525
      }
     },
     "output_type": "display_data"
    }
   ],
   "source": [
    "x <- 0:50\n",
    "plot(x, dbinom(x, size=50, prob=.33), type=\"h\",ylab=\" \")"
   ]
  },
  {
   "cell_type": "markdown",
   "metadata": {},
   "source": [
    "* Compute the probability of a normally distributed variable with mean 132 and standard deviation 13 being smaller than 160\n"
   ]
  },
  {
   "cell_type": "code",
   "execution_count": 189,
   "metadata": {
    "ExecuteTime": {
     "end_time": "2021-02-16T09:12:32.007164Z",
     "start_time": "2021-02-16T09:12:31.978Z"
    }
   },
   "outputs": [
    {
     "data": {
      "text/html": [
       "0.984373880571531"
      ],
      "text/latex": [
       "0.984373880571531"
      ],
      "text/markdown": [
       "0.984373880571531"
      ],
      "text/plain": [
       "[1] 0.9843739"
      ]
     },
     "metadata": {},
     "output_type": "display_data"
    }
   ],
   "source": [
    "pnorm(160, mean=132,sd=13)"
   ]
  },
  {
   "cell_type": "markdown",
   "metadata": {
    "collapsed": true
   },
   "source": [
    "### Quantiles\n",
    "\n",
    "* Definition: the quantile is the inverse of the distribution function. The p-quantile is by definition that value having the property that there is a probability $p$ to obtain a value lower or equal to it. For example, the median is the 50% quantile.\n",
    "* In order to compute the quantiles of an empirical distribution for which samples are given in a vector, we use the function `quantile` which takes as argument this vector and the probability for which the quantile is needed.\n",
    "* The quantiles are used for computing the confidence intervals. Let $n$ observations be drawn from a normal distribution with the same mean $\\mu$ and the same standard-deviation $\\sigma$. It is well known that the observed mean $\\overline{x}$ follows a normal distribution with mean $\\mu$ and standard deviation $\\sigma/\\sqrt{n}$. A confidance interval of 95% for $\\mu$ can be obtained by\n",
    "\n",
    "\\begin{equation}\n",
    "\\overline{x} + \\sigma/\\sqrt{n} \\times N_{0.025} \\leq \\mu \\leq  \\overline{x} + \\sigma/\\sqrt{n} \\times N_{0.975}\n",
    "\\end{equation}\n",
    "     \n",
    "where $N_{0.025}$ is the 2.5% quantile of the normal distribution.\n",
    "\n",
    "### Exercises\n",
    "\n",
    "Let $\\sigma=12$ and $n=5$ with a mean of $\\overline{x}=83$, compute the confidence interval using the normal distribution\n"
   ]
  },
  {
   "cell_type": "code",
   "execution_count": 190,
   "metadata": {
    "ExecuteTime": {
     "end_time": "2021-02-16T09:12:32.184165Z",
     "start_time": "2021-02-16T09:12:32.141Z"
    }
   },
   "outputs": [
    {
     "data": {
      "text/html": [
       "72.481729513081"
      ],
      "text/latex": [
       "72.481729513081"
      ],
      "text/markdown": [
       "72.481729513081"
      ],
      "text/plain": [
       "[1] 72.48173"
      ]
     },
     "metadata": {},
     "output_type": "display_data"
    },
    {
     "data": {
      "text/html": [
       "93.518270486919"
      ],
      "text/latex": [
       "93.518270486919"
      ],
      "text/markdown": [
       "93.518270486919"
      ],
      "text/plain": [
       "[1] 93.51827"
      ]
     },
     "metadata": {},
     "output_type": "display_data"
    }
   ],
   "source": [
    "xbar <- 83\n",
    "sigma <- 12\n",
    "n<-5\n",
    "sem <- sigma/sqrt(n)\n",
    "xbar + sem * qnorm(0.025)\n",
    "xbar + sem * qnorm(0.975)"
   ]
  },
  {
   "cell_type": "markdown",
   "metadata": {},
   "source": [
    "### Generation of pseudo-random numbers\n",
    "\n",
    "* The first argument of a function generating random numbers is always the number of samples that should be generated. The next arguments specify the parameters fo the chosen distribution (mean, etc.) Some examples are provided to present \"typical\" choices of these parameters.\n"
   ]
  },
  {
   "cell_type": "code",
   "execution_count": 191,
   "metadata": {
    "ExecuteTime": {
     "end_time": "2021-02-16T09:12:32.342165Z",
     "start_time": "2021-02-16T09:12:32.306Z"
    }
   },
   "outputs": [
    {
     "data": {
      "text/html": [
       "<style>\n",
       ".list-inline {list-style: none; margin:0; padding: 0}\n",
       ".list-inline>li {display: inline-block}\n",
       ".list-inline>li:not(:last-child)::after {content: \"\\00b7\"; padding: 0 .5ex}\n",
       "</style>\n",
       "<ol class=list-inline><li>-0.735042894870237</li><li>0.930528423097571</li><li>1.66821096855678</li><li>0.559687886028685</li><li>-0.753974771477392</li><li>1.25655419461513</li><li>0.0384925470284087</li><li>0.189539826842359</li><li>0.462594950834118</li><li>-0.427363053111719</li></ol>\n"
      ],
      "text/latex": [
       "\\begin{enumerate*}\n",
       "\\item -0.735042894870237\n",
       "\\item 0.930528423097571\n",
       "\\item 1.66821096855678\n",
       "\\item 0.559687886028685\n",
       "\\item -0.753974771477392\n",
       "\\item 1.25655419461513\n",
       "\\item 0.0384925470284087\n",
       "\\item 0.189539826842359\n",
       "\\item 0.462594950834118\n",
       "\\item -0.427363053111719\n",
       "\\end{enumerate*}\n"
      ],
      "text/markdown": [
       "1. -0.735042894870237\n",
       "2. 0.930528423097571\n",
       "3. 1.66821096855678\n",
       "4. 0.559687886028685\n",
       "5. -0.753974771477392\n",
       "6. 1.25655419461513\n",
       "7. 0.0384925470284087\n",
       "8. 0.189539826842359\n",
       "9. 0.462594950834118\n",
       "10. -0.427363053111719\n",
       "\n",
       "\n"
      ],
      "text/plain": [
       " [1] -0.73504289  0.93052842  1.66821097  0.55968789 -0.75397477  1.25655419\n",
       " [7]  0.03849255  0.18953983  0.46259495 -0.42736305"
      ]
     },
     "metadata": {},
     "output_type": "display_data"
    }
   ],
   "source": [
    "rnorm(10)"
   ]
  },
  {
   "cell_type": "code",
   "execution_count": 192,
   "metadata": {
    "ExecuteTime": {
     "end_time": "2021-02-16T09:12:32.375165Z",
     "start_time": "2021-02-16T09:12:32.313Z"
    }
   },
   "outputs": [
    {
     "data": {
      "text/html": [
       "<style>\n",
       ".list-inline {list-style: none; margin:0; padding: 0}\n",
       ".list-inline>li {display: inline-block}\n",
       ".list-inline>li:not(:last-child)::after {content: \"\\00b7\"; padding: 0 .5ex}\n",
       "</style>\n",
       "<ol class=list-inline><li>7.08293001041169</li><li>10.524395509856</li><li>11.8592466043172</li><li>3.89754198493577</li><li>2.72066501415862</li><li>7.34779163559704</li><li>1.76900864995591</li><li>-6.7443419128571</li><li>1.35070194866501</li><li>2.69157616355351</li></ol>\n"
      ],
      "text/latex": [
       "\\begin{enumerate*}\n",
       "\\item 7.08293001041169\n",
       "\\item 10.524395509856\n",
       "\\item 11.8592466043172\n",
       "\\item 3.89754198493577\n",
       "\\item 2.72066501415862\n",
       "\\item 7.34779163559704\n",
       "\\item 1.76900864995591\n",
       "\\item -6.7443419128571\n",
       "\\item 1.35070194866501\n",
       "\\item 2.69157616355351\n",
       "\\end{enumerate*}\n"
      ],
      "text/markdown": [
       "1. 7.08293001041169\n",
       "2. 10.524395509856\n",
       "3. 11.8592466043172\n",
       "4. 3.89754198493577\n",
       "5. 2.72066501415862\n",
       "6. 7.34779163559704\n",
       "7. 1.76900864995591\n",
       "8. -6.7443419128571\n",
       "9. 1.35070194866501\n",
       "10. 2.69157616355351\n",
       "\n",
       "\n"
      ],
      "text/plain": [
       " [1]  7.082930 10.524396 11.859247  3.897542  2.720665  7.347792  1.769009\n",
       " [8] -6.744342  1.350702  2.691576"
      ]
     },
     "metadata": {},
     "output_type": "display_data"
    }
   ],
   "source": [
    "rnorm(10, mean=7, sd=5)"
   ]
  },
  {
   "cell_type": "code",
   "execution_count": 193,
   "metadata": {
    "ExecuteTime": {
     "end_time": "2021-02-16T09:12:32.411168Z",
     "start_time": "2021-02-16T09:12:32.320Z"
    }
   },
   "outputs": [
    {
     "data": {
      "text/html": [
       "<style>\n",
       ".list-inline {list-style: none; margin:0; padding: 0}\n",
       ".list-inline>li {display: inline-block}\n",
       ".list-inline>li:not(:last-child)::after {content: \"\\00b7\"; padding: 0 .5ex}\n",
       "</style>\n",
       "<ol class=list-inline><li>13</li><li>9</li><li>12</li><li>7</li><li>12</li><li>8</li><li>8</li><li>11</li><li>8</li><li>4</li></ol>\n"
      ],
      "text/latex": [
       "\\begin{enumerate*}\n",
       "\\item 13\n",
       "\\item 9\n",
       "\\item 12\n",
       "\\item 7\n",
       "\\item 12\n",
       "\\item 8\n",
       "\\item 8\n",
       "\\item 11\n",
       "\\item 8\n",
       "\\item 4\n",
       "\\end{enumerate*}\n"
      ],
      "text/markdown": [
       "1. 13\n",
       "2. 9\n",
       "3. 12\n",
       "4. 7\n",
       "5. 12\n",
       "6. 8\n",
       "7. 8\n",
       "8. 11\n",
       "9. 8\n",
       "10. 4\n",
       "\n",
       "\n"
      ],
      "text/plain": [
       " [1] 13  9 12  7 12  8  8 11  8  4"
      ]
     },
     "metadata": {},
     "output_type": "display_data"
    }
   ],
   "source": [
    "rbinom(10, size=20, prob=.5)"
   ]
  },
  {
   "cell_type": "markdown",
   "metadata": {},
   "source": [
    "* The algorithms for generating pseudo-random numbers are initialised by a seed which we can define in R using the function `set.seed(init.value)`, where `init.value` is an integer. This allows the user to reproduce computations with the same pseudo-random numbers."
   ]
  },
  {
   "cell_type": "markdown",
   "metadata": {},
   "source": [
    "### Table of distributions in R\n",
    "\n",
    "* The following table provides an overview over the included distributions and their parameters.\n",
    "\n",
    "| Distribution | R name | additional arguments |\n",
    "| ------------- | ------------- | ------------- |\n",
    "|beta               | `beta`     |  `shape1, shape2, ncp`  |\n",
    "|binomial           | `binom`    |  `size, prob`  |\n",
    "|Cauchy             | `cauchy`   |  `location, scale`  |\n",
    "|chi-squared        | `chisq`    |  `df, ncp`  |\n",
    "|exponential        | `exp`      |  `rate`  |\n",
    "|F                  | `f`        |  `df1, df2, ncp`  |\n",
    "|gamma              | `gamma`    |  `shape, scale`  |\n",
    "|geometric          | `geom`     |  `prob`  |\n",
    "|hypergeometric     | `hyper`    |  `m, n, k`  |\n",
    "|log-normal         | `lnorm`    |  `meanlog, sdlog`  |\n",
    "|logistic           | `logis`    |  `location, scale`  |\n",
    "|negative binomial  | `nbinom`   |  `size, prob`  |\n",
    "|normal             | `norm`     |  `mean, sd`  |\n",
    "|Poisson            | `pois`     |  `lambda`  |\n",
    "|Student's t        | `t`        |  `df, ncp`  |\n",
    "|uniform            | `unif`     |  `min, max`  |\n",
    "|Weibull            | `weibull`  |  `shape, scale`  |\n",
    "|Wilcoxon           | `wilcox`   |  `m, n`  |\n"
   ]
  },
  {
   "cell_type": "markdown",
   "metadata": {},
   "source": [
    "### Descriptive statistics\n",
    "\n",
    "* Computation of the mean, the variance, the standard deviation and the median:\n"
   ]
  },
  {
   "cell_type": "code",
   "execution_count": 194,
   "metadata": {
    "ExecuteTime": {
     "end_time": "2021-02-16T09:12:32.854171Z",
     "start_time": "2021-02-16T09:12:32.817Z"
    }
   },
   "outputs": [
    {
     "data": {
      "text/html": [
       "-0.214076579838903"
      ],
      "text/latex": [
       "-0.214076579838903"
      ],
      "text/markdown": [
       "-0.214076579838903"
      ],
      "text/plain": [
       "[1] -0.2140766"
      ]
     },
     "metadata": {},
     "output_type": "display_data"
    }
   ],
   "source": [
    "x <- rnorm(50)\n",
    "mean(x)"
   ]
  },
  {
   "cell_type": "code",
   "execution_count": 195,
   "metadata": {
    "ExecuteTime": {
     "end_time": "2021-02-16T09:12:32.890203Z",
     "start_time": "2021-02-16T09:12:32.823Z"
    }
   },
   "outputs": [
    {
     "data": {
      "text/html": [
       "0.842710309289513"
      ],
      "text/latex": [
       "0.842710309289513"
      ],
      "text/markdown": [
       "0.842710309289513"
      ],
      "text/plain": [
       "[1] 0.8427103"
      ]
     },
     "metadata": {},
     "output_type": "display_data"
    }
   ],
   "source": [
    "var(x)  ## variance"
   ]
  },
  {
   "cell_type": "code",
   "execution_count": 196,
   "metadata": {
    "ExecuteTime": {
     "end_time": "2021-02-16T09:12:32.920166Z",
     "start_time": "2021-02-16T09:12:32.830Z"
    }
   },
   "outputs": [
    {
     "data": {
      "text/html": [
       "0.917992543155723"
      ],
      "text/latex": [
       "0.917992543155723"
      ],
      "text/markdown": [
       "0.917992543155723"
      ],
      "text/plain": [
       "[1] 0.9179925"
      ]
     },
     "metadata": {},
     "output_type": "display_data"
    }
   ],
   "source": [
    "sd(x)  ## standard deviation"
   ]
  },
  {
   "cell_type": "code",
   "execution_count": 197,
   "metadata": {
    "ExecuteTime": {
     "end_time": "2021-02-16T09:12:32.955171Z",
     "start_time": "2021-02-16T09:12:32.837Z"
    }
   },
   "outputs": [
    {
     "data": {
      "text/html": [
       "-0.215299655970985"
      ],
      "text/latex": [
       "-0.215299655970985"
      ],
      "text/markdown": [
       "-0.215299655970985"
      ],
      "text/plain": [
       "[1] -0.2152997"
      ]
     },
     "metadata": {},
     "output_type": "display_data"
    }
   ],
   "source": [
    "median(x)"
   ]
  },
  {
   "cell_type": "markdown",
   "metadata": {},
   "source": [
    "### Exercises\n",
    "\n",
    "* Generate the following quantiles using `x` and the `quantile()` function\n"
   ]
  },
  {
   "cell_type": "code",
   "execution_count": 198,
   "metadata": {
    "ExecuteTime": {
     "end_time": "2021-02-16T09:12:33.070167Z",
     "start_time": "2021-02-16T09:12:33.033Z"
    }
   },
   "outputs": [
    {
     "data": {
      "text/html": [
       "<style>\n",
       ".dl-inline {width: auto; margin:0; padding: 0}\n",
       ".dl-inline>dt, .dl-inline>dd {float: none; width: auto; display: inline-block}\n",
       ".dl-inline>dt::after {content: \":\\0020\"; padding-right: .5ex}\n",
       ".dl-inline>dt:not(:first-of-type) {padding-left: .5ex}\n",
       "</style><dl class=dl-inline><dt>0%</dt><dd>-2.30236637099556</dd><dt>10%</dt><dd>-1.4980418898343</dd><dt>20%</dt><dd>-0.98572420865455</dd><dt>30%</dt><dd>-0.710209520950705</dd><dt>40%</dt><dd>-0.487467779709622</dd><dt>50%</dt><dd>-0.215299655970985</dd><dt>60%</dt><dd>0.0477367465983687</dd><dt>70%</dt><dd>0.315592790650248</dd><dt>80%</dt><dd>0.531144155011748</dd><dt>90%</dt><dd>0.979633829222209</dd><dt>100%</dt><dd>1.53724261930231</dd></dl>\n"
      ],
      "text/latex": [
       "\\begin{description*}\n",
       "\\item[0\\textbackslash{}\\%] -2.30236637099556\n",
       "\\item[10\\textbackslash{}\\%] -1.4980418898343\n",
       "\\item[20\\textbackslash{}\\%] -0.98572420865455\n",
       "\\item[30\\textbackslash{}\\%] -0.710209520950705\n",
       "\\item[40\\textbackslash{}\\%] -0.487467779709622\n",
       "\\item[50\\textbackslash{}\\%] -0.215299655970985\n",
       "\\item[60\\textbackslash{}\\%] 0.0477367465983687\n",
       "\\item[70\\textbackslash{}\\%] 0.315592790650248\n",
       "\\item[80\\textbackslash{}\\%] 0.531144155011748\n",
       "\\item[90\\textbackslash{}\\%] 0.979633829222209\n",
       "\\item[100\\textbackslash{}\\%] 1.53724261930231\n",
       "\\end{description*}\n"
      ],
      "text/markdown": [
       "0%\n",
       ":   -2.3023663709955610%\n",
       ":   -1.498041889834320%\n",
       ":   -0.9857242086545530%\n",
       ":   -0.71020952095070540%\n",
       ":   -0.48746777970962250%\n",
       ":   -0.21529965597098560%\n",
       ":   0.047736746598368770%\n",
       ":   0.31559279065024880%\n",
       ":   0.53114415501174890%\n",
       ":   0.979633829222209100%\n",
       ":   1.53724261930231\n",
       "\n"
      ],
      "text/plain": [
       "         0%         10%         20%         30%         40%         50% \n",
       "-2.30236637 -1.49804189 -0.98572421 -0.71020952 -0.48746778 -0.21529966 \n",
       "        60%         70%         80%         90%        100% \n",
       " 0.04773675  0.31559279  0.53114416  0.97963383  1.53724262 "
      ]
     },
     "metadata": {},
     "output_type": "display_data"
    }
   ],
   "source": [
    "pvec <- seq(0, 1, 0.1)\n",
    "quantile(x, pvec)"
   ]
  },
  {
   "cell_type": "markdown",
   "metadata": {},
   "source": [
    "### Plots of distributions\n",
    "\n",
    "* Histogram and empirical cumulative distribution (the empirical distribution function is defined as the number of data points smaller or equal to $x$ devided by the total number of points)\n"
   ]
  },
  {
   "cell_type": "code",
   "execution_count": 199,
   "metadata": {
    "ExecuteTime": {
     "end_time": "2021-02-16T09:12:33.320168Z",
     "start_time": "2021-02-16T09:12:33.213Z"
    }
   },
   "outputs": [
    {
     "data": {
      "image/png": "[encoded data removed]",
      "text/plain": [
       "Plot with title \"Histogram of x\""
      ]
     },
     "metadata": {
      "image/png": {
       "height": 525,
       "width": 525
      }
     },
     "output_type": "display_data"
    }
   ],
   "source": [
    "par(mfrow=c(1,2))\n",
    "hist(x)\n",
    "n<-length(x)\n",
    "plot(sort(x), (1:n)/n, type=\"s\", ylim=c(0,1))"
   ]
  },
  {
   "cell_type": "markdown",
   "metadata": {},
   "source": [
    "* In a boxplot, the box in the middle of the graph indicates the quartiles and the median.The two horizontal lines represent the largest (or the smallest) observation which falls within a distance of 1.5 times the size of the box. The observations outside this box are considered as \"extremes\" and are noted by points.\n"
   ]
  },
  {
   "cell_type": "code",
   "execution_count": 200,
   "metadata": {
    "ExecuteTime": {
     "end_time": "2021-02-16T09:12:33.527178Z",
     "start_time": "2021-02-16T09:12:33.397Z"
    }
   },
   "outputs": [
    {
     "data": {
      "text/html": [
       "<style>\n",
       ".list-inline {list-style: none; margin:0; padding: 0}\n",
       ".list-inline>li {display: inline-block}\n",
       ".list-inline>li:not(:last-child)::after {content: \"\\00b7\"; padding: 0 .5ex}\n",
       "</style>\n",
       "<ol class=list-inline><li>0.1</li><li>0.1</li><li>0.1</li><li>0.2</li><li>0.2</li><li>0.2</li><li>0.2</li><li>0.2</li><li>0.2</li><li>0.2</li><li>0.3</li><li>0.3</li><li>0.3</li><li>0.3</li><li>0.3</li><li>0.3</li><li>0.3</li><li>0.3</li><li>0.3</li><li>0.3</li><li>0.3</li><li>0.3</li><li>0.3</li><li>0.3</li><li>0.3</li><li>0.3</li><li>0.3</li><li>0.3</li><li>0.3</li><li>0.4</li><li>0.4</li><li>0.4</li><li>0.4</li><li>0.4</li><li>0.4</li><li>0.4</li><li>0.4</li><li>0.4</li><li>0.4</li><li>0.4</li><li>0.4</li><li>0.4</li><li>0.4</li><li>0.4</li><li>0.4</li><li>0.4</li><li>0.4</li><li>0.4</li><li>0.4</li><li>0.4</li><li>0.4</li><li>0.4</li><li>0.4</li><li>0.4</li><li>0.4</li><li>0.4</li><li>0.5</li><li>0.5</li><li>0.5</li><li>0.5</li><li>0.5</li><li>0.5</li><li>0.5</li><li>0.5</li><li>0.5</li><li>0.5</li><li>0.5</li><li>0.5</li><li>0.5</li><li>0.5</li><li>0.5</li><li>0.5</li><li>0.5</li><li>0.5</li><li>0.5</li><li>0.5</li><li>0.5</li><li>0.5</li><li>0.5</li><li>0.5</li><li>0.5</li><li>0.5</li><li>0.5</li><li>0.5</li><li>0.5</li><li>0.5</li><li>0.5</li><li>0.5</li><li>0.6</li><li>0.6</li><li>0.6</li><li>0.6</li><li>0.6</li><li>0.6</li><li>0.6</li><li>0.6</li><li>0.6</li><li>0.6</li><li>0.6</li><li>0.6</li><li>0.6</li><li>0.6</li><li>0.6</li><li>0.6</li><li>0.6</li><li>0.6</li><li>0.6</li><li>0.6</li><li>0.6</li><li>0.6</li><li>0.6</li><li>0.6</li><li>0.6</li><li>0.6</li><li>0.6</li><li>0.6</li><li>0.6</li><li>0.6</li><li>0.6</li><li>0.6</li><li>0.6</li><li>0.6</li><li>0.6</li><li>0.7</li><li>0.7</li><li>0.7</li><li>0.7</li><li>0.7</li><li>0.7</li><li>0.7</li><li>0.7</li><li>0.7</li><li>0.7</li><li>0.7</li><li>0.7</li><li>0.7</li><li>0.7</li><li>0.7</li><li>0.7</li><li>0.7</li><li>0.7</li><li>0.7</li><li>0.7</li><li>0.7</li><li>0.7</li><li>0.7</li><li>0.7</li><li>0.7</li><li>0.7</li><li>0.7</li><li>0.7</li><li>0.7</li><li>0.7</li><li>0.7</li><li>0.7</li><li>0.7</li><li>0.7</li><li>0.7</li><li>0.7</li><li>0.7</li><li>0.7</li><li>0.8</li><li>0.8</li><li>0.8</li><li>0.8</li><li>0.8</li><li>0.8</li><li>0.8</li><li>0.8</li><li>0.8</li><li>0.8</li><li>0.8</li><li>0.8</li><li>0.8</li><li>0.8</li><li>0.8</li><li>0.8</li><li>0.8</li><li>0.8</li><li>0.8</li><li>0.8</li><li>0.8</li><li>0.8</li><li>0.8</li><li>0.8</li><li>0.8</li><li>0.8</li><li>0.8</li><li>0.8</li><li>0.8</li><li>0.8</li><li>0.8</li><li>0.8</li><li>0.8</li><li>0.8</li><li>0.8</li><li>0.8</li><li>0.8</li><li>0.8</li><li>0.9</li><li>0.9</li><li>0.9</li><li>0.9</li><li>0.9</li><li>0.9</li><li>0.9</li><li>0.9</li><li>0.9</li><li>0.9</li><li>0.9</li><li>0.9</li><li>0.9</li><li>0.9</li><li>0.9</li><li>0.9</li><li>0.9</li><li>0.9</li><li>0.9</li><li>0.9</li><li>0.9</li><li>0.9</li><li>1</li><li>1</li><li>1</li><li>1</li><li>1</li><li>1</li><li>1</li><li>1</li><li>1</li><li>1</li><li>1</li><li>1</li><li>1</li><li>1</li><li>1</li><li>1</li><li>1.1</li><li>1.1</li><li>1.1</li><li>1.1</li><li>1.1</li><li>1.1</li><li>1.1</li><li>1.1</li><li>1.1</li><li>1.1</li><li>1.1</li><li>1.1</li><li>1.1</li><li>1.1</li><li>1.1</li><li>1.1</li><li>1.2</li><li>1.2</li><li>1.2</li><li>1.2</li><li>1.2</li><li>1.2</li><li>1.3</li><li>1.3</li><li>1.3</li><li>1.3</li><li>1.3</li><li>1.3</li><li>1.3</li><li>1.4</li><li>1.4</li><li>1.4</li><li>1.4</li><li>1.4</li><li>1.4</li><li>1.4</li><li>1.4</li><li>1.4</li><li>1.5</li><li>1.5</li><li>1.5</li><li>1.5</li><li>1.5</li><li>1.5</li><li>1.6</li><li>1.6</li><li>1.7</li><li>1.7</li><li>1.7</li><li>1.8</li><li>1.8</li><li>1.8</li><li>2</li><li>2</li><li>2</li><li>2.1</li><li>2.1</li><li>2.2</li><li>2.5</li><li>2.7</li><li>4.5</li></ol>\n"
      ],
      "text/latex": [
       "\\begin{enumerate*}\n",
       "\\item 0.1\n",
       "\\item 0.1\n",
       "\\item 0.1\n",
       "\\item 0.2\n",
       "\\item 0.2\n",
       "\\item 0.2\n",
       "\\item 0.2\n",
       "\\item 0.2\n",
       "\\item 0.2\n",
       "\\item 0.2\n",
       "\\item 0.3\n",
       "\\item 0.3\n",
       "\\item 0.3\n",
       "\\item 0.3\n",
       "\\item 0.3\n",
       "\\item 0.3\n",
       "\\item 0.3\n",
       "\\item 0.3\n",
       "\\item 0.3\n",
       "\\item 0.3\n",
       "\\item 0.3\n",
       "\\item 0.3\n",
       "\\item 0.3\n",
       "\\item 0.3\n",
       "\\item 0.3\n",
       "\\item 0.3\n",
       "\\item 0.3\n",
       "\\item 0.3\n",
       "\\item 0.3\n",
       "\\item 0.4\n",
       "\\item 0.4\n",
       "\\item 0.4\n",
       "\\item 0.4\n",
       "\\item 0.4\n",
       "\\item 0.4\n",
       "\\item 0.4\n",
       "\\item 0.4\n",
       "\\item 0.4\n",
       "\\item 0.4\n",
       "\\item 0.4\n",
       "\\item 0.4\n",
       "\\item 0.4\n",
       "\\item 0.4\n",
       "\\item 0.4\n",
       "\\item 0.4\n",
       "\\item 0.4\n",
       "\\item 0.4\n",
       "\\item 0.4\n",
       "\\item 0.4\n",
       "\\item 0.4\n",
       "\\item 0.4\n",
       "\\item 0.4\n",
       "\\item 0.4\n",
       "\\item 0.4\n",
       "\\item 0.4\n",
       "\\item 0.4\n",
       "\\item 0.5\n",
       "\\item 0.5\n",
       "\\item 0.5\n",
       "\\item 0.5\n",
       "\\item 0.5\n",
       "\\item 0.5\n",
       "\\item 0.5\n",
       "\\item 0.5\n",
       "\\item 0.5\n",
       "\\item 0.5\n",
       "\\item 0.5\n",
       "\\item 0.5\n",
       "\\item 0.5\n",
       "\\item 0.5\n",
       "\\item 0.5\n",
       "\\item 0.5\n",
       "\\item 0.5\n",
       "\\item 0.5\n",
       "\\item 0.5\n",
       "\\item 0.5\n",
       "\\item 0.5\n",
       "\\item 0.5\n",
       "\\item 0.5\n",
       "\\item 0.5\n",
       "\\item 0.5\n",
       "\\item 0.5\n",
       "\\item 0.5\n",
       "\\item 0.5\n",
       "\\item 0.5\n",
       "\\item 0.5\n",
       "\\item 0.5\n",
       "\\item 0.5\n",
       "\\item 0.6\n",
       "\\item 0.6\n",
       "\\item 0.6\n",
       "\\item 0.6\n",
       "\\item 0.6\n",
       "\\item 0.6\n",
       "\\item 0.6\n",
       "\\item 0.6\n",
       "\\item 0.6\n",
       "\\item 0.6\n",
       "\\item 0.6\n",
       "\\item 0.6\n",
       "\\item 0.6\n",
       "\\item 0.6\n",
       "\\item 0.6\n",
       "\\item 0.6\n",
       "\\item 0.6\n",
       "\\item 0.6\n",
       "\\item 0.6\n",
       "\\item 0.6\n",
       "\\item 0.6\n",
       "\\item 0.6\n",
       "\\item 0.6\n",
       "\\item 0.6\n",
       "\\item 0.6\n",
       "\\item 0.6\n",
       "\\item 0.6\n",
       "\\item 0.6\n",
       "\\item 0.6\n",
       "\\item 0.6\n",
       "\\item 0.6\n",
       "\\item 0.6\n",
       "\\item 0.6\n",
       "\\item 0.6\n",
       "\\item 0.6\n",
       "\\item 0.7\n",
       "\\item 0.7\n",
       "\\item 0.7\n",
       "\\item 0.7\n",
       "\\item 0.7\n",
       "\\item 0.7\n",
       "\\item 0.7\n",
       "\\item 0.7\n",
       "\\item 0.7\n",
       "\\item 0.7\n",
       "\\item 0.7\n",
       "\\item 0.7\n",
       "\\item 0.7\n",
       "\\item 0.7\n",
       "\\item 0.7\n",
       "\\item 0.7\n",
       "\\item 0.7\n",
       "\\item 0.7\n",
       "\\item 0.7\n",
       "\\item 0.7\n",
       "\\item 0.7\n",
       "\\item 0.7\n",
       "\\item 0.7\n",
       "\\item 0.7\n",
       "\\item 0.7\n",
       "\\item 0.7\n",
       "\\item 0.7\n",
       "\\item 0.7\n",
       "\\item 0.7\n",
       "\\item 0.7\n",
       "\\item 0.7\n",
       "\\item 0.7\n",
       "\\item 0.7\n",
       "\\item 0.7\n",
       "\\item 0.7\n",
       "\\item 0.7\n",
       "\\item 0.7\n",
       "\\item 0.7\n",
       "\\item 0.8\n",
       "\\item 0.8\n",
       "\\item 0.8\n",
       "\\item 0.8\n",
       "\\item 0.8\n",
       "\\item 0.8\n",
       "\\item 0.8\n",
       "\\item 0.8\n",
       "\\item 0.8\n",
       "\\item 0.8\n",
       "\\item 0.8\n",
       "\\item 0.8\n",
       "\\item 0.8\n",
       "\\item 0.8\n",
       "\\item 0.8\n",
       "\\item 0.8\n",
       "\\item 0.8\n",
       "\\item 0.8\n",
       "\\item 0.8\n",
       "\\item 0.8\n",
       "\\item 0.8\n",
       "\\item 0.8\n",
       "\\item 0.8\n",
       "\\item 0.8\n",
       "\\item 0.8\n",
       "\\item 0.8\n",
       "\\item 0.8\n",
       "\\item 0.8\n",
       "\\item 0.8\n",
       "\\item 0.8\n",
       "\\item 0.8\n",
       "\\item 0.8\n",
       "\\item 0.8\n",
       "\\item 0.8\n",
       "\\item 0.8\n",
       "\\item 0.8\n",
       "\\item 0.8\n",
       "\\item 0.8\n",
       "\\item 0.9\n",
       "\\item 0.9\n",
       "\\item 0.9\n",
       "\\item 0.9\n",
       "\\item 0.9\n",
       "\\item 0.9\n",
       "\\item 0.9\n",
       "\\item 0.9\n",
       "\\item 0.9\n",
       "\\item 0.9\n",
       "\\item 0.9\n",
       "\\item 0.9\n",
       "\\item 0.9\n",
       "\\item 0.9\n",
       "\\item 0.9\n",
       "\\item 0.9\n",
       "\\item 0.9\n",
       "\\item 0.9\n",
       "\\item 0.9\n",
       "\\item 0.9\n",
       "\\item 0.9\n",
       "\\item 0.9\n",
       "\\item 1\n",
       "\\item 1\n",
       "\\item 1\n",
       "\\item 1\n",
       "\\item 1\n",
       "\\item 1\n",
       "\\item 1\n",
       "\\item 1\n",
       "\\item 1\n",
       "\\item 1\n",
       "\\item 1\n",
       "\\item 1\n",
       "\\item 1\n",
       "\\item 1\n",
       "\\item 1\n",
       "\\item 1\n",
       "\\item 1.1\n",
       "\\item 1.1\n",
       "\\item 1.1\n",
       "\\item 1.1\n",
       "\\item 1.1\n",
       "\\item 1.1\n",
       "\\item 1.1\n",
       "\\item 1.1\n",
       "\\item 1.1\n",
       "\\item 1.1\n",
       "\\item 1.1\n",
       "\\item 1.1\n",
       "\\item 1.1\n",
       "\\item 1.1\n",
       "\\item 1.1\n",
       "\\item 1.1\n",
       "\\item 1.2\n",
       "\\item 1.2\n",
       "\\item 1.2\n",
       "\\item 1.2\n",
       "\\item 1.2\n",
       "\\item 1.2\n",
       "\\item 1.3\n",
       "\\item 1.3\n",
       "\\item 1.3\n",
       "\\item 1.3\n",
       "\\item 1.3\n",
       "\\item 1.3\n",
       "\\item 1.3\n",
       "\\item 1.4\n",
       "\\item 1.4\n",
       "\\item 1.4\n",
       "\\item 1.4\n",
       "\\item 1.4\n",
       "\\item 1.4\n",
       "\\item 1.4\n",
       "\\item 1.4\n",
       "\\item 1.4\n",
       "\\item 1.5\n",
       "\\item 1.5\n",
       "\\item 1.5\n",
       "\\item 1.5\n",
       "\\item 1.5\n",
       "\\item 1.5\n",
       "\\item 1.6\n",
       "\\item 1.6\n",
       "\\item 1.7\n",
       "\\item 1.7\n",
       "\\item 1.7\n",
       "\\item 1.8\n",
       "\\item 1.8\n",
       "\\item 1.8\n",
       "\\item 2\n",
       "\\item 2\n",
       "\\item 2\n",
       "\\item 2.1\n",
       "\\item 2.1\n",
       "\\item 2.2\n",
       "\\item 2.5\n",
       "\\item 2.7\n",
       "\\item 4.5\n",
       "\\end{enumerate*}\n"
      ],
      "text/markdown": [
       "1. 0.1\n",
       "2. 0.1\n",
       "3. 0.1\n",
       "4. 0.2\n",
       "5. 0.2\n",
       "6. 0.2\n",
       "7. 0.2\n",
       "8. 0.2\n",
       "9. 0.2\n",
       "10. 0.2\n",
       "11. 0.3\n",
       "12. 0.3\n",
       "13. 0.3\n",
       "14. 0.3\n",
       "15. 0.3\n",
       "16. 0.3\n",
       "17. 0.3\n",
       "18. 0.3\n",
       "19. 0.3\n",
       "20. 0.3\n",
       "21. 0.3\n",
       "22. 0.3\n",
       "23. 0.3\n",
       "24. 0.3\n",
       "25. 0.3\n",
       "26. 0.3\n",
       "27. 0.3\n",
       "28. 0.3\n",
       "29. 0.3\n",
       "30. 0.4\n",
       "31. 0.4\n",
       "32. 0.4\n",
       "33. 0.4\n",
       "34. 0.4\n",
       "35. 0.4\n",
       "36. 0.4\n",
       "37. 0.4\n",
       "38. 0.4\n",
       "39. 0.4\n",
       "40. 0.4\n",
       "41. 0.4\n",
       "42. 0.4\n",
       "43. 0.4\n",
       "44. 0.4\n",
       "45. 0.4\n",
       "46. 0.4\n",
       "47. 0.4\n",
       "48. 0.4\n",
       "49. 0.4\n",
       "50. 0.4\n",
       "51. 0.4\n",
       "52. 0.4\n",
       "53. 0.4\n",
       "54. 0.4\n",
       "55. 0.4\n",
       "56. 0.4\n",
       "57. 0.5\n",
       "58. 0.5\n",
       "59. 0.5\n",
       "60. 0.5\n",
       "61. 0.5\n",
       "62. 0.5\n",
       "63. 0.5\n",
       "64. 0.5\n",
       "65. 0.5\n",
       "66. 0.5\n",
       "67. 0.5\n",
       "68. 0.5\n",
       "69. 0.5\n",
       "70. 0.5\n",
       "71. 0.5\n",
       "72. 0.5\n",
       "73. 0.5\n",
       "74. 0.5\n",
       "75. 0.5\n",
       "76. 0.5\n",
       "77. 0.5\n",
       "78. 0.5\n",
       "79. 0.5\n",
       "80. 0.5\n",
       "81. 0.5\n",
       "82. 0.5\n",
       "83. 0.5\n",
       "84. 0.5\n",
       "85. 0.5\n",
       "86. 0.5\n",
       "87. 0.5\n",
       "88. 0.5\n",
       "89. 0.6\n",
       "90. 0.6\n",
       "91. 0.6\n",
       "92. 0.6\n",
       "93. 0.6\n",
       "94. 0.6\n",
       "95. 0.6\n",
       "96. 0.6\n",
       "97. 0.6\n",
       "98. 0.6\n",
       "99. 0.6\n",
       "100. 0.6\n",
       "101. 0.6\n",
       "102. 0.6\n",
       "103. 0.6\n",
       "104. 0.6\n",
       "105. 0.6\n",
       "106. 0.6\n",
       "107. 0.6\n",
       "108. 0.6\n",
       "109. 0.6\n",
       "110. 0.6\n",
       "111. 0.6\n",
       "112. 0.6\n",
       "113. 0.6\n",
       "114. 0.6\n",
       "115. 0.6\n",
       "116. 0.6\n",
       "117. 0.6\n",
       "118. 0.6\n",
       "119. 0.6\n",
       "120. 0.6\n",
       "121. 0.6\n",
       "122. 0.6\n",
       "123. 0.6\n",
       "124. 0.7\n",
       "125. 0.7\n",
       "126. 0.7\n",
       "127. 0.7\n",
       "128. 0.7\n",
       "129. 0.7\n",
       "130. 0.7\n",
       "131. 0.7\n",
       "132. 0.7\n",
       "133. 0.7\n",
       "134. 0.7\n",
       "135. 0.7\n",
       "136. 0.7\n",
       "137. 0.7\n",
       "138. 0.7\n",
       "139. 0.7\n",
       "140. 0.7\n",
       "141. 0.7\n",
       "142. 0.7\n",
       "143. 0.7\n",
       "144. 0.7\n",
       "145. 0.7\n",
       "146. 0.7\n",
       "147. 0.7\n",
       "148. 0.7\n",
       "149. 0.7\n",
       "150. 0.7\n",
       "151. 0.7\n",
       "152. 0.7\n",
       "153. 0.7\n",
       "154. 0.7\n",
       "155. 0.7\n",
       "156. 0.7\n",
       "157. 0.7\n",
       "158. 0.7\n",
       "159. 0.7\n",
       "160. 0.7\n",
       "161. 0.7\n",
       "162. 0.8\n",
       "163. 0.8\n",
       "164. 0.8\n",
       "165. 0.8\n",
       "166. 0.8\n",
       "167. 0.8\n",
       "168. 0.8\n",
       "169. 0.8\n",
       "170. 0.8\n",
       "171. 0.8\n",
       "172. 0.8\n",
       "173. 0.8\n",
       "174. 0.8\n",
       "175. 0.8\n",
       "176. 0.8\n",
       "177. 0.8\n",
       "178. 0.8\n",
       "179. 0.8\n",
       "180. 0.8\n",
       "181. 0.8\n",
       "182. 0.8\n",
       "183. 0.8\n",
       "184. 0.8\n",
       "185. 0.8\n",
       "186. 0.8\n",
       "187. 0.8\n",
       "188. 0.8\n",
       "189. 0.8\n",
       "190. 0.8\n",
       "191. 0.8\n",
       "192. 0.8\n",
       "193. 0.8\n",
       "194. 0.8\n",
       "195. 0.8\n",
       "196. 0.8\n",
       "197. 0.8\n",
       "198. 0.8\n",
       "199. 0.8\n",
       "200. 0.9\n",
       "201. 0.9\n",
       "202. 0.9\n",
       "203. 0.9\n",
       "204. 0.9\n",
       "205. 0.9\n",
       "206. 0.9\n",
       "207. 0.9\n",
       "208. 0.9\n",
       "209. 0.9\n",
       "210. 0.9\n",
       "211. 0.9\n",
       "212. 0.9\n",
       "213. 0.9\n",
       "214. 0.9\n",
       "215. 0.9\n",
       "216. 0.9\n",
       "217. 0.9\n",
       "218. 0.9\n",
       "219. 0.9\n",
       "220. 0.9\n",
       "221. 0.9\n",
       "222. 1\n",
       "223. 1\n",
       "224. 1\n",
       "225. 1\n",
       "226. 1\n",
       "227. 1\n",
       "228. 1\n",
       "229. 1\n",
       "230. 1\n",
       "231. 1\n",
       "232. 1\n",
       "233. 1\n",
       "234. 1\n",
       "235. 1\n",
       "236. 1\n",
       "237. 1\n",
       "238. 1.1\n",
       "239. 1.1\n",
       "240. 1.1\n",
       "241. 1.1\n",
       "242. 1.1\n",
       "243. 1.1\n",
       "244. 1.1\n",
       "245. 1.1\n",
       "246. 1.1\n",
       "247. 1.1\n",
       "248. 1.1\n",
       "249. 1.1\n",
       "250. 1.1\n",
       "251. 1.1\n",
       "252. 1.1\n",
       "253. 1.1\n",
       "254. 1.2\n",
       "255. 1.2\n",
       "256. 1.2\n",
       "257. 1.2\n",
       "258. 1.2\n",
       "259. 1.2\n",
       "260. 1.3\n",
       "261. 1.3\n",
       "262. 1.3\n",
       "263. 1.3\n",
       "264. 1.3\n",
       "265. 1.3\n",
       "266. 1.3\n",
       "267. 1.4\n",
       "268. 1.4\n",
       "269. 1.4\n",
       "270. 1.4\n",
       "271. 1.4\n",
       "272. 1.4\n",
       "273. 1.4\n",
       "274. 1.4\n",
       "275. 1.4\n",
       "276. 1.5\n",
       "277. 1.5\n",
       "278. 1.5\n",
       "279. 1.5\n",
       "280. 1.5\n",
       "281. 1.5\n",
       "282. 1.6\n",
       "283. 1.6\n",
       "284. 1.7\n",
       "285. 1.7\n",
       "286. 1.7\n",
       "287. 1.8\n",
       "288. 1.8\n",
       "289. 1.8\n",
       "290. 2\n",
       "291. 2\n",
       "292. 2\n",
       "293. 2.1\n",
       "294. 2.1\n",
       "295. 2.2\n",
       "296. 2.5\n",
       "297. 2.7\n",
       "298. 4.5\n",
       "\n",
       "\n"
      ],
      "text/plain": [
       "  [1] 0.1 0.1 0.1 0.2 0.2 0.2 0.2 0.2 0.2 0.2 0.3 0.3 0.3 0.3 0.3 0.3 0.3 0.3\n",
       " [19] 0.3 0.3 0.3 0.3 0.3 0.3 0.3 0.3 0.3 0.3 0.3 0.4 0.4 0.4 0.4 0.4 0.4 0.4\n",
       " [37] 0.4 0.4 0.4 0.4 0.4 0.4 0.4 0.4 0.4 0.4 0.4 0.4 0.4 0.4 0.4 0.4 0.4 0.4\n",
       " [55] 0.4 0.4 0.5 0.5 0.5 0.5 0.5 0.5 0.5 0.5 0.5 0.5 0.5 0.5 0.5 0.5 0.5 0.5\n",
       " [73] 0.5 0.5 0.5 0.5 0.5 0.5 0.5 0.5 0.5 0.5 0.5 0.5 0.5 0.5 0.5 0.5 0.6 0.6\n",
       " [91] 0.6 0.6 0.6 0.6 0.6 0.6 0.6 0.6 0.6 0.6 0.6 0.6 0.6 0.6 0.6 0.6 0.6 0.6\n",
       "[109] 0.6 0.6 0.6 0.6 0.6 0.6 0.6 0.6 0.6 0.6 0.6 0.6 0.6 0.6 0.6 0.7 0.7 0.7\n",
       "[127] 0.7 0.7 0.7 0.7 0.7 0.7 0.7 0.7 0.7 0.7 0.7 0.7 0.7 0.7 0.7 0.7 0.7 0.7\n",
       "[145] 0.7 0.7 0.7 0.7 0.7 0.7 0.7 0.7 0.7 0.7 0.7 0.7 0.7 0.7 0.7 0.7 0.7 0.8\n",
       "[163] 0.8 0.8 0.8 0.8 0.8 0.8 0.8 0.8 0.8 0.8 0.8 0.8 0.8 0.8 0.8 0.8 0.8 0.8\n",
       "[181] 0.8 0.8 0.8 0.8 0.8 0.8 0.8 0.8 0.8 0.8 0.8 0.8 0.8 0.8 0.8 0.8 0.8 0.8\n",
       "[199] 0.8 0.9 0.9 0.9 0.9 0.9 0.9 0.9 0.9 0.9 0.9 0.9 0.9 0.9 0.9 0.9 0.9 0.9\n",
       "[217] 0.9 0.9 0.9 0.9 0.9 1.0 1.0 1.0 1.0 1.0 1.0 1.0 1.0 1.0 1.0 1.0 1.0 1.0\n",
       "[235] 1.0 1.0 1.0 1.1 1.1 1.1 1.1 1.1 1.1 1.1 1.1 1.1 1.1 1.1 1.1 1.1 1.1 1.1\n",
       "[253] 1.1 1.2 1.2 1.2 1.2 1.2 1.2 1.3 1.3 1.3 1.3 1.3 1.3 1.3 1.4 1.4 1.4 1.4\n",
       "[271] 1.4 1.4 1.4 1.4 1.4 1.5 1.5 1.5 1.5 1.5 1.5 1.6 1.6 1.7 1.7 1.7 1.8 1.8\n",
       "[289] 1.8 2.0 2.0 2.0 2.1 2.1 2.2 2.5 2.7 4.5"
      ]
     },
     "metadata": {},
     "output_type": "display_data"
    },
    {
     "data": {
      "image/png": "[encoded data removed]",
      "text/plain": [
       "plot without title"
      ]
     },
     "metadata": {
      "image/png": {
       "height": 525,
       "width": 525
      }
     },
     "output_type": "display_data"
    }
   ],
   "source": [
    "data(IgM)\n",
    "IgM\n",
    "par(mfrow=c(1,2))\n",
    "boxplot(IgM)\n",
    "boxplot(log(IgM))"
   ]
  },
  {
   "cell_type": "markdown",
   "metadata": {},
   "source": [
    "### Graphs for grouped data \n",
    "\n",
    "We are presenting here some techniques for comparing plots between groups.\n",
    "\n",
    "#### Histograms\n",
    "\n"
   ]
  },
  {
   "cell_type": "code",
   "execution_count": 201,
   "metadata": {
    "ExecuteTime": {
     "end_time": "2021-02-16T09:12:33.665164Z",
     "start_time": "2021-02-16T09:12:33.592Z"
    }
   },
   "outputs": [
    {
     "name": "stderr",
     "output_type": "stream",
     "text": [
      "The following objects are masked from energy (pos = 4):\n",
      "\n",
      "    expend, stature\n",
      "\n",
      "\n"
     ]
    }
   ],
   "source": [
    "data(energy)\n",
    "attach(energy)"
   ]
  },
  {
   "cell_type": "code",
   "execution_count": 202,
   "metadata": {
    "ExecuteTime": {
     "end_time": "2021-02-16T09:12:33.718169Z",
     "start_time": "2021-02-16T09:12:33.599Z"
    }
   },
   "outputs": [
    {
     "data": {
      "text/html": [
       "<table class=\"dataframe\">\n",
       "<caption>A data.frame: 22 × 2</caption>\n",
       "<thead>\n",
       "\t<tr><th></th><th scope=col>expend</th><th scope=col>stature</th></tr>\n",
       "\t<tr><th></th><th scope=col>&lt;dbl&gt;</th><th scope=col>&lt;fct&gt;</th></tr>\n",
       "</thead>\n",
       "<tbody>\n",
       "\t<tr><th scope=row>1</th><td> 9.21</td><td>obese</td></tr>\n",
       "\t<tr><th scope=row>2</th><td> 7.53</td><td>lean </td></tr>\n",
       "\t<tr><th scope=row>3</th><td> 7.48</td><td>lean </td></tr>\n",
       "\t<tr><th scope=row>4</th><td> 8.08</td><td>lean </td></tr>\n",
       "\t<tr><th scope=row>5</th><td> 8.09</td><td>lean </td></tr>\n",
       "\t<tr><th scope=row>6</th><td>10.15</td><td>lean </td></tr>\n",
       "\t<tr><th scope=row>7</th><td> 8.40</td><td>lean </td></tr>\n",
       "\t<tr><th scope=row>8</th><td>10.88</td><td>lean </td></tr>\n",
       "\t<tr><th scope=row>9</th><td> 6.13</td><td>lean </td></tr>\n",
       "\t<tr><th scope=row>10</th><td> 7.90</td><td>lean </td></tr>\n",
       "\t<tr><th scope=row>11</th><td>11.51</td><td>obese</td></tr>\n",
       "\t<tr><th scope=row>12</th><td>12.79</td><td>obese</td></tr>\n",
       "\t<tr><th scope=row>13</th><td> 7.05</td><td>lean </td></tr>\n",
       "\t<tr><th scope=row>14</th><td>11.85</td><td>obese</td></tr>\n",
       "\t<tr><th scope=row>15</th><td> 9.97</td><td>obese</td></tr>\n",
       "\t<tr><th scope=row>16</th><td> 7.48</td><td>lean </td></tr>\n",
       "\t<tr><th scope=row>17</th><td> 8.79</td><td>obese</td></tr>\n",
       "\t<tr><th scope=row>18</th><td> 9.69</td><td>obese</td></tr>\n",
       "\t<tr><th scope=row>19</th><td> 9.68</td><td>obese</td></tr>\n",
       "\t<tr><th scope=row>20</th><td> 7.58</td><td>lean </td></tr>\n",
       "\t<tr><th scope=row>21</th><td> 9.19</td><td>obese</td></tr>\n",
       "\t<tr><th scope=row>22</th><td> 8.11</td><td>lean </td></tr>\n",
       "</tbody>\n",
       "</table>\n"
      ],
      "text/latex": [
       "A data.frame: 22 × 2\n",
       "\\begin{tabular}{r|ll}\n",
       "  & expend & stature\\\\\n",
       "  & <dbl> & <fct>\\\\\n",
       "\\hline\n",
       "\t1 &  9.21 & obese\\\\\n",
       "\t2 &  7.53 & lean \\\\\n",
       "\t3 &  7.48 & lean \\\\\n",
       "\t4 &  8.08 & lean \\\\\n",
       "\t5 &  8.09 & lean \\\\\n",
       "\t6 & 10.15 & lean \\\\\n",
       "\t7 &  8.40 & lean \\\\\n",
       "\t8 & 10.88 & lean \\\\\n",
       "\t9 &  6.13 & lean \\\\\n",
       "\t10 &  7.90 & lean \\\\\n",
       "\t11 & 11.51 & obese\\\\\n",
       "\t12 & 12.79 & obese\\\\\n",
       "\t13 &  7.05 & lean \\\\\n",
       "\t14 & 11.85 & obese\\\\\n",
       "\t15 &  9.97 & obese\\\\\n",
       "\t16 &  7.48 & lean \\\\\n",
       "\t17 &  8.79 & obese\\\\\n",
       "\t18 &  9.69 & obese\\\\\n",
       "\t19 &  9.68 & obese\\\\\n",
       "\t20 &  7.58 & lean \\\\\n",
       "\t21 &  9.19 & obese\\\\\n",
       "\t22 &  8.11 & lean \\\\\n",
       "\\end{tabular}\n"
      ],
      "text/markdown": [
       "\n",
       "A data.frame: 22 × 2\n",
       "\n",
       "| <!--/--> | expend &lt;dbl&gt; | stature &lt;fct&gt; |\n",
       "|---|---|---|\n",
       "| 1 |  9.21 | obese |\n",
       "| 2 |  7.53 | lean  |\n",
       "| 3 |  7.48 | lean  |\n",
       "| 4 |  8.08 | lean  |\n",
       "| 5 |  8.09 | lean  |\n",
       "| 6 | 10.15 | lean  |\n",
       "| 7 |  8.40 | lean  |\n",
       "| 8 | 10.88 | lean  |\n",
       "| 9 |  6.13 | lean  |\n",
       "| 10 |  7.90 | lean  |\n",
       "| 11 | 11.51 | obese |\n",
       "| 12 | 12.79 | obese |\n",
       "| 13 |  7.05 | lean  |\n",
       "| 14 | 11.85 | obese |\n",
       "| 15 |  9.97 | obese |\n",
       "| 16 |  7.48 | lean  |\n",
       "| 17 |  8.79 | obese |\n",
       "| 18 |  9.69 | obese |\n",
       "| 19 |  9.68 | obese |\n",
       "| 20 |  7.58 | lean  |\n",
       "| 21 |  9.19 | obese |\n",
       "| 22 |  8.11 | lean  |\n",
       "\n"
      ],
      "text/plain": [
       "   expend stature\n",
       "1   9.21  obese  \n",
       "2   7.53  lean   \n",
       "3   7.48  lean   \n",
       "4   8.08  lean   \n",
       "5   8.09  lean   \n",
       "6  10.15  lean   \n",
       "7   8.40  lean   \n",
       "8  10.88  lean   \n",
       "9   6.13  lean   \n",
       "10  7.90  lean   \n",
       "11 11.51  obese  \n",
       "12 12.79  obese  \n",
       "13  7.05  lean   \n",
       "14 11.85  obese  \n",
       "15  9.97  obese  \n",
       "16  7.48  lean   \n",
       "17  8.79  obese  \n",
       "18  9.69  obese  \n",
       "19  9.68  obese  \n",
       "20  7.58  lean   \n",
       "21  9.19  obese  \n",
       "22  8.11  lean   "
      ]
     },
     "metadata": {},
     "output_type": "display_data"
    }
   ],
   "source": [
    "energy"
   ]
  },
  {
   "cell_type": "code",
   "execution_count": 203,
   "metadata": {
    "ExecuteTime": {
     "end_time": "2021-02-16T09:12:33.836167Z",
     "start_time": "2021-02-16T09:12:33.605Z"
    }
   },
   "outputs": [
    {
     "data": {
      "image/png": "[encoded data removed]",
      "text/plain": [
       "Plot with title \"Histogram of expend.obese\""
      ]
     },
     "metadata": {
      "image/png": {
       "height": 525,
       "width": 525
      }
     },
     "output_type": "display_data"
    }
   ],
   "source": [
    "expend.lean <- expend[stature==\"lean\"]\n",
    " expend.obese <- expend[stature==\"obese\"]\n",
    " par(mfrow=c(1,2))\n",
    " hist(expend.lean, breaks=10, xlim=c(5,13), ylim=c(0,4),col=\"white\")\n",
    " hist(expend.obese, breaks=10, xlim=c(5,13), ylim=c(0,4), col=\"grey\")\n",
    "par(mfrow=c(1,1))"
   ]
  },
  {
   "cell_type": "markdown",
   "metadata": {},
   "source": [
    "#### Parallel boxplots\n",
    "\n",
    "It is possible to insert boxplots of several different groups in the same window\n",
    " "
   ]
  },
  {
   "cell_type": "code",
   "execution_count": 204,
   "metadata": {
    "ExecuteTime": {
     "end_time": "2021-02-16T09:12:33.936168Z",
     "start_time": "2021-02-16T09:12:33.820Z"
    }
   },
   "outputs": [
    {
     "data": {
      "image/png": "[encoded data removed]",
      "text/plain": [
       "plot without title"
      ]
     },
     "metadata": {
      "image/png": {
       "height": 525,
       "width": 525
      }
     },
     "output_type": "display_data"
    }
   ],
   "source": [
    "boxplot(expend.lean, expend.obese) "
   ]
  },
  {
   "cell_type": "markdown",
   "metadata": {},
   "source": [
    "#### Stripcharts\n",
    "\n",
    "*  The stripcharts provide the possibility to display the raw data in a graph. We present four variants:\n"
   ]
  },
  {
   "cell_type": "code",
   "execution_count": 205,
   "metadata": {
    "ExecuteTime": {
     "end_time": "2021-02-16T09:12:34.154168Z",
     "start_time": "2021-02-16T09:12:34.024Z"
    }
   },
   "outputs": [
    {
     "data": {
      "image/png": "[encoded data removed]",
      "text/plain": [
       "plot without title"
      ]
     },
     "metadata": {
      "image/png": {
       "height": 525,
       "width": 525
      }
     },
     "output_type": "display_data"
    }
   ],
   "source": [
    "opar <- par(mfrow=c(2,2), mex=0.8, mar=c(3,3,2,1)+.1)\n",
    "stripchart(expend~stature)\n",
    "stripchart(expend~stature, method=\"stack\")\n",
    "stripchart(expend~stature, method=\"jitter\")\n",
    "stripchart(expend~stature, method=\"jitter\", jitter=0.3)\n",
    "par(mfrow=c(1,1))\n"
   ]
  },
  {
   "cell_type": "markdown",
   "metadata": {},
   "source": [
    "*  The first version superimposes identical points. The parameter `stack` allows to stack identical data vertically. The parameter `jitter` allows to apply a random vertical lag to each point. The last version applies a random lag smaller than the one in the previous version.\n",
    "\n",
    "#### Generate tables\n",
    "\n",
    "*  A bi-dimensional table can be generated using `matrix`. The following example concerns the caffeine consumption while giving birth, with respect to women's civil status.\n"
   ]
  },
  {
   "cell_type": "code",
   "execution_count": 206,
   "metadata": {
    "ExecuteTime": {
     "end_time": "2021-02-16T09:12:34.274165Z",
     "start_time": "2021-02-16T09:12:34.233Z"
    }
   },
   "outputs": [
    {
     "data": {
      "text/html": [
       "<table class=\"dataframe\">\n",
       "<caption>A matrix: 3 × 4 of type dbl</caption>\n",
       "<tbody>\n",
       "\t<tr><td>652</td><td>1537</td><td>598</td><td>242</td></tr>\n",
       "\t<tr><td> 36</td><td>  46</td><td> 38</td><td> 21</td></tr>\n",
       "\t<tr><td>218</td><td> 327</td><td>106</td><td> 67</td></tr>\n",
       "</tbody>\n",
       "</table>\n"
      ],
      "text/latex": [
       "A matrix: 3 × 4 of type dbl\n",
       "\\begin{tabular}{llll}\n",
       "\t 652 & 1537 & 598 & 242\\\\\n",
       "\t  36 &   46 &  38 &  21\\\\\n",
       "\t 218 &  327 & 106 &  67\\\\\n",
       "\\end{tabular}\n"
      ],
      "text/markdown": [
       "\n",
       "A matrix: 3 × 4 of type dbl\n",
       "\n",
       "| 652 | 1537 | 598 | 242 |\n",
       "|  36 |   46 |  38 |  21 |\n",
       "| 218 |  327 | 106 |  67 |\n",
       "\n"
      ],
      "text/plain": [
       "     [,1] [,2] [,3] [,4]\n",
       "[1,] 652  1537 598  242 \n",
       "[2,]  36    46  38   21 \n",
       "[3,] 218   327 106   67 "
      ]
     },
     "metadata": {},
     "output_type": "display_data"
    }
   ],
   "source": [
    "caff.marital <- matrix(c(652, 1537, 598, 242, 36, 46, 38, 21, 218, 327, 106, 67), nrow=3, byrow=T)\n",
    "caff.marital\n"
   ]
  },
  {
   "cell_type": "markdown",
   "metadata": {},
   "source": [
    "*  Adding names to the rows and columns:\n"
   ]
  },
  {
   "cell_type": "code",
   "execution_count": 207,
   "metadata": {
    "ExecuteTime": {
     "end_time": "2021-02-16T09:12:34.459177Z",
     "start_time": "2021-02-16T09:12:34.419Z"
    }
   },
   "outputs": [
    {
     "data": {
      "text/html": [
       "<table class=\"dataframe\">\n",
       "<caption>A matrix: 3 × 4 of type dbl</caption>\n",
       "<thead>\n",
       "\t<tr><th></th><th scope=col>0</th><th scope=col>1-150</th><th scope=col>151-300</th><th scope=col>&gt;300</th></tr>\n",
       "</thead>\n",
       "<tbody>\n",
       "\t<tr><th scope=row>Married</th><td>652</td><td>1537</td><td>598</td><td>242</td></tr>\n",
       "\t<tr><th scope=row>Prev.married</th><td> 36</td><td>  46</td><td> 38</td><td> 21</td></tr>\n",
       "\t<tr><th scope=row>Single</th><td>218</td><td> 327</td><td>106</td><td> 67</td></tr>\n",
       "</tbody>\n",
       "</table>\n"
      ],
      "text/latex": [
       "A matrix: 3 × 4 of type dbl\n",
       "\\begin{tabular}{r|llll}\n",
       "  & 0 & 1-150 & 151-300 & >300\\\\\n",
       "\\hline\n",
       "\tMarried & 652 & 1537 & 598 & 242\\\\\n",
       "\tPrev.married &  36 &   46 &  38 &  21\\\\\n",
       "\tSingle & 218 &  327 & 106 &  67\\\\\n",
       "\\end{tabular}\n"
      ],
      "text/markdown": [
       "\n",
       "A matrix: 3 × 4 of type dbl\n",
       "\n",
       "| <!--/--> | 0 | 1-150 | 151-300 | &gt;300 |\n",
       "|---|---|---|---|---|\n",
       "| Married | 652 | 1537 | 598 | 242 |\n",
       "| Prev.married |  36 |   46 |  38 |  21 |\n",
       "| Single | 218 |  327 | 106 |  67 |\n",
       "\n"
      ],
      "text/plain": [
       "             0   1-150 151-300 >300\n",
       "Married      652 1537  598     242 \n",
       "Prev.married  36   46   38      21 \n",
       "Single       218  327  106      67 "
      ]
     },
     "metadata": {},
     "output_type": "display_data"
    }
   ],
   "source": [
    "colnames(caff.marital) <- c(\"0\", \"1-150\", \"151-300\", \">300\")\n",
    "rownames(caff.marital) <- c(\"Married\",\"Prev.married\", \"Single\")\n",
    "caff.marital\n"
   ]
  },
  {
   "cell_type": "markdown",
   "metadata": {},
   "source": [
    "*  In general, we want to create tables from a data set. In this case, we have to use the functions `table, xtabs,` or `ftable`. The factors' levels are directly used as the columns' names. The function `table`` is the simplest one of the three.\n"
   ]
  },
  {
   "cell_type": "code",
   "execution_count": 208,
   "metadata": {
    "ExecuteTime": {
     "end_time": "2021-02-16T09:12:34.659171Z",
     "start_time": "2021-02-16T09:12:34.607Z"
    }
   },
   "outputs": [
    {
     "name": "stderr",
     "output_type": "stream",
     "text": [
      "The following objects are masked from juul (pos = 4):\n",
      "\n",
      "    age, igf1, menarche, sex, tanner, testvol\n",
      "\n",
      "\n"
     ]
    }
   ],
   "source": [
    "library(ISwR)\n",
    "data(juul)\n",
    "attach(juul)\n",
    "juul$sex <- factor(juul$sex, labels=c(\"M\", \"F\"))\n",
    "juul$menarche <- factor(juul$menarche, labels=c(\"No\", \"Yes\"))\n",
    "juul$tanner <- factor(juul$tanner, labels=c(\"I\", \"II\", \"III\", \"IV\", \"V\"))\n"
   ]
  },
  {
   "cell_type": "code",
   "execution_count": 209,
   "metadata": {
    "ExecuteTime": {
     "end_time": "2021-02-16T09:12:34.765171Z",
     "start_time": "2021-02-16T09:12:34.618Z"
    }
   },
   "outputs": [
    {
     "data": {
      "text/html": [
       "<table class=\"dataframe\">\n",
       "<caption>A data.frame: 1339 × 6</caption>\n",
       "<thead>\n",
       "\t<tr><th scope=col>age</th><th scope=col>menarche</th><th scope=col>sex</th><th scope=col>igf1</th><th scope=col>tanner</th><th scope=col>testvol</th></tr>\n",
       "\t<tr><th scope=col>&lt;dbl&gt;</th><th scope=col>&lt;fct&gt;</th><th scope=col>&lt;fct&gt;</th><th scope=col>&lt;dbl&gt;</th><th scope=col>&lt;fct&gt;</th><th scope=col>&lt;int&gt;</th></tr>\n",
       "</thead>\n",
       "<tbody>\n",
       "\t<tr><td>  NA</td><td>NA</td><td>NA</td><td> 90</td><td>NA</td><td>NA</td></tr>\n",
       "\t<tr><td>  NA</td><td>NA</td><td>NA</td><td> 88</td><td>NA</td><td>NA</td></tr>\n",
       "\t<tr><td>  NA</td><td>NA</td><td>NA</td><td>164</td><td>NA</td><td>NA</td></tr>\n",
       "\t<tr><td>  NA</td><td>NA</td><td>NA</td><td>166</td><td>NA</td><td>NA</td></tr>\n",
       "\t<tr><td>  NA</td><td>NA</td><td>NA</td><td>131</td><td>NA</td><td>NA</td></tr>\n",
       "\t<tr><td>0.17</td><td>NA</td><td>M </td><td>101</td><td>I </td><td>NA</td></tr>\n",
       "\t<tr><td>0.17</td><td>NA</td><td>M </td><td> 97</td><td>I </td><td>NA</td></tr>\n",
       "\t<tr><td>0.17</td><td>NA</td><td>M </td><td>106</td><td>I </td><td>NA</td></tr>\n",
       "\t<tr><td>0.17</td><td>NA</td><td>M </td><td>111</td><td>I </td><td>NA</td></tr>\n",
       "\t<tr><td>0.17</td><td>NA</td><td>M </td><td> 79</td><td>I </td><td>NA</td></tr>\n",
       "\t<tr><td>0.17</td><td>NA</td><td>M </td><td> 43</td><td>I </td><td>NA</td></tr>\n",
       "\t<tr><td>0.17</td><td>NA</td><td>M </td><td> 64</td><td>I </td><td>NA</td></tr>\n",
       "\t<tr><td>0.25</td><td>NA</td><td>M </td><td> 90</td><td>I </td><td>NA</td></tr>\n",
       "\t<tr><td>0.25</td><td>NA</td><td>M </td><td>141</td><td>I </td><td>NA</td></tr>\n",
       "\t<tr><td>0.42</td><td>NA</td><td>M </td><td> 42</td><td>I </td><td>NA</td></tr>\n",
       "\t<tr><td>0.50</td><td>NA</td><td>M </td><td> 43</td><td>I </td><td>NA</td></tr>\n",
       "\t<tr><td>0.67</td><td>NA</td><td>M </td><td>132</td><td>I </td><td>NA</td></tr>\n",
       "\t<tr><td>0.75</td><td>NA</td><td>M </td><td> 43</td><td>I </td><td>NA</td></tr>\n",
       "\t<tr><td>0.75</td><td>NA</td><td>M </td><td> 36</td><td>I </td><td>NA</td></tr>\n",
       "\t<tr><td>1.00</td><td>NA</td><td>M </td><td> 86</td><td>I </td><td>NA</td></tr>\n",
       "\t<tr><td>1.16</td><td>NA</td><td>M </td><td> 44</td><td>I </td><td>NA</td></tr>\n",
       "\t<tr><td>1.50</td><td>NA</td><td>M </td><td> 68</td><td>I </td><td>NA</td></tr>\n",
       "\t<tr><td>1.50</td><td>NA</td><td>M </td><td> 89</td><td>I </td><td>NA</td></tr>\n",
       "\t<tr><td>1.58</td><td>NA</td><td>M </td><td>101</td><td>I </td><td>NA</td></tr>\n",
       "\t<tr><td>1.67</td><td>NA</td><td>M </td><td>115</td><td>I </td><td>NA</td></tr>\n",
       "\t<tr><td>1.67</td><td>NA</td><td>M </td><td> 53</td><td>I </td><td>NA</td></tr>\n",
       "\t<tr><td>1.75</td><td>NA</td><td>M </td><td> 94</td><td>I </td><td>NA</td></tr>\n",
       "\t<tr><td>1.83</td><td>NA</td><td>M </td><td> 95</td><td>I </td><td>NA</td></tr>\n",
       "\t<tr><td>1.92</td><td>NA</td><td>M </td><td> 76</td><td>I </td><td>NA</td></tr>\n",
       "\t<tr><td>2.00</td><td>NA</td><td>M </td><td> 79</td><td>I </td><td>NA</td></tr>\n",
       "\t<tr><td>...</td><td>...</td><td>...</td><td>...</td><td>...</td><td>...</td></tr>\n",
       "\t<tr><td>40.08</td><td>Yes</td><td>F</td><td>200</td><td>NA</td><td>NA</td></tr>\n",
       "\t<tr><td>40.91</td><td>Yes</td><td>F</td><td>220</td><td>NA</td><td>NA</td></tr>\n",
       "\t<tr><td>41.00</td><td>Yes</td><td>F</td><td>233</td><td>NA</td><td>NA</td></tr>\n",
       "\t<tr><td>41.43</td><td>Yes</td><td>F</td><td>206</td><td>NA</td><td>NA</td></tr>\n",
       "\t<tr><td>41.91</td><td>Yes</td><td>F</td><td>331</td><td>V </td><td>NA</td></tr>\n",
       "\t<tr><td>42.00</td><td>Yes</td><td>F</td><td>169</td><td>NA</td><td>NA</td></tr>\n",
       "\t<tr><td>42.69</td><td>Yes</td><td>F</td><td>130</td><td>NA</td><td>NA</td></tr>\n",
       "\t<tr><td>43.10</td><td>Yes</td><td>F</td><td>262</td><td>NA</td><td>NA</td></tr>\n",
       "\t<tr><td>43.33</td><td>Yes</td><td>F</td><td>100</td><td>V </td><td>NA</td></tr>\n",
       "\t<tr><td>43.80</td><td>Yes</td><td>F</td><td>249</td><td>NA</td><td>NA</td></tr>\n",
       "\t<tr><td>44.62</td><td>Yes</td><td>F</td><td>170</td><td>V </td><td>NA</td></tr>\n",
       "\t<tr><td>45.22</td><td>Yes</td><td>F</td><td>156</td><td>NA</td><td>NA</td></tr>\n",
       "\t<tr><td>45.28</td><td>Yes</td><td>F</td><td>251</td><td>NA</td><td>NA</td></tr>\n",
       "\t<tr><td>45.41</td><td>Yes</td><td>F</td><td>220</td><td>NA</td><td>NA</td></tr>\n",
       "\t<tr><td>47.00</td><td>Yes</td><td>F</td><td>174</td><td>NA</td><td>NA</td></tr>\n",
       "\t<tr><td>47.37</td><td>Yes</td><td>F</td><td>144</td><td>V </td><td>NA</td></tr>\n",
       "\t<tr><td>48.01</td><td>Yes</td><td>F</td><td>154</td><td>V </td><td>NA</td></tr>\n",
       "\t<tr><td>48.34</td><td>Yes</td><td>F</td><td> NA</td><td>NA</td><td>NA</td></tr>\n",
       "\t<tr><td>49.46</td><td>Yes</td><td>F</td><td>140</td><td>NA</td><td>NA</td></tr>\n",
       "\t<tr><td>51.07</td><td>Yes</td><td>F</td><td>187</td><td>V </td><td>NA</td></tr>\n",
       "\t<tr><td>52.00</td><td>Yes</td><td>F</td><td>140</td><td>NA</td><td>NA</td></tr>\n",
       "\t<tr><td>53.18</td><td>Yes</td><td>F</td><td>252</td><td>NA</td><td>NA</td></tr>\n",
       "\t<tr><td>54.00</td><td>Yes</td><td>F</td><td>124</td><td>NA</td><td>NA</td></tr>\n",
       "\t<tr><td>54.00</td><td>Yes</td><td>F</td><td>187</td><td>NA</td><td>NA</td></tr>\n",
       "\t<tr><td>58.95</td><td>Yes</td><td>F</td><td>218</td><td>V </td><td>NA</td></tr>\n",
       "\t<tr><td>60.99</td><td>Yes</td><td>F</td><td>226</td><td>V </td><td>NA</td></tr>\n",
       "\t<tr><td>62.73</td><td>Yes</td><td>F</td><td> NA</td><td>NA</td><td>NA</td></tr>\n",
       "\t<tr><td>65.00</td><td>Yes</td><td>F</td><td>106</td><td>NA</td><td>NA</td></tr>\n",
       "\t<tr><td>67.88</td><td>Yes</td><td>F</td><td>217</td><td>NA</td><td>NA</td></tr>\n",
       "\t<tr><td>75.12</td><td>Yes</td><td>F</td><td>135</td><td>NA</td><td>NA</td></tr>\n",
       "</tbody>\n",
       "</table>\n"
      ],
      "text/latex": [
       "A data.frame: 1339 × 6\n",
       "\\begin{tabular}{llllll}\n",
       " age & menarche & sex & igf1 & tanner & testvol\\\\\n",
       " <dbl> & <fct> & <fct> & <dbl> & <fct> & <int>\\\\\n",
       "\\hline\n",
       "\t   NA & NA & NA &  90 & NA & NA\\\\\n",
       "\t   NA & NA & NA &  88 & NA & NA\\\\\n",
       "\t   NA & NA & NA & 164 & NA & NA\\\\\n",
       "\t   NA & NA & NA & 166 & NA & NA\\\\\n",
       "\t   NA & NA & NA & 131 & NA & NA\\\\\n",
       "\t 0.17 & NA & M  & 101 & I  & NA\\\\\n",
       "\t 0.17 & NA & M  &  97 & I  & NA\\\\\n",
       "\t 0.17 & NA & M  & 106 & I  & NA\\\\\n",
       "\t 0.17 & NA & M  & 111 & I  & NA\\\\\n",
       "\t 0.17 & NA & M  &  79 & I  & NA\\\\\n",
       "\t 0.17 & NA & M  &  43 & I  & NA\\\\\n",
       "\t 0.17 & NA & M  &  64 & I  & NA\\\\\n",
       "\t 0.25 & NA & M  &  90 & I  & NA\\\\\n",
       "\t 0.25 & NA & M  & 141 & I  & NA\\\\\n",
       "\t 0.42 & NA & M  &  42 & I  & NA\\\\\n",
       "\t 0.50 & NA & M  &  43 & I  & NA\\\\\n",
       "\t 0.67 & NA & M  & 132 & I  & NA\\\\\n",
       "\t 0.75 & NA & M  &  43 & I  & NA\\\\\n",
       "\t 0.75 & NA & M  &  36 & I  & NA\\\\\n",
       "\t 1.00 & NA & M  &  86 & I  & NA\\\\\n",
       "\t 1.16 & NA & M  &  44 & I  & NA\\\\\n",
       "\t 1.50 & NA & M  &  68 & I  & NA\\\\\n",
       "\t 1.50 & NA & M  &  89 & I  & NA\\\\\n",
       "\t 1.58 & NA & M  & 101 & I  & NA\\\\\n",
       "\t 1.67 & NA & M  & 115 & I  & NA\\\\\n",
       "\t 1.67 & NA & M  &  53 & I  & NA\\\\\n",
       "\t 1.75 & NA & M  &  94 & I  & NA\\\\\n",
       "\t 1.83 & NA & M  &  95 & I  & NA\\\\\n",
       "\t 1.92 & NA & M  &  76 & I  & NA\\\\\n",
       "\t 2.00 & NA & M  &  79 & I  & NA\\\\\n",
       "\t ... & ... & ... & ... & ... & ...\\\\\n",
       "\t 40.08 & Yes & F & 200 & NA & NA\\\\\n",
       "\t 40.91 & Yes & F & 220 & NA & NA\\\\\n",
       "\t 41.00 & Yes & F & 233 & NA & NA\\\\\n",
       "\t 41.43 & Yes & F & 206 & NA & NA\\\\\n",
       "\t 41.91 & Yes & F & 331 & V  & NA\\\\\n",
       "\t 42.00 & Yes & F & 169 & NA & NA\\\\\n",
       "\t 42.69 & Yes & F & 130 & NA & NA\\\\\n",
       "\t 43.10 & Yes & F & 262 & NA & NA\\\\\n",
       "\t 43.33 & Yes & F & 100 & V  & NA\\\\\n",
       "\t 43.80 & Yes & F & 249 & NA & NA\\\\\n",
       "\t 44.62 & Yes & F & 170 & V  & NA\\\\\n",
       "\t 45.22 & Yes & F & 156 & NA & NA\\\\\n",
       "\t 45.28 & Yes & F & 251 & NA & NA\\\\\n",
       "\t 45.41 & Yes & F & 220 & NA & NA\\\\\n",
       "\t 47.00 & Yes & F & 174 & NA & NA\\\\\n",
       "\t 47.37 & Yes & F & 144 & V  & NA\\\\\n",
       "\t 48.01 & Yes & F & 154 & V  & NA\\\\\n",
       "\t 48.34 & Yes & F &  NA & NA & NA\\\\\n",
       "\t 49.46 & Yes & F & 140 & NA & NA\\\\\n",
       "\t 51.07 & Yes & F & 187 & V  & NA\\\\\n",
       "\t 52.00 & Yes & F & 140 & NA & NA\\\\\n",
       "\t 53.18 & Yes & F & 252 & NA & NA\\\\\n",
       "\t 54.00 & Yes & F & 124 & NA & NA\\\\\n",
       "\t 54.00 & Yes & F & 187 & NA & NA\\\\\n",
       "\t 58.95 & Yes & F & 218 & V  & NA\\\\\n",
       "\t 60.99 & Yes & F & 226 & V  & NA\\\\\n",
       "\t 62.73 & Yes & F &  NA & NA & NA\\\\\n",
       "\t 65.00 & Yes & F & 106 & NA & NA\\\\\n",
       "\t 67.88 & Yes & F & 217 & NA & NA\\\\\n",
       "\t 75.12 & Yes & F & 135 & NA & NA\\\\\n",
       "\\end{tabular}\n"
      ],
      "text/markdown": [
       "\n",
       "A data.frame: 1339 × 6\n",
       "\n",
       "| age &lt;dbl&gt; | menarche &lt;fct&gt; | sex &lt;fct&gt; | igf1 &lt;dbl&gt; | tanner &lt;fct&gt; | testvol &lt;int&gt; |\n",
       "|---|---|---|---|---|---|\n",
       "|   NA | NA | NA |  90 | NA | NA |\n",
       "|   NA | NA | NA |  88 | NA | NA |\n",
       "|   NA | NA | NA | 164 | NA | NA |\n",
       "|   NA | NA | NA | 166 | NA | NA |\n",
       "|   NA | NA | NA | 131 | NA | NA |\n",
       "| 0.17 | NA | M  | 101 | I  | NA |\n",
       "| 0.17 | NA | M  |  97 | I  | NA |\n",
       "| 0.17 | NA | M  | 106 | I  | NA |\n",
       "| 0.17 | NA | M  | 111 | I  | NA |\n",
       "| 0.17 | NA | M  |  79 | I  | NA |\n",
       "| 0.17 | NA | M  |  43 | I  | NA |\n",
       "| 0.17 | NA | M  |  64 | I  | NA |\n",
       "| 0.25 | NA | M  |  90 | I  | NA |\n",
       "| 0.25 | NA | M  | 141 | I  | NA |\n",
       "| 0.42 | NA | M  |  42 | I  | NA |\n",
       "| 0.50 | NA | M  |  43 | I  | NA |\n",
       "| 0.67 | NA | M  | 132 | I  | NA |\n",
       "| 0.75 | NA | M  |  43 | I  | NA |\n",
       "| 0.75 | NA | M  |  36 | I  | NA |\n",
       "| 1.00 | NA | M  |  86 | I  | NA |\n",
       "| 1.16 | NA | M  |  44 | I  | NA |\n",
       "| 1.50 | NA | M  |  68 | I  | NA |\n",
       "| 1.50 | NA | M  |  89 | I  | NA |\n",
       "| 1.58 | NA | M  | 101 | I  | NA |\n",
       "| 1.67 | NA | M  | 115 | I  | NA |\n",
       "| 1.67 | NA | M  |  53 | I  | NA |\n",
       "| 1.75 | NA | M  |  94 | I  | NA |\n",
       "| 1.83 | NA | M  |  95 | I  | NA |\n",
       "| 1.92 | NA | M  |  76 | I  | NA |\n",
       "| 2.00 | NA | M  |  79 | I  | NA |\n",
       "| ... | ... | ... | ... | ... | ... |\n",
       "| 40.08 | Yes | F | 200 | NA | NA |\n",
       "| 40.91 | Yes | F | 220 | NA | NA |\n",
       "| 41.00 | Yes | F | 233 | NA | NA |\n",
       "| 41.43 | Yes | F | 206 | NA | NA |\n",
       "| 41.91 | Yes | F | 331 | V  | NA |\n",
       "| 42.00 | Yes | F | 169 | NA | NA |\n",
       "| 42.69 | Yes | F | 130 | NA | NA |\n",
       "| 43.10 | Yes | F | 262 | NA | NA |\n",
       "| 43.33 | Yes | F | 100 | V  | NA |\n",
       "| 43.80 | Yes | F | 249 | NA | NA |\n",
       "| 44.62 | Yes | F | 170 | V  | NA |\n",
       "| 45.22 | Yes | F | 156 | NA | NA |\n",
       "| 45.28 | Yes | F | 251 | NA | NA |\n",
       "| 45.41 | Yes | F | 220 | NA | NA |\n",
       "| 47.00 | Yes | F | 174 | NA | NA |\n",
       "| 47.37 | Yes | F | 144 | V  | NA |\n",
       "| 48.01 | Yes | F | 154 | V  | NA |\n",
       "| 48.34 | Yes | F |  NA | NA | NA |\n",
       "| 49.46 | Yes | F | 140 | NA | NA |\n",
       "| 51.07 | Yes | F | 187 | V  | NA |\n",
       "| 52.00 | Yes | F | 140 | NA | NA |\n",
       "| 53.18 | Yes | F | 252 | NA | NA |\n",
       "| 54.00 | Yes | F | 124 | NA | NA |\n",
       "| 54.00 | Yes | F | 187 | NA | NA |\n",
       "| 58.95 | Yes | F | 218 | V  | NA |\n",
       "| 60.99 | Yes | F | 226 | V  | NA |\n",
       "| 62.73 | Yes | F |  NA | NA | NA |\n",
       "| 65.00 | Yes | F | 106 | NA | NA |\n",
       "| 67.88 | Yes | F | 217 | NA | NA |\n",
       "| 75.12 | Yes | F | 135 | NA | NA |\n",
       "\n"
      ],
      "text/plain": [
       "     age   menarche sex igf1 tanner testvol\n",
       "1      NA  NA       NA   90  NA     NA     \n",
       "2      NA  NA       NA   88  NA     NA     \n",
       "3      NA  NA       NA  164  NA     NA     \n",
       "4      NA  NA       NA  166  NA     NA     \n",
       "5      NA  NA       NA  131  NA     NA     \n",
       "6    0.17  NA       M   101  I      NA     \n",
       "7    0.17  NA       M    97  I      NA     \n",
       "8    0.17  NA       M   106  I      NA     \n",
       "9    0.17  NA       M   111  I      NA     \n",
       "10   0.17  NA       M    79  I      NA     \n",
       "11   0.17  NA       M    43  I      NA     \n",
       "12   0.17  NA       M    64  I      NA     \n",
       "13   0.25  NA       M    90  I      NA     \n",
       "14   0.25  NA       M   141  I      NA     \n",
       "15   0.42  NA       M    42  I      NA     \n",
       "16   0.50  NA       M    43  I      NA     \n",
       "17   0.67  NA       M   132  I      NA     \n",
       "18   0.75  NA       M    43  I      NA     \n",
       "19   0.75  NA       M    36  I      NA     \n",
       "20   1.00  NA       M    86  I      NA     \n",
       "21   1.16  NA       M    44  I      NA     \n",
       "22   1.50  NA       M    68  I      NA     \n",
       "23   1.50  NA       M    89  I      NA     \n",
       "24   1.58  NA       M   101  I      NA     \n",
       "25   1.67  NA       M   115  I      NA     \n",
       "26   1.67  NA       M    53  I      NA     \n",
       "27   1.75  NA       M    94  I      NA     \n",
       "28   1.83  NA       M    95  I      NA     \n",
       "29   1.92  NA       M    76  I      NA     \n",
       "30   2.00  NA       M    79  I      NA     \n",
       "...  ...   ...      ... ...  ...    ...    \n",
       "1310 40.08 Yes      F   200  NA     NA     \n",
       "1311 40.91 Yes      F   220  NA     NA     \n",
       "1312 41.00 Yes      F   233  NA     NA     \n",
       "1313 41.43 Yes      F   206  NA     NA     \n",
       "1314 41.91 Yes      F   331  V      NA     \n",
       "1315 42.00 Yes      F   169  NA     NA     \n",
       "1316 42.69 Yes      F   130  NA     NA     \n",
       "1317 43.10 Yes      F   262  NA     NA     \n",
       "1318 43.33 Yes      F   100  V      NA     \n",
       "1319 43.80 Yes      F   249  NA     NA     \n",
       "1320 44.62 Yes      F   170  V      NA     \n",
       "1321 45.22 Yes      F   156  NA     NA     \n",
       "1322 45.28 Yes      F   251  NA     NA     \n",
       "1323 45.41 Yes      F   220  NA     NA     \n",
       "1324 47.00 Yes      F   174  NA     NA     \n",
       "1325 47.37 Yes      F   144  V      NA     \n",
       "1326 48.01 Yes      F   154  V      NA     \n",
       "1327 48.34 Yes      F    NA  NA     NA     \n",
       "1328 49.46 Yes      F   140  NA     NA     \n",
       "1329 51.07 Yes      F   187  V      NA     \n",
       "1330 52.00 Yes      F   140  NA     NA     \n",
       "1331 53.18 Yes      F   252  NA     NA     \n",
       "1332 54.00 Yes      F   124  NA     NA     \n",
       "1333 54.00 Yes      F   187  NA     NA     \n",
       "1334 58.95 Yes      F   218  V      NA     \n",
       "1335 60.99 Yes      F   226  V      NA     \n",
       "1336 62.73 Yes      F    NA  NA     NA     \n",
       "1337 65.00 Yes      F   106  NA     NA     \n",
       "1338 67.88 Yes      F   217  NA     NA     \n",
       "1339 75.12 Yes      F   135  NA     NA     "
      ]
     },
     "metadata": {},
     "output_type": "display_data"
    }
   ],
   "source": [
    "juul"
   ]
  },
  {
   "cell_type": "code",
   "execution_count": 210,
   "metadata": {
    "ExecuteTime": {
     "end_time": "2021-02-16T09:12:34.804165Z",
     "start_time": "2021-02-16T09:12:34.624Z"
    }
   },
   "outputs": [
    {
     "data": {
      "text/plain": [
       "      age         menarche     sex           igf1        tanner   \n",
       " Min.   : 0.170   No  :369   M   :621   Min.   : 25.0   I   :515  \n",
       " 1st Qu.: 9.053   Yes :335   F   :713   1st Qu.:202.2   II  :103  \n",
       " Median :12.560   NA's:635   NA's:  5   Median :313.5   III : 72  \n",
       " Mean   :15.095                         Mean   :340.2   IV  : 81  \n",
       " 3rd Qu.:16.855                         3rd Qu.:462.8   V   :328  \n",
       " Max.   :83.000                         Max.   :915.0   NA's:240  \n",
       " NA's   :5                              NA's   :321               \n",
       "    testvol      \n",
       " Min.   : 1.000  \n",
       " 1st Qu.: 1.000  \n",
       " Median : 3.000  \n",
       " Mean   : 7.896  \n",
       " 3rd Qu.:15.000  \n",
       " Max.   :30.000  \n",
       " NA's   :859     "
      ]
     },
     "metadata": {},
     "output_type": "display_data"
    }
   ],
   "source": [
    "summary(juul)"
   ]
  },
  {
   "cell_type": "markdown",
   "metadata": {},
   "source": [
    "*  Then the respective tables are\n"
   ]
  },
  {
   "cell_type": "code",
   "execution_count": 211,
   "metadata": {
    "ExecuteTime": {
     "end_time": "2021-02-16T09:12:34.897176Z",
     "start_time": "2021-02-16T09:12:34.850Z"
    }
   },
   "outputs": [
    {
     "data": {
      "text/plain": [
       "\n",
       "  M   F \n",
       "621 713 "
      ]
     },
     "metadata": {},
     "output_type": "display_data"
    }
   ],
   "source": [
    "table(juul$sex)"
   ]
  },
  {
   "cell_type": "code",
   "execution_count": 212,
   "metadata": {
    "ExecuteTime": {
     "end_time": "2021-02-16T09:12:34.952166Z",
     "start_time": "2021-02-16T09:12:34.859Z"
    }
   },
   "outputs": [
    {
     "data": {
      "text/plain": [
       "   menarche\n",
       "sex   1   2\n",
       "  1   0   0\n",
       "  2 369 335"
      ]
     },
     "metadata": {},
     "output_type": "display_data"
    }
   ],
   "source": [
    "table(sex, menarche)"
   ]
  },
  {
   "cell_type": "code",
   "execution_count": 213,
   "metadata": {
    "ExecuteTime": {
     "end_time": "2021-02-16T09:12:34.996164Z",
     "start_time": "2021-02-16T09:12:34.867Z"
    }
   },
   "outputs": [
    {
     "data": {
      "text/plain": [
       "        tanner\n",
       "menarche   1   2   3   4   5\n",
       "       1 221  43  32  14   2\n",
       "       2   1   1   5  26 202"
      ]
     },
     "metadata": {},
     "output_type": "display_data"
    }
   ],
   "source": [
    "table(menarche, tanner)"
   ]
  },
  {
   "cell_type": "markdown",
   "metadata": {},
   "source": [
    "*   The variable `menarche` explains that a woman already had her first period and the variable  `tanner` provides the state of puberty.\n"
   ]
  },
  {
   "cell_type": "markdown",
   "metadata": {},
   "source": [
    "#### Exercises: Marginal tables and relative frequencies\n",
    "\n",
    "*  Define the following table\n"
   ]
  },
  {
   "cell_type": "code",
   "execution_count": 214,
   "metadata": {
    "ExecuteTime": {
     "end_time": "2021-02-16T09:12:35.399168Z",
     "start_time": "2021-02-16T09:12:35.357Z"
    }
   },
   "outputs": [
    {
     "data": {
      "text/plain": [
       "      sex\n",
       "tanner   1   2\n",
       "     1 291 224\n",
       "     2  55  48\n",
       "     3  34  38\n",
       "     4  41  40\n",
       "     5 124 204"
      ]
     },
     "metadata": {},
     "output_type": "display_data"
    }
   ],
   "source": [
    "tanner.sex=table(tanner, sex)\n",
    "tanner.sex"
   ]
  },
  {
   "cell_type": "markdown",
   "metadata": {},
   "source": [
    "*  Compute the marginal tables, i.e. the sum of values with respect to one of the other table's dimensions using the function `margin.table()`\n",
    "\n"
   ]
  },
  {
   "cell_type": "code",
   "execution_count": 215,
   "metadata": {
    "ExecuteTime": {
     "end_time": "2021-02-16T09:12:35.591174Z",
     "start_time": "2021-02-16T09:12:35.556Z"
    }
   },
   "outputs": [
    {
     "data": {
      "text/plain": [
       "tanner\n",
       "  1   2   3   4   5 \n",
       "515 103  72  81 328 "
      ]
     },
     "metadata": {},
     "output_type": "display_data"
    },
    {
     "data": {
      "text/plain": [
       "sex\n",
       "  1   2 \n",
       "545 554 "
      ]
     },
     "metadata": {},
     "output_type": "display_data"
    }
   ],
   "source": [
    "margin.table(tanner.sex, 1)\n",
    "margin.table(tanner.sex, 2)"
   ]
  },
  {
   "cell_type": "markdown",
   "metadata": {},
   "source": [
    "*  Using the function `prop.table()`, compute the table of relative frequencies can be computed. This contains the relative frequencies that are the proportions of the row's or column's total.\n"
   ]
  },
  {
   "cell_type": "code",
   "execution_count": 216,
   "metadata": {
    "ExecuteTime": {
     "end_time": "2021-02-16T09:12:35.801165Z",
     "start_time": "2021-02-16T09:12:35.763Z"
    }
   },
   "outputs": [
    {
     "data": {
      "text/plain": [
       "      sex\n",
       "tanner         1         2\n",
       "     1 0.5650485 0.4349515\n",
       "     2 0.5339806 0.4660194\n",
       "     3 0.4722222 0.5277778\n",
       "     4 0.5061728 0.4938272\n",
       "     5 0.3780488 0.6219512"
      ]
     },
     "metadata": {},
     "output_type": "display_data"
    }
   ],
   "source": [
    "prop.table(tanner.sex, 1)"
   ]
  },
  {
   "cell_type": "markdown",
   "metadata": {},
   "source": [
    "*  Compute the proportions with respect to the global total of the table:\n"
   ]
  },
  {
   "cell_type": "code",
   "execution_count": 217,
   "metadata": {
    "ExecuteTime": {
     "end_time": "2021-02-16T09:12:36.032187Z",
     "start_time": "2021-02-16T09:12:35.998Z"
    }
   },
   "outputs": [
    {
     "data": {
      "text/plain": [
       "      sex\n",
       "tanner          1          2\n",
       "     1 0.26478617 0.20382166\n",
       "     2 0.05004550 0.04367607\n",
       "     3 0.03093722 0.03457689\n",
       "     4 0.03730664 0.03639672\n",
       "     5 0.11282985 0.18562329"
      ]
     },
     "metadata": {},
     "output_type": "display_data"
    }
   ],
   "source": [
    "tanner.sex/sum(tanner.sex)"
   ]
  },
  {
   "cell_type": "markdown",
   "metadata": {},
   "source": [
    "### Graphical display of the tables\n",
    "\n",
    "#### Bar plots\n",
    "\n",
    "*  Returning to the caffein example.\n",
    "*  The function `barplot` takes a vector or a matrix as argument. The most basic version:\n"
   ]
  },
  {
   "cell_type": "code",
   "execution_count": 218,
   "metadata": {
    "ExecuteTime": {
     "end_time": "2021-02-16T09:12:36.283215Z",
     "start_time": "2021-02-16T09:12:36.192Z"
    }
   },
   "outputs": [
    {
     "data": {
      "image/png": "[encoded data removed]",
      "text/plain": [
       "plot without title"
      ]
     },
     "metadata": {
      "image/png": {
       "height": 525,
       "width": 525
      }
     },
     "output_type": "display_data"
    }
   ],
   "source": [
    "total.caff <- margin.table(caff.marital,2)\n",
    "barplot(total.caff, col=\"white\")"
   ]
  },
  {
   "cell_type": "markdown",
   "metadata": {},
   "source": [
    "*  If the argument is a matrix then  `barplot` creates a stacked box plot in which the columns are partitioned with respect to the contributions of the table's different rows. For displaying side-by-side the contributions of a row instead of stacking them, use the parameter `beside=T`. Some examples:\n"
   ]
  },
  {
   "cell_type": "code",
   "execution_count": 219,
   "metadata": {
    "ExecuteTime": {
     "end_time": "2021-02-16T09:12:36.524184Z",
     "start_time": "2021-02-16T09:12:36.397Z"
    }
   },
   "outputs": [
    {
     "data": {
      "image/png": "[encoded data removed]",
      "text/plain": [
       "plot without title"
      ]
     },
     "metadata": {
      "image/png": {
       "height": 525,
       "width": 525
      }
     },
     "output_type": "display_data"
    }
   ],
   "source": [
    "par(mfrow=c(2,2))\n",
    "barplot(caff.marital, col=\"white\")\n",
    "barplot(t(caff.marital), col=\"white\")\n",
    "barplot(t(caff.marital), col=\"white\", beside=T)\n",
    "barplot(prop.table(t(caff.marital), 2), col=\"white\", beside=T)"
   ]
  },
  {
   "cell_type": "markdown",
   "metadata": {},
   "source": [
    "*  We can make the plots more beautiful"
   ]
  },
  {
   "cell_type": "code",
   "execution_count": 220,
   "metadata": {
    "ExecuteTime": {
     "end_time": "2021-02-16T09:12:36.705162Z",
     "start_time": "2021-02-16T09:12:36.607Z"
    }
   },
   "outputs": [
    {
     "data": {
      "image/png": "[encoded data removed]",
      "text/plain": [
       "plot without title"
      ]
     },
     "metadata": {
      "image/png": {
       "height": 525,
       "width": 525
      }
     },
     "output_type": "display_data"
    }
   ],
   "source": [
    "par(mfrow=c(1,1))\n",
    "barplot(prop.table(t(caff.marital), 2), beside=T,legend.text=colnames(caff.marital),col=c(\"white\",\"grey80\",\"grey50\", \"black\"),args.legend=c(cex=0.4))"
   ]
  },
  {
   "cell_type": "markdown",
   "metadata": {},
   "source": [
    "#### Exercises\n",
    "\n",
    "*  Create a dotchart with the same information as the previous bar plots (use the command `dotchart()`)."
   ]
  },
  {
   "cell_type": "code",
   "execution_count": 221,
   "metadata": {
    "ExecuteTime": {
     "end_time": "2021-02-16T09:12:36.933207Z",
     "start_time": "2021-02-16T09:12:36.813Z"
    }
   },
   "outputs": [
    {
     "data": {
      "image/png": "[encoded data removed]",
      "text/plain": [
       "plot without title"
      ]
     },
     "metadata": {
      "image/png": {
       "height": 525,
       "width": 525
      }
     },
     "output_type": "display_data"
    }
   ],
   "source": [
    "par(mfrow=c(1,1))\n",
    "dotchart(t(caff.marital),cex=0.7)"
   ]
  },
  {
   "cell_type": "markdown",
   "metadata": {},
   "source": [
    "*  In order to represent the caffeine consumption table in function of the civil state create a set of pie charts using the function `pie()`.\n"
   ]
  },
  {
   "cell_type": "code",
   "execution_count": 222,
   "metadata": {
    "ExecuteTime": {
     "end_time": "2021-02-16T09:12:37.151215Z",
     "start_time": "2021-02-16T09:12:37.022Z"
    }
   },
   "outputs": [
    {
     "data": {
      "image/png": "[encoded data removed]",
      "text/plain": [
       "Plot with title \"Single\""
      ]
     },
     "metadata": {
      "image/png": {
       "height": 525,
       "width": 525
      }
     },
     "output_type": "display_data"
    }
   ],
   "source": [
    "par(mfrow=c(2,2), mex=0.8, mar=c(1,1,2,1))\n",
    "slices <- c(\"white\", \"grey80\",\"grey50\", \"black\")\n",
    "pie(caff.marital[\"Married\",], main=\"Married\", col=slices)\n",
    "pie(caff.marital[\"Prev.married\",], main=\"Previously married\",col=slices)\n",
    "pie(caff.marital[\"Single\",], main=\"Single\", col=slices)\n"
   ]
  },
  {
   "cell_type": "markdown",
   "metadata": {
    "collapsed": true
   },
   "source": [
    "## Common Errors in R\n",
    "\n",
    "### Mixing data types"
   ]
  },
  {
   "cell_type": "code",
   "execution_count": 223,
   "metadata": {
    "ExecuteTime": {
     "end_time": "2021-02-16T09:12:37.278169Z",
     "start_time": "2021-02-16T09:12:37.234Z"
    }
   },
   "outputs": [
    {
     "data": {
      "text/html": [
       "<table class=\"dataframe\">\n",
       "<caption>A data.frame: 5 × 3</caption>\n",
       "<thead>\n",
       "\t<tr><th scope=col>a</th><th scope=col>b</th><th scope=col>c</th></tr>\n",
       "\t<tr><th scope=col>&lt;dbl&gt;</th><th scope=col>&lt;dbl&gt;</th><th scope=col>&lt;dbl&gt;</th></tr>\n",
       "</thead>\n",
       "<tbody>\n",
       "\t<tr><td>1</td><td>10</td><td>20</td></tr>\n",
       "\t<tr><td>2</td><td>11</td><td>21</td></tr>\n",
       "\t<tr><td>3</td><td>12</td><td>22</td></tr>\n",
       "\t<tr><td>4</td><td>14</td><td> 4</td></tr>\n",
       "\t<tr><td>5</td><td>15</td><td>25</td></tr>\n",
       "</tbody>\n",
       "</table>\n"
      ],
      "text/latex": [
       "A data.frame: 5 × 3\n",
       "\\begin{tabular}{lll}\n",
       " a & b & c\\\\\n",
       " <dbl> & <dbl> & <dbl>\\\\\n",
       "\\hline\n",
       "\t 1 & 10 & 20\\\\\n",
       "\t 2 & 11 & 21\\\\\n",
       "\t 3 & 12 & 22\\\\\n",
       "\t 4 & 14 &  4\\\\\n",
       "\t 5 & 15 & 25\\\\\n",
       "\\end{tabular}\n"
      ],
      "text/markdown": [
       "\n",
       "A data.frame: 5 × 3\n",
       "\n",
       "| a &lt;dbl&gt; | b &lt;dbl&gt; | c &lt;dbl&gt; |\n",
       "|---|---|---|\n",
       "| 1 | 10 | 20 |\n",
       "| 2 | 11 | 21 |\n",
       "| 3 | 12 | 22 |\n",
       "| 4 | 14 |  4 |\n",
       "| 5 | 15 | 25 |\n",
       "\n"
      ],
      "text/plain": [
       "  a b  c \n",
       "1 1 10 20\n",
       "2 2 11 21\n",
       "3 3 12 22\n",
       "4 4 14  4\n",
       "5 5 15 25"
      ]
     },
     "metadata": {},
     "output_type": "display_data"
    }
   ],
   "source": [
    "df <- data.frame(a = c(1, 2, 3), b = c(10, 11, 12), c=c(20,21,22))\n",
    "df <- rbind(df,c(4,14))\n",
    "df <- rbind(df,c(5,15,25,35))\n",
    "df"
   ]
  },
  {
   "cell_type": "code",
   "execution_count": 224,
   "metadata": {
    "ExecuteTime": {
     "end_time": "2021-02-16T09:12:37.314192Z",
     "start_time": "2021-02-16T09:12:37.242Z"
    }
   },
   "outputs": [
    {
     "data": {
      "text/html": [
       "<table class=\"dataframe\">\n",
       "<caption>A data.frame: 2 × 3</caption>\n",
       "<thead>\n",
       "\t<tr><th></th><th scope=col>a</th><th scope=col>b</th><th scope=col>c</th></tr>\n",
       "\t<tr><th></th><th scope=col>&lt;dbl&gt;</th><th scope=col>&lt;dbl&gt;</th><th scope=col>&lt;dbl&gt;</th></tr>\n",
       "</thead>\n",
       "<tbody>\n",
       "\t<tr><th scope=row>4</th><td>4</td><td>14</td><td> 4</td></tr>\n",
       "\t<tr><th scope=row>5</th><td>5</td><td>15</td><td>25</td></tr>\n",
       "</tbody>\n",
       "</table>\n"
      ],
      "text/latex": [
       "A data.frame: 2 × 3\n",
       "\\begin{tabular}{r|lll}\n",
       "  & a & b & c\\\\\n",
       "  & <dbl> & <dbl> & <dbl>\\\\\n",
       "\\hline\n",
       "\t4 & 4 & 14 &  4\\\\\n",
       "\t5 & 5 & 15 & 25\\\\\n",
       "\\end{tabular}\n"
      ],
      "text/markdown": [
       "\n",
       "A data.frame: 2 × 3\n",
       "\n",
       "| <!--/--> | a &lt;dbl&gt; | b &lt;dbl&gt; | c &lt;dbl&gt; |\n",
       "|---|---|---|---|\n",
       "| 4 | 4 | 14 |  4 |\n",
       "| 5 | 5 | 15 | 25 |\n",
       "\n"
      ],
      "text/plain": [
       "  a b  c \n",
       "4 4 14  4\n",
       "5 5 15 25"
      ]
     },
     "metadata": {},
     "output_type": "display_data"
    }
   ],
   "source": [
    "tail(df,2)"
   ]
  },
  {
   "cell_type": "code",
   "execution_count": 225,
   "metadata": {
    "ExecuteTime": {
     "end_time": "2021-02-16T09:12:37.364167Z",
     "start_time": "2021-02-16T09:12:37.249Z"
    }
   },
   "outputs": [
    {
     "name": "stderr",
     "output_type": "stream",
     "text": [
      "Warning message in `[<-.factor`(`*tmp*`, ri, value = 4):\n",
      "\"invalid factor level, NA generated\"\n",
      "Warning message in `[<-.factor`(`*tmp*`, ri, value = 14):\n",
      "\"invalid factor level, NA generated\"\n"
     ]
    },
    {
     "data": {
      "text/html": [
       "<table class=\"dataframe\">\n",
       "<caption>A data.frame: 4 × 3</caption>\n",
       "<thead>\n",
       "\t<tr><th scope=col>a</th><th scope=col>b</th><th scope=col>c</th></tr>\n",
       "\t<tr><th scope=col>&lt;fct&gt;</th><th scope=col>&lt;fct&gt;</th><th scope=col>&lt;dbl&gt;</th></tr>\n",
       "</thead>\n",
       "<tbody>\n",
       "\t<tr><td>1 </td><td>10</td><td>20</td></tr>\n",
       "\t<tr><td>2 </td><td>11</td><td>21</td></tr>\n",
       "\t<tr><td>3 </td><td>12</td><td>22</td></tr>\n",
       "\t<tr><td>NA</td><td>NA</td><td> 4</td></tr>\n",
       "</tbody>\n",
       "</table>\n"
      ],
      "text/latex": [
       "A data.frame: 4 × 3\n",
       "\\begin{tabular}{lll}\n",
       " a & b & c\\\\\n",
       " <fct> & <fct> & <dbl>\\\\\n",
       "\\hline\n",
       "\t 1  & 10 & 20\\\\\n",
       "\t 2  & 11 & 21\\\\\n",
       "\t 3  & 12 & 22\\\\\n",
       "\t NA & NA &  4\\\\\n",
       "\\end{tabular}\n"
      ],
      "text/markdown": [
       "\n",
       "A data.frame: 4 × 3\n",
       "\n",
       "| a &lt;fct&gt; | b &lt;fct&gt; | c &lt;dbl&gt; |\n",
       "|---|---|---|\n",
       "| 1  | 10 | 20 |\n",
       "| 2  | 11 | 21 |\n",
       "| 3  | 12 | 22 |\n",
       "| NA | NA |  4 |\n",
       "\n"
      ],
      "text/plain": [
       "  a  b  c \n",
       "1 1  10 20\n",
       "2 2  11 21\n",
       "3 3  12 22\n",
       "4 NA NA  4"
      ]
     },
     "metadata": {},
     "output_type": "display_data"
    }
   ],
   "source": [
    "df <- data.frame(a = as.factor(c(1, 2, 3)), b = as.factor(c(10, 11, 12)), c=c(20,21,22))\n",
    "df <- rbind(df,c(4,14))\n",
    "df"
   ]
  },
  {
   "cell_type": "code",
   "execution_count": 226,
   "metadata": {
    "ExecuteTime": {
     "end_time": "2021-02-16T09:12:37.410164Z",
     "start_time": "2021-02-16T09:12:37.255Z"
    }
   },
   "outputs": [
    {
     "data": {
      "text/html": [
       "<table class=\"dataframe\">\n",
       "<caption>A data.frame: 4 × 3</caption>\n",
       "<thead>\n",
       "\t<tr><th scope=col>a</th><th scope=col>b</th><th scope=col>c</th></tr>\n",
       "\t<tr><th scope=col>&lt;dbl&gt;</th><th scope=col>&lt;dbl&gt;</th><th scope=col>&lt;dbl&gt;</th></tr>\n",
       "</thead>\n",
       "<tbody>\n",
       "\t<tr><td>1</td><td>10</td><td>20.00</td></tr>\n",
       "\t<tr><td>2</td><td>11</td><td>21.00</td></tr>\n",
       "\t<tr><td>3</td><td>12</td><td>22.00</td></tr>\n",
       "\t<tr><td>4</td><td>14</td><td>21.85</td></tr>\n",
       "</tbody>\n",
       "</table>\n"
      ],
      "text/latex": [
       "A data.frame: 4 × 3\n",
       "\\begin{tabular}{lll}\n",
       " a & b & c\\\\\n",
       " <dbl> & <dbl> & <dbl>\\\\\n",
       "\\hline\n",
       "\t 1 & 10 & 20.00\\\\\n",
       "\t 2 & 11 & 21.00\\\\\n",
       "\t 3 & 12 & 22.00\\\\\n",
       "\t 4 & 14 & 21.85\\\\\n",
       "\\end{tabular}\n"
      ],
      "text/markdown": [
       "\n",
       "A data.frame: 4 × 3\n",
       "\n",
       "| a &lt;dbl&gt; | b &lt;dbl&gt; | c &lt;dbl&gt; |\n",
       "|---|---|---|\n",
       "| 1 | 10 | 20.00 |\n",
       "| 2 | 11 | 21.00 |\n",
       "| 3 | 12 | 22.00 |\n",
       "| 4 | 14 | 21.85 |\n",
       "\n"
      ],
      "text/plain": [
       "  a b  c    \n",
       "1 1 10 20.00\n",
       "2 2 11 21.00\n",
       "3 3 12 22.00\n",
       "4 4 14 21.85"
      ]
     },
     "metadata": {},
     "output_type": "display_data"
    }
   ],
   "source": [
    "df <- data.frame(a = c(1, 2, 3), b = c(10, 11, 12), c=c(20,21,22))\n",
    "df <- rbind(df,c(4,14,proc.time()))\n",
    "df\n"
   ]
  },
  {
   "cell_type": "code",
   "execution_count": 227,
   "metadata": {
    "ExecuteTime": {
     "end_time": "2021-02-16T09:12:37.454172Z",
     "start_time": "2021-02-16T09:12:37.265Z"
    }
   },
   "outputs": [
    {
     "data": {
      "text/plain": [
       "   user  system elapsed \n",
       "  21.89    4.62  201.46 "
      ]
     },
     "metadata": {},
     "output_type": "display_data"
    }
   ],
   "source": [
    "proc.time()"
   ]
  },
  {
   "cell_type": "markdown",
   "metadata": {},
   "source": [
    "### Missing data"
   ]
  },
  {
   "cell_type": "code",
   "execution_count": 104,
   "metadata": {
    "ExecuteTime": {
     "end_time": "2021-02-16T09:12:37.592169Z",
     "start_time": "2021-02-16T09:12:37.511Z"
    }
   },
   "outputs": [
    {
     "data": {
      "image/png": "[encoded data removed]",
      "text/plain": [
       "plot without title"
      ]
     },
     "metadata": {},
     "output_type": "display_data"
    }
   ],
   "source": [
    "dd <- data.frame(a = c(1, 2, 3), b = c(10, 11, 12))\n",
    "plot(dd$b)"
   ]
  },
  {
   "cell_type": "markdown",
   "metadata": {},
   "source": [
    "## Debugging\n",
    "\n",
    "### Basic debugging process (from https://adv-r.hadley.nz/debugging.html)\n",
    "\n",
    "1. Google!\n",
    "2. Make it repeatable\n",
    "3. Figure out where it is\n",
    "4. Fix it and test it\n",
    "\n",
    "\n",
    "Besides the errors directly shown in Jupyter notebooks, it is quite complicated to debug a code with a longer execution inside a notebook.\n",
    "Jupyter displays automatically the warnings produced during the execeution, as well as the traceback, but functions like `traceback()` and `warnings()` doesn't produce the expected result when used after the execution of a cell."
   ]
  },
  {
   "cell_type": "code",
   "execution_count": 229,
   "metadata": {
    "ExecuteTime": {
     "end_time": "2021-02-16T09:12:37.761166Z",
     "start_time": "2021-02-16T09:12:37.724Z"
    }
   },
   "outputs": [],
   "source": [
    "f <- function(a) g(a)\n",
    "g <- function(b) h(b)\n",
    "h <- function(c) i(c)\n",
    "i <- function(d) {\n",
    "  if (!is.numeric(d)) {\n",
    "    stop(\"`d` must be numeric\", call. = FALSE)\n",
    "  }\n",
    "  d + 10\n",
    "}"
   ]
  },
  {
   "cell_type": "code",
   "execution_count": 230,
   "metadata": {
    "ExecuteTime": {
     "end_time": "2021-02-16T09:12:37.792166Z",
     "start_time": "2021-02-16T09:12:37.731Z"
    }
   },
   "outputs": [
    {
     "ename": "ERROR",
     "evalue": "Error: `d` must be numeric\n",
     "output_type": "error",
     "traceback": [
      "Error: `d` must be numeric\nTraceback:\n",
      "1. f(\"a\")",
      "2. g(a)   # at line 1 of file <text>",
      "3. h(b)   # at line 2 of file <text>",
      "4. i(c)   # at line 3 of file <text>",
      "5. stop(\"`d` must be numeric\", call. = FALSE)   # at line 6 of file <text>"
     ]
    }
   ],
   "source": [
    "f(\"a\")"
   ]
  },
  {
   "cell_type": "code",
   "execution_count": null,
   "metadata": {
    "ExecuteTime": {
     "end_time": "2021-02-16T09:12:37.798197Z",
     "start_time": "2021-02-16T09:12:37.737Z"
    }
   },
   "outputs": [],
   "source": [
    "traceback()"
   ]
  },
  {
   "cell_type": "code",
   "execution_count": null,
   "metadata": {
    "ExecuteTime": {
     "end_time": "2021-02-16T09:12:37.802166Z",
     "start_time": "2021-02-16T09:12:37.743Z"
    }
   },
   "outputs": [],
   "source": [
    "warnings()"
   ]
  },
  {
   "cell_type": "markdown",
   "metadata": {},
   "source": [
    "In this case, it might be useful to configure R in order to automatically dump the environment (the state of the R session and the variable) to a file, using the following code:"
   ]
  },
  {
   "cell_type": "code",
   "execution_count": null,
   "metadata": {
    "ExecuteTime": {
     "end_time": "2021-02-16T09:12:37.987168Z",
     "start_time": "2021-02-16T09:12:37.950Z"
    }
   },
   "outputs": [],
   "source": [
    "# In batch R process ----\n",
    "dump_and_quit <- function() {\n",
    "  # Save debugging info to file last.dump.rda\n",
    "  dump.frames(to.file = TRUE)\n",
    "  # Quit R with error status\n",
    "  q(status = 1)\n",
    "}\n",
    "options(error = dump_and_quit)\n",
    "\n",
    "\n",
    "# In a later interactive session, the dump can be loaded using:\n",
    "load(\"last.dump.rda\")\n",
    "debugger()"
   ]
  },
  {
   "cell_type": "markdown",
   "metadata": {},
   "source": [
    "Or, as an alternative, to run the code into RStudio, and use the `browser()` function in order to launch an interactive debugger and manually inspect the state of the program."
   ]
  },
  {
   "cell_type": "markdown",
   "metadata": {},
   "source": [
    "### Useful functions for debugging"
   ]
  },
  {
   "cell_type": "code",
   "execution_count": 105,
   "metadata": {
    "ExecuteTime": {
     "end_time": "2021-02-16T09:12:38.386202Z",
     "start_time": "2021-02-16T09:12:38.355Z"
    }
   },
   "outputs": [
    {
     "data": {
      "text/html": [
       "'D:/ULB/Assistant/INFO-F422 Q2/Practicals/StatisticalFoundationsML_INFOF422-main/1_IntroductionR'"
      ],
      "text/latex": [
       "'D:/ULB/Assistant/INFO-F422 Q2/Practicals/StatisticalFoundationsML\\_INFOF422-main/1\\_IntroductionR'"
      ],
      "text/markdown": [
       "'D:/ULB/Assistant/INFO-F422 Q2/Practicals/StatisticalFoundationsML_INFOF422-main/1_IntroductionR'"
      ],
      "text/plain": [
       "[1] \"D:/ULB/Assistant/INFO-F422 Q2/Practicals/StatisticalFoundationsML_INFOF422-main/1_IntroductionR\""
      ]
     },
     "metadata": {},
     "output_type": "display_data"
    }
   ],
   "source": [
    "getwd() # Get current working directory"
   ]
  },
  {
   "cell_type": "code",
   "execution_count": 106,
   "metadata": {
    "ExecuteTime": {
     "end_time": "2021-02-16T09:12:38.419169Z",
     "start_time": "2021-02-16T09:12:38.362Z"
    }
   },
   "outputs": [
    {
     "data": {
      "text/html": [
       "'C:/Users/cedri/Anaconda3/envs/sfml1/Lib/R/library'"
      ],
      "text/latex": [
       "'C:/Users/cedri/Anaconda3/envs/sfml1/Lib/R/library'"
      ],
      "text/markdown": [
       "'C:/Users/cedri/Anaconda3/envs/sfml1/Lib/R/library'"
      ],
      "text/plain": [
       "[1] \"C:/Users/cedri/Anaconda3/envs/sfml1/Lib/R/library\""
      ]
     },
     "metadata": {},
     "output_type": "display_data"
    }
   ],
   "source": [
    ".libPaths() # Get installation path for libraries"
   ]
  },
  {
   "cell_type": "code",
   "execution_count": 107,
   "metadata": {
    "ExecuteTime": {
     "end_time": "2021-02-16T09:12:38.502165Z",
     "start_time": "2021-02-16T09:12:38.369Z"
    }
   },
   "outputs": [
    {
     "data": {
      "text/plain": [
       "R version 3.6.1 (2019-07-05)\n",
       "Platform: x86_64-w64-mingw32/x64 (64-bit)\n",
       "Running under: Windows 10 x64 (build 19043)\n",
       "\n",
       "Matrix products: default\n",
       "\n",
       "locale:\n",
       "[1] LC_COLLATE=English_Belgium.1252  LC_CTYPE=English_Belgium.1252   \n",
       "[3] LC_MONETARY=English_Belgium.1252 LC_NUMERIC=C                    \n",
       "[5] LC_TIME=English_Belgium.1252    \n",
       "\n",
       "attached base packages:\n",
       "[1] stats     graphics  grDevices utils     datasets  methods   base     \n",
       "\n",
       "other attached packages:\n",
       "[1] ISwR_2.0-8\n",
       "\n",
       "loaded via a namespace (and not attached):\n",
       " [1] compiler_3.6.1  IRdisplay_0.7.0 pbdZMQ_0.3-3    tools_3.6.1    \n",
       " [5] htmltools_0.3.6 base64enc_0.1-3 crayon_1.3.4    Rcpp_1.0.1     \n",
       " [9] uuid_0.1-2      IRkernel_0.8.15 jsonlite_1.6    digest_0.6.18  \n",
       "[13] repr_0.19.2     evaluate_0.13  "
      ]
     },
     "metadata": {},
     "output_type": "display_data"
    }
   ],
   "source": [
    "sessionInfo() # Get information from the current session"
   ]
  },
  {
   "cell_type": "code",
   "execution_count": 235,
   "metadata": {
    "ExecuteTime": {
     "end_time": "2021-02-16T09:12:38.616165Z",
     "start_time": "2021-02-16T09:12:38.376Z"
    }
   },
   "outputs": [
    {
     "data": {
      "text/plain": [
       "$add.smooth\n",
       "[1] TRUE\n",
       "\n",
       "$browserNLdisabled\n",
       "[1] FALSE\n",
       "\n",
       "$CBoundsCheck\n",
       "[1] FALSE\n",
       "\n",
       "$check.bounds\n",
       "[1] FALSE\n",
       "\n",
       "$citation.bibtex.max\n",
       "[1] 1\n",
       "\n",
       "$continue\n",
       "[1] \"+ \"\n",
       "\n",
       "$contrasts\n",
       "        unordered           ordered \n",
       "\"contr.treatment\"      \"contr.poly\" \n",
       "\n",
       "$crayon.enabled\n",
       "[1] TRUE\n",
       "\n",
       "$defaultPackages\n",
       "[1] \"datasets\"  \"utils\"     \"grDevices\" \"graphics\"  \"stats\"     \"methods\"  \n",
       "\n",
       "$demo.ask\n",
       "[1] \"default\"\n",
       "\n",
       "$deparse.cutoff\n",
       "[1] 60\n",
       "\n",
       "$device\n",
       "function (filename = null_filename, ...) \n",
       "ok_device(filename, ...)\n",
       "<bytecode: 0x000000000bc72e00>\n",
       "<environment: 0x000000000bc729a0>\n",
       "\n",
       "$device.ask.default\n",
       "[1] FALSE\n",
       "\n",
       "$digits\n",
       "[1] 7\n",
       "\n",
       "$echo\n",
       "[1] FALSE\n",
       "\n",
       "$editor\n",
       "[1] \"notepad\"\n",
       "\n",
       "$encoding\n",
       "[1] \"native.enc\"\n",
       "\n",
       "$error\n",
       "(function() {\n",
       "  # Save debugging info to file last.dump.rda\n",
       "  dump.frames(to.file = TRUE)\n",
       "  # Quit R with error status\n",
       "  q(status = 1)\n",
       "})()\n",
       "\n",
       "$example.ask\n",
       "[1] \"default\"\n",
       "\n",
       "$expressions\n",
       "[1] 5000\n",
       "\n",
       "$help.search.types\n",
       "[1] \"vignette\" \"demo\"     \"help\"    \n",
       "\n",
       "$help.try.all.packages\n",
       "[1] FALSE\n",
       "\n",
       "$help_type\n",
       "[1] \"html\"\n",
       "\n",
       "$HTTPUserAgent\n",
       "[1] \"R (4.0.3 x86_64-w64-mingw32 x86_64 mingw32)\"\n",
       "\n",
       "$install.packages.compile.from.source\n",
       "[1] \"interactive\"\n",
       "\n",
       "$internet.info\n",
       "[1] 2\n",
       "\n",
       "$jupyter.base_display_func\n",
       "Class method definition for method display_data()\n",
       "function (data, metadata = NULL) \n",
       "{\n",
       "    if (is.null(metadata)) {\n",
       "        metadata <- namedlist()\n",
       "    }\n",
       "    send_response(\"display_data\", current_request, \"iopub\", list(data = data, \n",
       "        metadata = metadata))\n",
       "    invisible(TRUE)\n",
       "}\n",
       "<environment: 0x000000000a67c7f0>\n",
       "\n",
       "$jupyter.display_mimetypes\n",
       " [1] \"text/plain\"                       \"text/html\"                       \n",
       " [3] \"text/markdown\"                    \"text/latex\"                      \n",
       " [5] \"application/json\"                 \"application/javascript\"          \n",
       " [7] \"application/geo+json\"             \"application/vdom.v1+json\"        \n",
       " [9] \"application/vnd.plotly.v1+json\"   \"application/vnd.vegalite.v2+json\"\n",
       "[11] \"application/vnd.vega.v4+json\"     \"application/pdf\"                 \n",
       "[13] \"image/png\"                        \"image/jpeg\"                      \n",
       "[15] \"image/svg+xml\"                   \n",
       "\n",
       "$jupyter.in_kernel\n",
       "[1] TRUE\n",
       "\n",
       "$jupyter.log_level\n",
       "[1] 1\n",
       "\n",
       "$jupyter.logfile\n",
       "[1] NA\n",
       "\n",
       "$jupyter.pager_classes\n",
       "[1] \"packageIQR\"            \"help_files_with_topic\"\n",
       "\n",
       "$jupyter.plot_mimetypes\n",
       "[1] \"text/plain\" \"image/png\" \n",
       "\n",
       "$jupyter.plot_scale\n",
       "[1] 2\n",
       "\n",
       "$jupyter.rich_display\n",
       "[1] TRUE\n",
       "\n",
       "$keep.parse.data\n",
       "[1] TRUE\n",
       "\n",
       "$keep.parse.data.pkgs\n",
       "[1] FALSE\n",
       "\n",
       "$keep.source\n",
       "[1] FALSE\n",
       "\n",
       "$keep.source.pkgs\n",
       "[1] FALSE\n",
       "\n",
       "$locatorBell\n",
       "[1] TRUE\n",
       "\n",
       "$mailer\n",
       "[1] \"mailto\"\n",
       "\n",
       "$matprod\n",
       "[1] \"default\"\n",
       "\n",
       "$max.print\n",
       "[1] 99999\n",
       "\n",
       "$menu.graphics\n",
       "[1] TRUE\n",
       "\n",
       "$na.action\n",
       "[1] \"na.omit\"\n",
       "\n",
       "$nwarnings\n",
       "[1] 50\n",
       "\n",
       "$OutDec\n",
       "[1] \".\"\n",
       "\n",
       "$pager\n",
       "function (files, header, title, delete.file) \n",
       "{\n",
       "    text <- title\n",
       "    for (path in files) {\n",
       "        text <- c(text, header, readLines(path))\n",
       "    }\n",
       "    if (delete.file) \n",
       "        file.remove(files)\n",
       "    data <- list(`text/plain` = paste(text, collapse = \"\\n\"))\n",
       "    page(list(data = data, metadata = namedlist()))\n",
       "}\n",
       "<environment: 0x000000000a6873c0>\n",
       "\n",
       "$papersize\n",
       "[1] \"letter\"\n",
       "\n",
       "$PCRE_limit_recursion\n",
       "[1] NA\n",
       "\n",
       "$PCRE_study\n",
       "[1] FALSE\n",
       "\n",
       "$PCRE_use_JIT\n",
       "[1] TRUE\n",
       "\n",
       "$pdfviewer\n",
       "[1] \"D:/Program Files/R/R-4.0.3/bin/x64/open.exe\"\n",
       "\n",
       "$pkgType\n",
       "[1] \"both\"\n",
       "\n",
       "$prompt\n",
       "[1] \"> \"\n",
       "\n",
       "$repos\n",
       "                        CRAN \n",
       "\"https://cran.r-project.org\" \n",
       "attr(,\"irkernel\")\n",
       "[1] TRUE\n",
       "\n",
       "$repr.function.highlight\n",
       "[1] FALSE\n",
       "\n",
       "$repr.html.deduplicate\n",
       "[1] FALSE\n",
       "\n",
       "$repr.matrix.latex.colspec\n",
       "$repr.matrix.latex.colspec$row_head\n",
       "[1] \"r|\"\n",
       "\n",
       "$repr.matrix.latex.colspec$col\n",
       "[1] \"l\"\n",
       "\n",
       "$repr.matrix.latex.colspec$end\n",
       "[1] \"\"\n",
       "\n",
       "\n",
       "$repr.matrix.max.cols\n",
       "[1] 20\n",
       "\n",
       "$repr.matrix.max.rows\n",
       "[1] 60\n",
       "\n",
       "$repr.plot.antialias\n",
       "[1] \"gray\"\n",
       "\n",
       "$repr.plot.bg\n",
       "[1] \"white\"\n",
       "\n",
       "$repr.plot.family\n",
       "[1] \"sans\"\n",
       "\n",
       "$repr.plot.height\n",
       "[1] 7\n",
       "\n",
       "$repr.plot.pointsize\n",
       "[1] 12\n",
       "\n",
       "$repr.plot.quality\n",
       "[1] 90\n",
       "\n",
       "$repr.plot.res\n",
       "[1] 150\n",
       "\n",
       "$repr.plot.width\n",
       "[1] 7\n",
       "\n",
       "$repr.vector.max.items\n",
       "[1] 400\n",
       "\n",
       "$repr.vector.quote\n",
       "[1] TRUE\n",
       "\n",
       "$scipen\n",
       "[1] 0\n",
       "\n",
       "$show.coef.Pvalues\n",
       "[1] TRUE\n",
       "\n",
       "$show.error.messages\n",
       "[1] TRUE\n",
       "\n",
       "$show.signif.stars\n",
       "[1] TRUE\n",
       "\n",
       "$showErrorCalls\n",
       "[1] TRUE\n",
       "\n",
       "$str\n",
       "$str$strict.width\n",
       "[1] \"no\"\n",
       "\n",
       "$str$digits.d\n",
       "[1] 3\n",
       "\n",
       "$str$vec.len\n",
       "[1] 4\n",
       "\n",
       "$str$list.len\n",
       "[1] 99\n",
       "\n",
       "$str$deparse.lines\n",
       "NULL\n",
       "\n",
       "$str$drop.deparse.attr\n",
       "[1] TRUE\n",
       "\n",
       "$str$formatNum\n",
       "function (x, ...) \n",
       "format(x, trim = TRUE, drop0trailing = TRUE, ...)\n",
       "<environment: 0x000000000b022680>\n",
       "\n",
       "\n",
       "$str.dendrogram.last\n",
       "[1] \"`\"\n",
       "\n",
       "$stringsAsFactors\n",
       "[1] FALSE\n",
       "\n",
       "$timeout\n",
       "[1] 60\n",
       "\n",
       "$try.outFile\n",
       "A connection with                            \n",
       "description \"output\"        \n",
       "class       \"textConnection\"\n",
       "mode        \"wr\"            \n",
       "text        \"text\"          \n",
       "opened      \"opened\"        \n",
       "can read    \"no\"            \n",
       "can write   \"yes\"           \n",
       "\n",
       "$ts.eps\n",
       "[1] 1e-05\n",
       "\n",
       "$ts.S.compat\n",
       "[1] FALSE\n",
       "\n",
       "$unzip\n",
       "[1] \"internal\"\n",
       "\n",
       "$useFancyQuotes\n",
       "[1] FALSE\n",
       "\n",
       "$verbose\n",
       "[1] FALSE\n",
       "\n",
       "$warn\n",
       "[1] 0\n",
       "\n",
       "$warning.length\n",
       "[1] 1000\n",
       "\n",
       "$width\n",
       "[1] 80\n",
       "\n",
       "$windowsTimeouts\n",
       "[1] 100 500\n"
      ]
     },
     "metadata": {},
     "output_type": "display_data"
    }
   ],
   "source": [
    "options() # Get R options"
   ]
  }
 ],
 "metadata": {
  "kernelspec": {
   "display_name": "Python 3 (ipykernel)",
   "language": "python",
   "name": "python3"
  },
  "language_info": {
   "codemirror_mode": {
    "name": "ipython",
    "version": 3
   },
   "file_extension": ".py",
   "mimetype": "text/x-python",
   "name": "python",
   "nbconvert_exporter": "python",
   "pygments_lexer": "ipython3",
   "version": "3.9.7"
  },
  "latex_envs": {
   "LaTeX_envs_menu_present": true,
   "autoclose": false,
   "autocomplete": true,
   "bibliofile": "biblio.bib",
   "cite_by": "apalike",
   "current_citInitial": 1,
   "eqLabelWithNumbers": true,
   "eqNumInitial": 1,
   "hotkeys": {
    "equation": "Ctrl-E",
    "itemize": "Ctrl-I"
   },
   "labels_anchors": false,
   "latex_user_defs": false,
   "report_style_numbering": false,
   "user_envs_cfg": false
  },
  "toc": {
   "base_numbering": 1,
   "nav_menu": {},
   "number_sections": true,
   "sideBar": true,
   "skip_h1_title": false,
   "title_cell": "Table of Contents",
   "title_sidebar": "Contents",
   "toc_cell": false,
   "toc_position": {},
   "toc_section_display": true,
   "toc_window_display": false
  },
  "varInspector": {
   "cols": {
    "lenName": 16,
    "lenType": 16,
    "lenVar": 40
   },
   "kernels_config": {
    "python": {
     "delete_cmd_postfix": "",
     "delete_cmd_prefix": "del ",
     "library": "var_list.py",
     "varRefreshCmd": "print(var_dic_list())"
    },
    "r": {
     "delete_cmd_postfix": ") ",
     "delete_cmd_prefix": "rm(",
     "library": "var_list.r",
     "varRefreshCmd": "cat(var_dic_list()) "
    }
   },
   "types_to_exclude": [
    "module",
    "function",
    "builtin_function_or_method",
    "instance",
    "_Feature"
   ],
   "window_display": false
  }
 },
 "nbformat": 4,
 "nbformat_minor": 1
}

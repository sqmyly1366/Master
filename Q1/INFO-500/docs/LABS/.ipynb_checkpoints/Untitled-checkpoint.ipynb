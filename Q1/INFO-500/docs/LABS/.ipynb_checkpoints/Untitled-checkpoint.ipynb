{
 "cells": [
  {
   "cell_type": "code",
   "execution_count": null,
   "id": "95ad1005",
   "metadata": {},
   "outputs": [],
   "source": [
    "1.Image processing \n",
    "\n",
    "1.Histogram\n",
    "1.1Normal histogram (3种方法)\n",
    "1.2Normalized histogram\n",
    "1.3Cumulative histogram\n",
    "\n",
    "2.Image entropy\n",
    "\n",
    "3.Image compression\n",
    "\n",
    "4.Co-occurence matrix\n",
    "\n",
    "5.Colour representations\n",
    "5.1RGB histogram\n",
    "5.2HSV histogram\n",
    "\n",
    "2.Image Filtering\n",
    "\n",
    "1.Look up table\n",
    "1.1 Inverting an image (0-255,255-0)\n",
    "1.2 Reduce the graylevels from 256 to 8\n",
    "1.3 Threshold 门槛(set all the graylevel > t to 255 and setting all the others to 0)\n",
    "1.4 semi-threshold (keep only the graylevel > t and setting all the others to 0)\n",
    "1.5 Equalisation by using cumulative histogram.\n",
    "1.6 Autolevel(Stretch the histogram) 让黑的更黑,白的更白\n",
    "1.6.1 The selection the the threshold can be automated by using the cumulative histogram.\n",
    "\n",
    "2.Kernel convolution\n",
    "2.1 Definition (effect of blurring)\n",
    "2.2 Zero-padding\n",
    "2.3 Mean filter\n",
    "2.4 Median filter\n",
    "\n",
    "3.2D Fourier transform\n",
    "3.1 Definition\n",
    "\n",
    "4.Morphological operations\n",
    "\n",
    "5.Edge detection\n",
    "5.1Sobel filter\n",
    "5.2Canny edge filter\n",
    "5.3Hough transform\n",
    "\n",
    "\n",
    "3.Image segmentation\n",
    "1.Histogram segmentation\n",
    "1.1 Manul threshold\n",
    "1.2 Optimal threshold\n",
    "1.3 Otsu threshould\n",
    "\n"
   ]
  },
  {
   "cell_type": "code",
   "execution_count": null,
   "id": "075b1fe9",
   "metadata": {},
   "outputs": [],
   "source": []
  },
  {
   "cell_type": "code",
   "execution_count": 2,
   "id": "cd41dc0c",
   "metadata": {},
   "outputs": [],
   "source": [
    "from skimage.io import imread\n",
    "from matplotlib import pyplot as plt\n",
    "import numpy as np\n",
    "im=imread('camera.jpg')"
   ]
  },
  {
   "cell_type": "code",
   "execution_count": 7,
   "id": "ca74b369",
   "metadata": {},
   "outputs": [
    {
     "name": "stdout",
     "output_type": "stream",
     "text": [
      "[207, 90, 143, 184, 247, 365, 617, 1408, 3236, 4657, 3874, 5044, 5873, 6107, 6026, 4381, 2902, 1504, 861, 648, 566, 506, 479, 459, 397, 398, 390, 397, 360, 370, 333, 389, 368, 366, 385, 395, 359, 363, 408, 354, 334, 365, 364, 326, 307, 277, 255, 295, 261, 250, 249, 271, 259, 270, 254, 301, 279, 277, 316, 295, 310, 333, 330, 340, 313, 269, 255, 241, 229, 248, 234, 216, 222, 243, 220, 222, 198, 188, 204, 209, 234, 216, 235, 210, 257, 250, 239, 274, 312, 291, 303, 334, 371, 394, 429, 461, 490, 517, 571, 577, 628, 698, 735, 789, 791, 834, 884, 951, 1037, 1020, 1017, 1104, 1109, 1201, 1210, 1273, 1279, 1352, 1339, 1415, 1501, 1495, 1518, 1549, 1554, 1631, 1636, 1670, 1712, 1705, 1771, 1626, 1664, 1634, 1585, 1713, 1566, 1559, 1487, 1397, 1501, 1346, 1412, 1471, 1629, 1888, 2007, 2041, 2126, 2239, 2272, 2076, 2086, 2165, 2107, 2491, 2675, 2807, 3016, 3348, 3584, 4228, 4884, 4848, 4794, 4463, 4193, 4014, 3694, 3308, 2936, 2724, 2752, 2616, 2556, 2584, 2590, 2654, 2789, 2723, 2815, 2696, 2553, 2348, 2262, 1970, 1611, 1158, 824, 522, 354, 269, 249, 208, 190, 212, 167, 146, 131, 137, 100, 96, 100, 106, 92, 71, 68, 51, 72, 65, 55, 60, 48, 44, 71, 57, 56, 57, 49, 44, 43, 52, 45, 58, 58, 66, 48, 49, 45, 46, 61, 48, 61, 39, 57, 53, 55, 56, 45, 48, 49, 33, 43, 39, 28, 34, 21, 22, 23, 24, 31, 20, 28, 10, 4, 32]\n"
     ]
    }
   ],
   "source": [
    "h=[0 for v in range(256)]\n",
    "for y in range(im.shape[0]):\n",
    "    for x in range(im.shape[1]):\n",
    "        h[im[y,x]]+=1\n",
    "print(h)"
   ]
  },
  {
   "cell_type": "code",
   "execution_count": 5,
   "id": "8cda0630",
   "metadata": {},
   "outputs": [
    {
     "name": "stdout",
     "output_type": "stream",
     "text": [
      "[ 207   90  143  184  247  365  617 1408 3236 4657 3874 5044 5873 6107\n",
      " 6026 4381 2902 1504  861  648  566  506  479  459  397  398  390  397\n",
      "  360  370  333  389  368  366  385  395  359  363  408  354  334  365\n",
      "  364  326  307  277  255  295  261  250  249  271  259  270  254  301\n",
      "  279  277  316  295  310  333  330  340  313  269  255  241  229  248\n",
      "  234  216  222  243  220  222  198  188  204  209  234  216  235  210\n",
      "  257  250  239  274  312  291  303  334  371  394  429  461  490  517\n",
      "  571  577  628  698  735  789  791  834  884  951 1037 1020 1017 1104\n",
      " 1109 1201 1210 1273 1279 1352 1339 1415 1501 1495 1518 1549 1554 1631\n",
      " 1636 1670 1712 1705 1771 1626 1664 1634 1585 1713 1566 1559 1487 1397\n",
      " 1501 1346 1412 1471 1629 1888 2007 2041 2126 2239 2272 2076 2086 2165\n",
      " 2107 2491 2675 2807 3016 3348 3584 4228 4884 4848 4794 4463 4193 4014\n",
      " 3694 3308 2936 2724 2752 2616 2556 2584 2590 2654 2789 2723 2815 2696\n",
      " 2553 2348 2262 1970 1611 1158  824  522  354  269  249  208  190  212\n",
      "  167  146  131  137  100   96  100  106   92   71   68   51   72   65\n",
      "   55   60   48   44   71   57   56   57   49   44   43   52   45   58\n",
      "   58   66   48   49   45   46   61   48   61   39   57   53   55   56\n",
      "   45   48   49   33   43   39   28   34   21   22   23   24   31   20\n",
      "   28   10    4   32]\n"
     ]
    }
   ],
   "source": [
    "hist=np.zeros((256,)).astype('int')\n",
    "for v in range(0,256):\n",
    "    hist[v]=(im==v).sum()\n",
    "print(hist)"
   ]
  },
  {
   "cell_type": "code",
   "execution_count": 9,
   "id": "66146730",
   "metadata": {},
   "outputs": [
    {
     "name": "stdout",
     "output_type": "stream",
     "text": [
      "[  0   1   2   3   4   5   6   7   8   9  10  11  12  13  14  15  16  17\n",
      "  18  19  20  21  22  23  24  25  26  27  28  29  30  31  32  33  34  35\n",
      "  36  37  38  39  40  41  42  43  44  45  46  47  48  49  50  51  52  53\n",
      "  54  55  56  57  58  59  60  61  62  63  64  65  66  67  68  69  70  71\n",
      "  72  73  74  75  76  77  78  79  80  81  82  83  84  85  86  87  88  89\n",
      "  90  91  92  93  94  95  96  97  98  99 100 101 102 103 104 105 106 107\n",
      " 108 109 110 111 112 113 114 115 116 117 118 119 120 121 122 123 124 125\n",
      " 126 127 128 129 130 131 132 133 134 135 136 137 138 139 140 141 142 143\n",
      " 144 145 146 147 148 149 150 151 152 153 154 155 156 157 158 159 160 161\n",
      " 162 163 164 165 166 167 168 169 170 171 172 173 174 175 176 177 178 179\n",
      " 180 181 182 183 184 185 186 187 188 189 190 191 192 193 194 195 196 197\n",
      " 198 199 200 201 202 203 204 205 206 207 208 209 210 211 212 213 214 215\n",
      " 216 217 218 219 220 221 222 223 224 225 226 227 228 229 230 231 232 233\n",
      " 234 235 236 237 238 239 240 241 242 243 244 245 246 247 248 249 250 251\n",
      " 252 253 254 255]\n",
      "[ 207   90  143  184  247  365  617 1408 3236 4657 3874 5044 5873 6107\n",
      " 6026 4381 2902 1504  861  648  566  506  479  459  397  398  390  397\n",
      "  360  370  333  389  368  366  385  395  359  363  408  354  334  365\n",
      "  364  326  307  277  255  295  261  250  249  271  259  270  254  301\n",
      "  279  277  316  295  310  333  330  340  313  269  255  241  229  248\n",
      "  234  216  222  243  220  222  198  188  204  209  234  216  235  210\n",
      "  257  250  239  274  312  291  303  334  371  394  429  461  490  517\n",
      "  571  577  628  698  735  789  791  834  884  951 1037 1020 1017 1104\n",
      " 1109 1201 1210 1273 1279 1352 1339 1415 1501 1495 1518 1549 1554 1631\n",
      " 1636 1670 1712 1705 1771 1626 1664 1634 1585 1713 1566 1559 1487 1397\n",
      " 1501 1346 1412 1471 1629 1888 2007 2041 2126 2239 2272 2076 2086 2165\n",
      " 2107 2491 2675 2807 3016 3348 3584 4228 4884 4848 4794 4463 4193 4014\n",
      " 3694 3308 2936 2724 2752 2616 2556 2584 2590 2654 2789 2723 2815 2696\n",
      " 2553 2348 2262 1970 1611 1158  824  522  354  269  249  208  190  212\n",
      "  167  146  131  137  100   96  100  106   92   71   68   51   72   65\n",
      "   55   60   48   44   71   57   56   57   49   44   43   52   45   58\n",
      "   58   66   48   49   45   46   61   48   61   39   57   53   55   56\n",
      "   45   48   49   33   43   39   28   34   21   22   23   24   31   20\n",
      "   28   10   36]\n",
      "(255,)\n"
     ]
    }
   ],
   "source": [
    "hist_np, bins = np.histogram(im.flatten(), bins=range(256))\n",
    "print(bins)\n",
    "print(hist_np)\n",
    "print(hist_np.shape)"
   ]
  },
  {
   "cell_type": "code",
   "execution_count": 10,
   "id": "3d12107d",
   "metadata": {},
   "outputs": [
    {
     "name": "stdout",
     "output_type": "stream",
     "text": [
      "[  0   1   2   3   4   5   6   7   8   9  10  11  12  13  14  15  16  17\n",
      "  18  19  20  21  22  23  24  25  26  27  28  29  30  31  32  33  34  35\n",
      "  36  37  38  39  40  41  42  43  44  45  46  47  48  49  50  51  52  53\n",
      "  54  55  56  57  58  59  60  61  62  63  64  65  66  67  68  69  70  71\n",
      "  72  73  74  75  76  77  78  79  80  81  82  83  84  85  86  87  88  89\n",
      "  90  91  92  93  94  95  96  97  98  99 100 101 102 103 104 105 106 107\n",
      " 108 109 110 111 112 113 114 115 116 117 118 119 120 121 122 123 124 125\n",
      " 126 127 128 129 130 131 132 133 134 135 136 137 138 139 140 141 142 143\n",
      " 144 145 146 147 148 149 150 151 152 153 154 155 156 157 158 159 160 161\n",
      " 162 163 164 165 166 167 168 169 170 171 172 173 174 175 176 177 178 179\n",
      " 180 181 182 183 184 185 186 187 188 189 190 191 192 193 194 195 196 197\n",
      " 198 199 200 201 202 203 204 205 206 207 208 209 210 211 212 213 214 215\n",
      " 216 217 218 219 220 221 222 223 224 225 226 227 228 229 230 231 232 233\n",
      " 234 235 236 237 238 239 240 241 242 243 244 245 246 247 248 249 250 251\n",
      " 252 253 254 255 256]\n",
      "[ 207   90  143  184  247  365  617 1408 3236 4657 3874 5044 5873 6107\n",
      " 6026 4381 2902 1504  861  648  566  506  479  459  397  398  390  397\n",
      "  360  370  333  389  368  366  385  395  359  363  408  354  334  365\n",
      "  364  326  307  277  255  295  261  250  249  271  259  270  254  301\n",
      "  279  277  316  295  310  333  330  340  313  269  255  241  229  248\n",
      "  234  216  222  243  220  222  198  188  204  209  234  216  235  210\n",
      "  257  250  239  274  312  291  303  334  371  394  429  461  490  517\n",
      "  571  577  628  698  735  789  791  834  884  951 1037 1020 1017 1104\n",
      " 1109 1201 1210 1273 1279 1352 1339 1415 1501 1495 1518 1549 1554 1631\n",
      " 1636 1670 1712 1705 1771 1626 1664 1634 1585 1713 1566 1559 1487 1397\n",
      " 1501 1346 1412 1471 1629 1888 2007 2041 2126 2239 2272 2076 2086 2165\n",
      " 2107 2491 2675 2807 3016 3348 3584 4228 4884 4848 4794 4463 4193 4014\n",
      " 3694 3308 2936 2724 2752 2616 2556 2584 2590 2654 2789 2723 2815 2696\n",
      " 2553 2348 2262 1970 1611 1158  824  522  354  269  249  208  190  212\n",
      "  167  146  131  137  100   96  100  106   92   71   68   51   72   65\n",
      "   55   60   48   44   71   57   56   57   49   44   43   52   45   58\n",
      "   58   66   48   49   45   46   61   48   61   39   57   53   55   56\n",
      "   45   48   49   33   43   39   28   34   21   22   23   24   31   20\n",
      "   28   10    4   32]\n",
      "(256,)\n"
     ]
    }
   ],
   "source": [
    "hist_np, bins = np.histogram(im.flatten(), bins=range(257))  #最后两个bin加起来了,257才能有256个bin\n",
    "print(bins)\n",
    "print(hist_np)\n",
    "print(hist_np.shape)"
   ]
  },
  {
   "cell_type": "code",
   "execution_count": null,
   "id": "4f14f5d3",
   "metadata": {},
   "outputs": [],
   "source": []
  },
  {
   "cell_type": "code",
   "execution_count": null,
   "id": "5a6add92",
   "metadata": {},
   "outputs": [],
   "source": [
    "# normalized histogram\n",
    "norm_hist = hist/hist.sum()\n",
    "plt.figure(figsize=(15,5))\n",
    "plt.plot(norm_hist)\n",
    "plt.xlabel('Gray level')\n",
    "plt.ylabel('% of pixels')\n",
    "plt.show()"
   ]
  },
  {
   "cell_type": "code",
   "execution_count": null,
   "id": "f11b2a42",
   "metadata": {},
   "outputs": [],
   "source": []
  },
  {
   "cell_type": "code",
   "execution_count": 8,
   "id": "f93a999e",
   "metadata": {},
   "outputs": [
    {
     "data": {
      "image/png": "[encoded data removed]",
      "text/plain": [
       "<Figure size 432x288 with 1 Axes>"
      ]
     },
     "metadata": {
      "needs_background": "light"
     },
     "output_type": "display_data"
    }
   ],
   "source": [
    "# cumulative histogram\n",
    "\n",
    "def cumul_hist(im):\n",
    "    cumul_hist=np.zeros((256,))\n",
    "    c=0\n",
    "    for v in range(256):\n",
    "        c+=(im==v).sum()\n",
    "        cumul_hist[v]=c\n",
    "    cumul_hist/=cumul_hist.max()\n",
    "    return cumul_hist\n",
    "\n",
    "h=cumul_hist(im)\n",
    "\n",
    "plt.figure()\n",
    "plt.plot(h)\n",
    "plt.show()"
   ]
  },
  {
   "cell_type": "code",
   "execution_count": null,
   "id": "f06ea7dd",
   "metadata": {},
   "outputs": [],
   "source": []
  },
  {
   "cell_type": "code",
   "execution_count": null,
   "id": "d28f93b2",
   "metadata": {},
   "outputs": [],
   "source": []
  }
 ],
 "metadata": {
  "kernelspec": {
   "display_name": "Python 3",
   "language": "python",
   "name": "python3"
  },
  "language_info": {
   "codemirror_mode": {
    "name": "ipython",
    "version": 3
   },
   "file_extension": ".py",
   "mimetype": "text/x-python",
   "name": "python",
   "nbconvert_exporter": "python",
   "pygments_lexer": "ipython3",
   "version": "3.8.8"
  }
 },
 "nbformat": 4,
 "nbformat_minor": 5
}
